{
 "cells": [
  {
   "cell_type": "markdown",
   "metadata": {},
   "source": [
    "# Regressão linear simples"
   ]
  },
  {
   "cell_type": "markdown",
   "metadata": {},
   "source": [
    "Francisco Aparecido Rodrigues, francisco@icmc.usp.br.<br>\n",
    "Universidade de São Paulo, São Carlos, Brasil.<br>\n",
    "https://sites.icmc.usp.br/francisco <br>\n",
    "Copyright: Creative Commons"
   ]
  },
  {
   "cell_type": "markdown",
   "metadata": {},
   "source": [
    "<hr>"
   ]
  },
  {
   "cell_type": "markdown",
   "metadata": {},
   "source": [
    "Vamos supor que temos o conjunto de dados abaixo."
   ]
  },
  {
   "cell_type": "code",
   "execution_count": 2,
   "metadata": {},
   "outputs": [
    {
     "data": {
      "image/png": "[encoded data removed]",
      "text/plain": [
       "<Figure size 432x288 with 1 Axes>"
      ]
     },
     "metadata": {
      "needs_background": "light"
     },
     "output_type": "display_data"
    }
   ],
   "source": [
    "import matplotlib.pyplot as plt\n",
    "%matplotlib inline \n",
    "import numpy as np\n",
    "\n",
    "# define os dados\n",
    "x = np.array([0, 1, 2, 3, 4, 5, 6, 7, 8, 9]) \n",
    "y = np.array([1, 3, 2, 5, 7, 8, 8, 9, 10, 12]) \n",
    "plt.plot(x, y, 'bo')\n",
    "plt.xlabel(\"x\", fontsize = 15)\n",
    "plt.ylabel(\"y\", fontsize = 15)\n",
    "plt.show(True)  "
   ]
  },
  {
   "cell_type": "markdown",
   "metadata": {},
   "source": [
    "Vemos que é uma relação entre as variáveis $X$ e $Y$. Queremos determinar um modelo que melhor descreva essa relação. Podemos supor um modelo de regressão linear simples, como:\n",
    "$$\n",
    "y_i \\approx \\beta_0 + \\beta_1x_i\n",
    "$$"
   ]
  },
  {
   "cell_type": "markdown",
   "metadata": {},
   "source": [
    "Como há outros fatores, além de $x_i$ que afetam os valores de $y_i$, podemos escrever:\n",
    "$$\n",
    "y_i = \\beta_0 + \\beta_1 x_i + \\epsilon_i,\n",
    "$$\n",
    "onde $\\epsilon_i$ é uma variável aleatória que indica o erro na aproximação. O objetivo dos métodos de regressão é encontrar o melhor valor de $\\beta_0$ e $\\beta_1$ que minimizem o erro no ajuste. Ou seja, queremos encontrar a linha no plano $x-y$ que melhor se ajuste aos dados observados."
   ]
  },
  {
   "cell_type": "markdown",
   "metadata": {},
   "source": [
    "Estimando os coeficiente através do método dos momentos ou dos mínimos quadrados, obtemos:\n",
    "    $$\n",
    "    \\begin{cases}\n",
    "    \\hat{\\beta}_1=\\frac{\\sum_{i=1}^n (x_i- \\bar{x})(y_i - \\bar{y})}{\\sum_{i=1}^n (x_i - \\bar{x})^2} = \\frac{S{xy}}{S{xx}}\\\\\n",
    "    \\hat{\\beta}_0= \\bar{y}-\\hat{\\beta_1}\\bar{x}\n",
    "    \\end{cases}\n",
    "    $$"
   ]
  },
  {
   "cell_type": "markdown",
   "metadata": {},
   "source": [
    "Vamos implementar uma função para realizar a estimação."
   ]
  },
  {
   "cell_type": "code",
   "execution_count": 3,
   "metadata": {},
   "outputs": [],
   "source": [
    "from statistics import variance \n",
    "import math \n",
    "\n",
    "def estimate_coef(x, y): \n",
    "    # número de observações/pontos\n",
    "    n = np.size(x) \n",
    "  \n",
    "    # médias de x e y\n",
    "    m_x, m_y = np.mean(x), np.mean(y) \n",
    "  \n",
    "    # calculating cross-deviation and deviation about x \n",
    "    SS_xy = np.sum(y*x) - n*m_y*m_x \n",
    "    SS_xx = np.sum(x*x) - n*m_x*m_x \n",
    "  \n",
    "    # calcula os coeficientes de regressão\n",
    "    b_1 = SS_xy / SS_xx \n",
    "    b_0 = m_y - b_1*m_x \n",
    "  \n",
    "    return(b_0, b_1) \n",
    "\n",
    "# função para mostrar os dados e o ajuste linear\n",
    "def plot_regression_line(x, y, b): \n",
    "    # mostra os dados\n",
    "    plt.scatter(x, y, color = \"b\", marker = \"o\", s = 50) \n",
    "  \n",
    "    # prediz os valores\n",
    "    y_pred = b[0] + b[1]*x \n",
    "  \n",
    "    # mostra a reta de regressão\n",
    "    plt.plot(x, y_pred, color = \"r\") \n",
    "  \n",
    "    plt.xlabel('x', fontsize = 15) \n",
    "    plt.ylabel('y', fontsize = 15) \n",
    "    plt.show(True) "
   ]
  },
  {
   "cell_type": "markdown",
   "metadata": {},
   "source": [
    "Assim, aplicando ao conjunto de dados:"
   ]
  },
  {
   "cell_type": "code",
   "execution_count": 4,
   "metadata": {},
   "outputs": [
    {
     "name": "stdout",
     "output_type": "stream",
     "text": [
      "Estimated coefficients:\n",
      "b_0 = 1.2363636363636363  \n",
      "b_1 = 1.1696969696969697\n"
     ]
    },
    {
     "data": {
      "image/png": "[encoded data removed]",
      "text/plain": [
       "<Figure size 432x288 with 1 Axes>"
      ]
     },
     "metadata": {
      "needs_background": "light"
     },
     "output_type": "display_data"
    }
   ],
   "source": [
    "import numpy as np\n",
    "\n",
    "# estima os coeficientes\n",
    "b = estimate_coef(x, y) \n",
    "print(\"Estimated coefficients:\\nb_0 = {}  \\nb_1 = {}\".format(b[0], b[1])) \n",
    "  \n",
    "# mostra o ajuste linear\n",
    "plot_regression_line(x, y, b) "
   ]
  },
  {
   "cell_type": "markdown",
   "metadata": {},
   "source": [
    "Para quantificar a acurácia do modelo, usamos o erro padrão residual (residual standard error):\n",
    "$$\n",
    "RSE = \\sqrt{\\frac{1}{n-2}\\sum_{i=1}^n (y_i-\\hat{y}_i)^2}\n",
    "$$"
   ]
  },
  {
   "cell_type": "code",
   "execution_count": 5,
   "metadata": {},
   "outputs": [
    {
     "name": "stdout",
     "output_type": "stream",
     "text": [
      "RSE: 0.8384690232980003\n"
     ]
    }
   ],
   "source": [
    "#funcao que calcula o RSE\n",
    "def RSE(x,y,b):\n",
    "    n = len(y)\n",
    "    RSE = 0\n",
    "    for i in range(0,n):\n",
    "        y_pred = b[0]+ x[i]*b[1] # valor predito\n",
    "        RSE = RSE + (y[i]-y_pred)**2\n",
    "    RSE = math.sqrt(RSE/(n-2))\n",
    "    return RSE\n",
    "print('RSE:', RSE(x,y,b))"
   ]
  },
  {
   "cell_type": "markdown",
   "metadata": {},
   "source": [
    "Outra medida importante é o coeficiente R2, que mede a proporção da variabilidade em Y que pode ser explicada a partir de X.\n",
    "$$\n",
    "R^2 = 1-\\frac{\\sum_{i=1}^n (y_i-\\hat{y}_i)^2}{\\sum_{i=1}^n(y_i-\\bar{y})^2}, \\quad 0\\leq R^2\\leq 1\n",
    "$$"
   ]
  },
  {
   "cell_type": "code",
   "execution_count": 6,
   "metadata": {},
   "outputs": [
    {
     "name": "stdout",
     "output_type": "stream",
     "text": [
      "R2: 0.952538038613988\n"
     ]
    }
   ],
   "source": [
    "def R2(x,y,b):\n",
    "    n = len(y)\n",
    "    c1 = 0\n",
    "    c2 = 0\n",
    "    ym = np.mean(y)\n",
    "    for i in range(0,n):\n",
    "        y_pred = b[0]+ x[i]*b[1] # valor predito\n",
    "        c1 = c1 + (y[i]-y_pred)**2\n",
    "        c2 = c2 + (y[i]-ym)**2\n",
    "    R2 = 1 - c1/c2\n",
    "    return R2\n",
    "\n",
    "print('R2:', R2(x,y,b))"
   ]
  },
  {
   "cell_type": "markdown",
   "metadata": {},
   "source": [
    "Quanto mais próximo de um, melhor é o ajuste da regressão linear."
   ]
  },
  {
   "cell_type": "markdown",
   "metadata": {},
   "source": [
    "O código completo:"
   ]
  },
  {
   "cell_type": "code",
   "execution_count": 19,
   "metadata": {},
   "outputs": [
    {
     "name": "stdout",
     "output_type": "stream",
     "text": [
      "Coeficientes:\n",
      "b_0 = 1.2363636363636363  \n",
      "b_1 = 1.1696969696969697\n",
      "R2: 0.952538038613988\n"
     ]
    },
    {
     "data": {
      "image/png": "[encoded data removed]",
      "text/plain": [
       "<Figure size 432x288 with 1 Axes>"
      ]
     },
     "metadata": {
      "needs_background": "light"
     },
     "output_type": "display_data"
    }
   ],
   "source": [
    "import matplotlib.pyplot as plt\n",
    "import numpy as np\n",
    "from statistics import variance \n",
    "import math \n",
    "\n",
    "# define os dados\n",
    "x = np.array([0, 1, 2, 3, 4, 5, 6, 7, 8, 9]) \n",
    "y = np.array([1, 3, 2, 5, 7, 8, 8, 9, 10, 12]) \n",
    "\n",
    "# funcao que estima os coeficientes\n",
    "def estimate_coef(x, y): \n",
    "    # número de observações\n",
    "    n = np.size(x) \n",
    "    # estimadores\n",
    "    m_x, m_y = np.mean(x), np.mean(y) \n",
    "    SS_xy = np.sum(y*x) - n*m_y*m_x \n",
    "    SS_xx = np.sum(x*x) - n*m_x*m_x \n",
    "    # calcula os coeficientes de regressão\n",
    "    b_1 = SS_xy / SS_xx \n",
    "    b_0 = m_y - b_1*m_x \n",
    "    return(b_0, b_1) \n",
    "\n",
    "# função para mostrar os dados e o ajuste linear\n",
    "def plot_regression_line(x, y, b): \n",
    "    # mostra os dados\n",
    "    plt.scatter(x, y, color = \"b\", marker = \"o\", s = 50) \n",
    "    # prediz os valores\n",
    "    y_pred = b[0] + b[1]*x \n",
    "    # mostra a reta de regressão\n",
    "    plt.plot(x, y_pred, color = \"r\") \n",
    "    plt.xlabel('x', fontsize = 15) \n",
    "    plt.ylabel('y', fontsize = 15) \n",
    "    plt.show(True) \n",
    "    \n",
    "def R2(x,y,b):\n",
    "    n = len(y)\n",
    "    c1 = 0\n",
    "    c2 = 0\n",
    "    ym = np.mean(y)\n",
    "    for i in range(0,n):\n",
    "        y_pred = b[0]+ x[i]*b[1] # valor predito\n",
    "        c1 = c1 + (y[i]-y_pred)**2\n",
    "        c2 = c2 + (y[i]-ym)**2\n",
    "    R2 = 1 - c1/c2\n",
    "    return R2\n",
    "    \n",
    "# estima os coeficientes\n",
    "b = estimate_coef(x, y) \n",
    "print(\"Coeficientes:\\nb_0 = {}  \\nb_1 = {}\".format(b[0], b[1])) \n",
    "print('R2:', R2(x,y,b))\n",
    "\n",
    "\n",
    "# mostra o ajuste linear\n",
    "plt.plot(x,y,'bo')\n",
    "plt.plot(x, b[0] + b[1]*x, 'r-')\n",
    "plt.savefig('plot.eps')"
   ]
  }
 ],
 "metadata": {
  "kernelspec": {
   "display_name": "Python 3",
   "language": "python",
   "name": "python3"
  },
  "language_info": {
   "codemirror_mode": {
    "name": "ipython",
    "version": 3
   },
   "file_extension": ".py",
   "mimetype": "text/x-python",
   "name": "python",
   "nbconvert_exporter": "python",
   "pygments_lexer": "ipython3",
   "version": "3.7.4"
  }
 },
 "nbformat": 4,
 "nbformat_minor": 2
}
