{
  "nbformat": 4,
  "nbformat_minor": 0,
  "metadata": {
    "kernelspec": {
      "display_name": "Python 3",
      "language": "python",
      "name": "python3"
    },
    "language_info": {
      "codemirror_mode": {
        "name": "ipython",
        "version": 3
      },
      "file_extension": ".py",
      "mimetype": "text/x-python",
      "name": "python",
      "nbconvert_exporter": "python",
      "pygments_lexer": "ipython3",
      "version": "3.7.6"
    },
    "colab": {
      "name": "Credito_1.ipynb",
      "provenance": []
    }
  },
  "cells": [
    {
      "cell_type": "markdown",
      "metadata": {
        "id": "ndKV5VhWOwSi"
      },
      "source": [
        "Análise de Crédito- Parte 1\n",
        "Trilha 8"
      ]
    },
    {
      "cell_type": "code",
      "metadata": {
        "id": "qgppO6EgOwSk"
      },
      "source": [
        "import pandas as pd\n",
        "import matplotlib.pyplot as plt\n",
        "import numpy as np"
      ],
      "execution_count": 80,
      "outputs": []
    },
    {
      "cell_type": "code",
      "metadata": {
        "colab": {
          "base_uri": "https://localhost:8080/"
        },
        "id": "IJCuu8QWOwSl",
        "outputId": "57786397-ebae-439d-ba41-3114749cd151"
      },
      "source": [
        "#Carregamento do Dataset\n",
        "url = \"http://archive.ics.uci.edu/ml/machine-learning-databases/statlog/german/german.data\"\n",
        "names = ['existingchecking', 'duration', 'credithistory', 'purpose', 'creditamount', \n",
        "         'savings', 'employmentsince', 'installmentrate', 'statussex', 'otherdebtors', \n",
        "         'residencesince', 'property', 'age', 'otherinstallmentplans', 'housing', \n",
        "         'existingcredits', 'job', 'peopleliable', 'telephone', 'foreignworker', 'classification']\n",
        "\n",
        "data_src = pd.read_csv(url,names = names, delimiter=' ')\n",
        "print(data_src.shape)\n",
        "print (data_src.columns)\n",
        "data_src.head()\n",
        "data=data_src.copy()"
      ],
      "execution_count": 81,
      "outputs": [
        {
          "output_type": "stream",
          "text": [
            "(1000, 21)\n",
            "Index(['existingchecking', 'duration', 'credithistory', 'purpose',\n",
            "       'creditamount', 'savings', 'employmentsince', 'installmentrate',\n",
            "       'statussex', 'otherdebtors', 'residencesince', 'property', 'age',\n",
            "       'otherinstallmentplans', 'housing', 'existingcredits', 'job',\n",
            "       'peopleliable', 'telephone', 'foreignworker', 'classification'],\n",
            "      dtype='object')\n"
          ],
          "name": "stdout"
        }
      ]
    },
    {
      "cell_type": "code",
      "metadata": {
        "colab": {
          "base_uri": "https://localhost:8080/"
        },
        "id": "mbdErl43OwSo",
        "outputId": "566da690-4d8e-4da4-a80c-8c70caf39408"
      },
      "source": [
        "#Busca por missings\n",
        "data.info()"
      ],
      "execution_count": 82,
      "outputs": [
        {
          "output_type": "stream",
          "text": [
            "<class 'pandas.core.frame.DataFrame'>\n",
            "RangeIndex: 1000 entries, 0 to 999\n",
            "Data columns (total 21 columns):\n",
            " #   Column                 Non-Null Count  Dtype \n",
            "---  ------                 --------------  ----- \n",
            " 0   existingchecking       1000 non-null   object\n",
            " 1   duration               1000 non-null   int64 \n",
            " 2   credithistory          1000 non-null   object\n",
            " 3   purpose                1000 non-null   object\n",
            " 4   creditamount           1000 non-null   int64 \n",
            " 5   savings                1000 non-null   object\n",
            " 6   employmentsince        1000 non-null   object\n",
            " 7   installmentrate        1000 non-null   int64 \n",
            " 8   statussex              1000 non-null   object\n",
            " 9   otherdebtors           1000 non-null   object\n",
            " 10  residencesince         1000 non-null   int64 \n",
            " 11  property               1000 non-null   object\n",
            " 12  age                    1000 non-null   int64 \n",
            " 13  otherinstallmentplans  1000 non-null   object\n",
            " 14  housing                1000 non-null   object\n",
            " 15  existingcredits        1000 non-null   int64 \n",
            " 16  job                    1000 non-null   object\n",
            " 17  peopleliable           1000 non-null   int64 \n",
            " 18  telephone              1000 non-null   object\n",
            " 19  foreignworker          1000 non-null   object\n",
            " 20  classification         1000 non-null   int64 \n",
            "dtypes: int64(8), object(13)\n",
            "memory usage: 164.2+ KB\n"
          ],
          "name": "stdout"
        }
      ]
    },
    {
      "cell_type": "code",
      "metadata": {
        "colab": {
          "base_uri": "https://localhost:8080/"
        },
        "id": "PB_j-Z-4OwSp",
        "outputId": "90f6f96a-b07e-4a4f-bfa5-a5e703d4d497"
      },
      "source": [
        "#verificação do balanceamento das classes\n",
        "data['classification'].value_counts()"
      ],
      "execution_count": 83,
      "outputs": [
        {
          "output_type": "execute_result",
          "data": {
            "text/plain": [
              "1    700\n",
              "2    300\n",
              "Name: classification, dtype: int64"
            ]
          },
          "metadata": {
            "tags": []
          },
          "execution_count": 83
        }
      ]
    },
    {
      "cell_type": "code",
      "metadata": {
        "colab": {
          "base_uri": "https://localhost:8080/",
          "height": 264
        },
        "id": "tj5GTRlVOwSq",
        "outputId": "bf53f4c4-a10d-48cd-affe-8507b4c8752e"
      },
      "source": [
        "plt.pie(data['classification'].value_counts(),autopct='%1.1f%%')\n",
        "plt.title('Balanceamento de Classes')\n",
        "plt.legend(data['classification'].values)\n",
        "plt.show()"
      ],
      "execution_count": 84,
      "outputs": [
        {
          "output_type": "display_data",
          "data": {
            "image/png": "[encoded data removed]",
            "text/plain": [
              "<Figure size 432x288 with 1 Axes>"
            ]
          },
          "metadata": {
            "tags": []
          }
        }
      ]
    },
    {
      "cell_type": "code",
      "metadata": {
        "id": "QoJliKz4OwSq"
      },
      "source": [
        "#distribuições por classe\n",
        "data1=data[data['classification']==1].copy()\n",
        "data2=data[data['classification']==2].copy()\n",
        "data1=data1.sample(frac=0.428)\n",
        "#balanceamento\n",
        "data=pd.concat((data1,data2),axis=0)\n",
        "#embaralhar\n",
        "data=data.sample(frac=1.0)\n",
        "#len(data),data['classification'].sum()#checkings...."
      ],
      "execution_count": 85,
      "outputs": []
    },
    {
      "cell_type": "code",
      "metadata": {
        "colab": {
          "base_uri": "https://localhost:8080/"
        },
        "id": "pWkPr9OwSa9K",
        "outputId": "0981e128-aeaf-4de0-e066-86e530b89d9a"
      },
      "source": [
        "len(data1),len(data2),len(data)"
      ],
      "execution_count": 86,
      "outputs": [
        {
          "output_type": "execute_result",
          "data": {
            "text/plain": [
              "(300, 300, 600)"
            ]
          },
          "metadata": {
            "tags": []
          },
          "execution_count": 86
        }
      ]
    },
    {
      "cell_type": "markdown",
      "metadata": {
        "id": "dZ84UuQIOwSr"
      },
      "source": [
        "Início do tratamento das features categóricas"
      ]
    },
    {
      "cell_type": "code",
      "metadata": {
        "id": "bt6zjhYdOwSr"
      },
      "source": [
        "x=pd.get_dummies(data['existingchecking'])\n"
      ],
      "execution_count": 87,
      "outputs": []
    },
    {
      "cell_type": "code",
      "metadata": {
        "colab": {
          "base_uri": "https://localhost:8080/"
        },
        "id": "WLj_gOFVSwsP",
        "outputId": "54b19d15-3de1-439a-daa1-b60fafe76dd6"
      },
      "source": [
        "data['existingchecking'].value_counts()"
      ],
      "execution_count": 88,
      "outputs": [
        {
          "output_type": "execute_result",
          "data": {
            "text/plain": [
              "A14    202\n",
              "A11    190\n",
              "A12    175\n",
              "A13     33\n",
              "Name: existingchecking, dtype: int64"
            ]
          },
          "metadata": {
            "tags": []
          },
          "execution_count": 88
        }
      ]
    },
    {
      "cell_type": "code",
      "metadata": {
        "colab": {
          "base_uri": "https://localhost:8080/",
          "height": 205
        },
        "id": "18HQCBJZOwSs",
        "outputId": "4f2cb134-3a76-4ac0-dabe-fde702946b45"
      },
      "source": [
        "x.head()"
      ],
      "execution_count": 89,
      "outputs": [
        {
          "output_type": "execute_result",
          "data": {
            "text/html": [
              "<div>\n",
              "<style scoped>\n",
              "    .dataframe tbody tr th:only-of-type {\n",
              "        vertical-align: middle;\n",
              "    }\n",
              "\n",
              "    .dataframe tbody tr th {\n",
              "        vertical-align: top;\n",
              "    }\n",
              "\n",
              "    .dataframe thead th {\n",
              "        text-align: right;\n",
              "    }\n",
              "</style>\n",
              "<table border=\"1\" class=\"dataframe\">\n",
              "  <thead>\n",
              "    <tr style=\"text-align: right;\">\n",
              "      <th></th>\n",
              "      <th>A11</th>\n",
              "      <th>A12</th>\n",
              "      <th>A13</th>\n",
              "      <th>A14</th>\n",
              "    </tr>\n",
              "  </thead>\n",
              "  <tbody>\n",
              "    <tr>\n",
              "      <th>656</th>\n",
              "      <td>0</td>\n",
              "      <td>1</td>\n",
              "      <td>0</td>\n",
              "      <td>0</td>\n",
              "    </tr>\n",
              "    <tr>\n",
              "      <th>775</th>\n",
              "      <td>1</td>\n",
              "      <td>0</td>\n",
              "      <td>0</td>\n",
              "      <td>0</td>\n",
              "    </tr>\n",
              "    <tr>\n",
              "      <th>414</th>\n",
              "      <td>1</td>\n",
              "      <td>0</td>\n",
              "      <td>0</td>\n",
              "      <td>0</td>\n",
              "    </tr>\n",
              "    <tr>\n",
              "      <th>74</th>\n",
              "      <td>1</td>\n",
              "      <td>0</td>\n",
              "      <td>0</td>\n",
              "      <td>0</td>\n",
              "    </tr>\n",
              "    <tr>\n",
              "      <th>768</th>\n",
              "      <td>0</td>\n",
              "      <td>1</td>\n",
              "      <td>0</td>\n",
              "      <td>0</td>\n",
              "    </tr>\n",
              "  </tbody>\n",
              "</table>\n",
              "</div>"
            ],
            "text/plain": [
              "     A11  A12  A13  A14\n",
              "656    0    1    0    0\n",
              "775    1    0    0    0\n",
              "414    1    0    0    0\n",
              "74     1    0    0    0\n",
              "768    0    1    0    0"
            ]
          },
          "metadata": {
            "tags": []
          },
          "execution_count": 89
        }
      ]
    },
    {
      "cell_type": "code",
      "metadata": {
        "id": "cpJVvvtJOwSs"
      },
      "source": [
        "data.insert(1,'ExistA11',x['A11'])\n",
        "data.insert(2,'ExistA12',x['A12'])\n",
        "data.insert(3,'ExistA13',x['A13'])\n",
        "data.insert(4,'ExistA14',x['A14'])"
      ],
      "execution_count": 90,
      "outputs": []
    },
    {
      "cell_type": "code",
      "metadata": {
        "colab": {
          "base_uri": "https://localhost:8080/",
          "height": 382
        },
        "id": "Q6tdscQ7OwSt",
        "outputId": "307c5cd3-7655-4229-9837-e55051092cf9"
      },
      "source": [
        "data.head(10)"
      ],
      "execution_count": 91,
      "outputs": [
        {
          "output_type": "execute_result",
          "data": {
            "text/html": [
              "<div>\n",
              "<style scoped>\n",
              "    .dataframe tbody tr th:only-of-type {\n",
              "        vertical-align: middle;\n",
              "    }\n",
              "\n",
              "    .dataframe tbody tr th {\n",
              "        vertical-align: top;\n",
              "    }\n",
              "\n",
              "    .dataframe thead th {\n",
              "        text-align: right;\n",
              "    }\n",
              "</style>\n",
              "<table border=\"1\" class=\"dataframe\">\n",
              "  <thead>\n",
              "    <tr style=\"text-align: right;\">\n",
              "      <th></th>\n",
              "      <th>existingchecking</th>\n",
              "      <th>ExistA11</th>\n",
              "      <th>ExistA12</th>\n",
              "      <th>ExistA13</th>\n",
              "      <th>ExistA14</th>\n",
              "      <th>duration</th>\n",
              "      <th>credithistory</th>\n",
              "      <th>purpose</th>\n",
              "      <th>creditamount</th>\n",
              "      <th>savings</th>\n",
              "      <th>employmentsince</th>\n",
              "      <th>installmentrate</th>\n",
              "      <th>statussex</th>\n",
              "      <th>otherdebtors</th>\n",
              "      <th>residencesince</th>\n",
              "      <th>property</th>\n",
              "      <th>age</th>\n",
              "      <th>otherinstallmentplans</th>\n",
              "      <th>housing</th>\n",
              "      <th>existingcredits</th>\n",
              "      <th>job</th>\n",
              "      <th>peopleliable</th>\n",
              "      <th>telephone</th>\n",
              "      <th>foreignworker</th>\n",
              "      <th>classification</th>\n",
              "    </tr>\n",
              "  </thead>\n",
              "  <tbody>\n",
              "    <tr>\n",
              "      <th>656</th>\n",
              "      <td>A12</td>\n",
              "      <td>0</td>\n",
              "      <td>1</td>\n",
              "      <td>0</td>\n",
              "      <td>0</td>\n",
              "      <td>12</td>\n",
              "      <td>A32</td>\n",
              "      <td>A40</td>\n",
              "      <td>888</td>\n",
              "      <td>A61</td>\n",
              "      <td>A75</td>\n",
              "      <td>4</td>\n",
              "      <td>A93</td>\n",
              "      <td>A101</td>\n",
              "      <td>4</td>\n",
              "      <td>A123</td>\n",
              "      <td>41</td>\n",
              "      <td>A141</td>\n",
              "      <td>A152</td>\n",
              "      <td>1</td>\n",
              "      <td>A172</td>\n",
              "      <td>2</td>\n",
              "      <td>A191</td>\n",
              "      <td>A201</td>\n",
              "      <td>2</td>\n",
              "    </tr>\n",
              "    <tr>\n",
              "      <th>775</th>\n",
              "      <td>A11</td>\n",
              "      <td>1</td>\n",
              "      <td>0</td>\n",
              "      <td>0</td>\n",
              "      <td>0</td>\n",
              "      <td>24</td>\n",
              "      <td>A32</td>\n",
              "      <td>A40</td>\n",
              "      <td>1371</td>\n",
              "      <td>A65</td>\n",
              "      <td>A73</td>\n",
              "      <td>4</td>\n",
              "      <td>A92</td>\n",
              "      <td>A101</td>\n",
              "      <td>4</td>\n",
              "      <td>A121</td>\n",
              "      <td>25</td>\n",
              "      <td>A143</td>\n",
              "      <td>A151</td>\n",
              "      <td>1</td>\n",
              "      <td>A173</td>\n",
              "      <td>1</td>\n",
              "      <td>A191</td>\n",
              "      <td>A201</td>\n",
              "      <td>2</td>\n",
              "    </tr>\n",
              "    <tr>\n",
              "      <th>414</th>\n",
              "      <td>A11</td>\n",
              "      <td>1</td>\n",
              "      <td>0</td>\n",
              "      <td>0</td>\n",
              "      <td>0</td>\n",
              "      <td>24</td>\n",
              "      <td>A32</td>\n",
              "      <td>A40</td>\n",
              "      <td>1381</td>\n",
              "      <td>A65</td>\n",
              "      <td>A73</td>\n",
              "      <td>4</td>\n",
              "      <td>A92</td>\n",
              "      <td>A101</td>\n",
              "      <td>2</td>\n",
              "      <td>A122</td>\n",
              "      <td>35</td>\n",
              "      <td>A143</td>\n",
              "      <td>A152</td>\n",
              "      <td>1</td>\n",
              "      <td>A173</td>\n",
              "      <td>1</td>\n",
              "      <td>A191</td>\n",
              "      <td>A201</td>\n",
              "      <td>2</td>\n",
              "    </tr>\n",
              "    <tr>\n",
              "      <th>74</th>\n",
              "      <td>A11</td>\n",
              "      <td>1</td>\n",
              "      <td>0</td>\n",
              "      <td>0</td>\n",
              "      <td>0</td>\n",
              "      <td>36</td>\n",
              "      <td>A32</td>\n",
              "      <td>A46</td>\n",
              "      <td>1977</td>\n",
              "      <td>A65</td>\n",
              "      <td>A75</td>\n",
              "      <td>4</td>\n",
              "      <td>A93</td>\n",
              "      <td>A101</td>\n",
              "      <td>4</td>\n",
              "      <td>A124</td>\n",
              "      <td>40</td>\n",
              "      <td>A143</td>\n",
              "      <td>A152</td>\n",
              "      <td>1</td>\n",
              "      <td>A174</td>\n",
              "      <td>1</td>\n",
              "      <td>A192</td>\n",
              "      <td>A201</td>\n",
              "      <td>2</td>\n",
              "    </tr>\n",
              "    <tr>\n",
              "      <th>768</th>\n",
              "      <td>A12</td>\n",
              "      <td>0</td>\n",
              "      <td>1</td>\n",
              "      <td>0</td>\n",
              "      <td>0</td>\n",
              "      <td>12</td>\n",
              "      <td>A34</td>\n",
              "      <td>A42</td>\n",
              "      <td>3617</td>\n",
              "      <td>A61</td>\n",
              "      <td>A75</td>\n",
              "      <td>1</td>\n",
              "      <td>A93</td>\n",
              "      <td>A101</td>\n",
              "      <td>4</td>\n",
              "      <td>A123</td>\n",
              "      <td>28</td>\n",
              "      <td>A143</td>\n",
              "      <td>A151</td>\n",
              "      <td>3</td>\n",
              "      <td>A173</td>\n",
              "      <td>1</td>\n",
              "      <td>A192</td>\n",
              "      <td>A201</td>\n",
              "      <td>1</td>\n",
              "    </tr>\n",
              "    <tr>\n",
              "      <th>913</th>\n",
              "      <td>A14</td>\n",
              "      <td>0</td>\n",
              "      <td>0</td>\n",
              "      <td>0</td>\n",
              "      <td>1</td>\n",
              "      <td>11</td>\n",
              "      <td>A32</td>\n",
              "      <td>A49</td>\n",
              "      <td>2142</td>\n",
              "      <td>A64</td>\n",
              "      <td>A75</td>\n",
              "      <td>1</td>\n",
              "      <td>A91</td>\n",
              "      <td>A101</td>\n",
              "      <td>2</td>\n",
              "      <td>A121</td>\n",
              "      <td>28</td>\n",
              "      <td>A143</td>\n",
              "      <td>A152</td>\n",
              "      <td>1</td>\n",
              "      <td>A173</td>\n",
              "      <td>1</td>\n",
              "      <td>A192</td>\n",
              "      <td>A201</td>\n",
              "      <td>1</td>\n",
              "    </tr>\n",
              "    <tr>\n",
              "      <th>223</th>\n",
              "      <td>A14</td>\n",
              "      <td>0</td>\n",
              "      <td>0</td>\n",
              "      <td>0</td>\n",
              "      <td>1</td>\n",
              "      <td>24</td>\n",
              "      <td>A33</td>\n",
              "      <td>A49</td>\n",
              "      <td>2978</td>\n",
              "      <td>A65</td>\n",
              "      <td>A73</td>\n",
              "      <td>4</td>\n",
              "      <td>A93</td>\n",
              "      <td>A101</td>\n",
              "      <td>4</td>\n",
              "      <td>A121</td>\n",
              "      <td>32</td>\n",
              "      <td>A143</td>\n",
              "      <td>A152</td>\n",
              "      <td>2</td>\n",
              "      <td>A173</td>\n",
              "      <td>2</td>\n",
              "      <td>A192</td>\n",
              "      <td>A201</td>\n",
              "      <td>1</td>\n",
              "    </tr>\n",
              "    <tr>\n",
              "      <th>984</th>\n",
              "      <td>A14</td>\n",
              "      <td>0</td>\n",
              "      <td>0</td>\n",
              "      <td>0</td>\n",
              "      <td>1</td>\n",
              "      <td>24</td>\n",
              "      <td>A34</td>\n",
              "      <td>A42</td>\n",
              "      <td>2028</td>\n",
              "      <td>A61</td>\n",
              "      <td>A74</td>\n",
              "      <td>2</td>\n",
              "      <td>A93</td>\n",
              "      <td>A101</td>\n",
              "      <td>2</td>\n",
              "      <td>A122</td>\n",
              "      <td>30</td>\n",
              "      <td>A143</td>\n",
              "      <td>A152</td>\n",
              "      <td>2</td>\n",
              "      <td>A172</td>\n",
              "      <td>1</td>\n",
              "      <td>A191</td>\n",
              "      <td>A201</td>\n",
              "      <td>1</td>\n",
              "    </tr>\n",
              "    <tr>\n",
              "      <th>155</th>\n",
              "      <td>A11</td>\n",
              "      <td>1</td>\n",
              "      <td>0</td>\n",
              "      <td>0</td>\n",
              "      <td>0</td>\n",
              "      <td>12</td>\n",
              "      <td>A32</td>\n",
              "      <td>A42</td>\n",
              "      <td>1282</td>\n",
              "      <td>A61</td>\n",
              "      <td>A73</td>\n",
              "      <td>2</td>\n",
              "      <td>A92</td>\n",
              "      <td>A101</td>\n",
              "      <td>4</td>\n",
              "      <td>A123</td>\n",
              "      <td>20</td>\n",
              "      <td>A143</td>\n",
              "      <td>A151</td>\n",
              "      <td>1</td>\n",
              "      <td>A173</td>\n",
              "      <td>1</td>\n",
              "      <td>A191</td>\n",
              "      <td>A201</td>\n",
              "      <td>2</td>\n",
              "    </tr>\n",
              "    <tr>\n",
              "      <th>188</th>\n",
              "      <td>A11</td>\n",
              "      <td>1</td>\n",
              "      <td>0</td>\n",
              "      <td>0</td>\n",
              "      <td>0</td>\n",
              "      <td>12</td>\n",
              "      <td>A32</td>\n",
              "      <td>A43</td>\n",
              "      <td>674</td>\n",
              "      <td>A62</td>\n",
              "      <td>A74</td>\n",
              "      <td>4</td>\n",
              "      <td>A94</td>\n",
              "      <td>A101</td>\n",
              "      <td>1</td>\n",
              "      <td>A122</td>\n",
              "      <td>20</td>\n",
              "      <td>A143</td>\n",
              "      <td>A152</td>\n",
              "      <td>1</td>\n",
              "      <td>A173</td>\n",
              "      <td>1</td>\n",
              "      <td>A191</td>\n",
              "      <td>A201</td>\n",
              "      <td>2</td>\n",
              "    </tr>\n",
              "  </tbody>\n",
              "</table>\n",
              "</div>"
            ],
            "text/plain": [
              "    existingchecking  ExistA11  ...  foreignworker  classification\n",
              "656              A12         0  ...           A201               2\n",
              "775              A11         1  ...           A201               2\n",
              "414              A11         1  ...           A201               2\n",
              "74               A11         1  ...           A201               2\n",
              "768              A12         0  ...           A201               1\n",
              "913              A14         0  ...           A201               1\n",
              "223              A14         0  ...           A201               1\n",
              "984              A14         0  ...           A201               1\n",
              "155              A11         1  ...           A201               2\n",
              "188              A11         1  ...           A201               2\n",
              "\n",
              "[10 rows x 25 columns]"
            ]
          },
          "metadata": {
            "tags": []
          },
          "execution_count": 91
        }
      ]
    },
    {
      "cell_type": "code",
      "metadata": {
        "id": "urFexlOIOwSt"
      },
      "source": [
        "x=pd.get_dummies(data['credithistory'])"
      ],
      "execution_count": 92,
      "outputs": []
    },
    {
      "cell_type": "code",
      "metadata": {
        "colab": {
          "base_uri": "https://localhost:8080/",
          "height": 205
        },
        "id": "dvP_LtdPOwSt",
        "outputId": "2bf4acf0-2ec9-4d31-e96e-9be17d6ddd0a"
      },
      "source": [
        "x.head()"
      ],
      "execution_count": 93,
      "outputs": [
        {
          "output_type": "execute_result",
          "data": {
            "text/html": [
              "<div>\n",
              "<style scoped>\n",
              "    .dataframe tbody tr th:only-of-type {\n",
              "        vertical-align: middle;\n",
              "    }\n",
              "\n",
              "    .dataframe tbody tr th {\n",
              "        vertical-align: top;\n",
              "    }\n",
              "\n",
              "    .dataframe thead th {\n",
              "        text-align: right;\n",
              "    }\n",
              "</style>\n",
              "<table border=\"1\" class=\"dataframe\">\n",
              "  <thead>\n",
              "    <tr style=\"text-align: right;\">\n",
              "      <th></th>\n",
              "      <th>A30</th>\n",
              "      <th>A31</th>\n",
              "      <th>A32</th>\n",
              "      <th>A33</th>\n",
              "      <th>A34</th>\n",
              "    </tr>\n",
              "  </thead>\n",
              "  <tbody>\n",
              "    <tr>\n",
              "      <th>656</th>\n",
              "      <td>0</td>\n",
              "      <td>0</td>\n",
              "      <td>1</td>\n",
              "      <td>0</td>\n",
              "      <td>0</td>\n",
              "    </tr>\n",
              "    <tr>\n",
              "      <th>775</th>\n",
              "      <td>0</td>\n",
              "      <td>0</td>\n",
              "      <td>1</td>\n",
              "      <td>0</td>\n",
              "      <td>0</td>\n",
              "    </tr>\n",
              "    <tr>\n",
              "      <th>414</th>\n",
              "      <td>0</td>\n",
              "      <td>0</td>\n",
              "      <td>1</td>\n",
              "      <td>0</td>\n",
              "      <td>0</td>\n",
              "    </tr>\n",
              "    <tr>\n",
              "      <th>74</th>\n",
              "      <td>0</td>\n",
              "      <td>0</td>\n",
              "      <td>1</td>\n",
              "      <td>0</td>\n",
              "      <td>0</td>\n",
              "    </tr>\n",
              "    <tr>\n",
              "      <th>768</th>\n",
              "      <td>0</td>\n",
              "      <td>0</td>\n",
              "      <td>0</td>\n",
              "      <td>0</td>\n",
              "      <td>1</td>\n",
              "    </tr>\n",
              "  </tbody>\n",
              "</table>\n",
              "</div>"
            ],
            "text/plain": [
              "     A30  A31  A32  A33  A34\n",
              "656    0    0    1    0    0\n",
              "775    0    0    1    0    0\n",
              "414    0    0    1    0    0\n",
              "74     0    0    1    0    0\n",
              "768    0    0    0    0    1"
            ]
          },
          "metadata": {
            "tags": []
          },
          "execution_count": 93
        }
      ]
    },
    {
      "cell_type": "code",
      "metadata": {
        "id": "ZPWO6-S5OwSu"
      },
      "source": [
        "data.insert(7,'credhistA30',x['A30'])\n",
        "data.insert(8,'credhistA31',x['A31'])\n",
        "data.insert(9,'credhistA32',x['A32'])\n",
        "data.insert(10,'credhistA33',x['A33'])\n",
        "data.insert(11,'credhistA34',x['A34'])"
      ],
      "execution_count": 94,
      "outputs": []
    },
    {
      "cell_type": "code",
      "metadata": {
        "colab": {
          "base_uri": "https://localhost:8080/",
          "height": 225
        },
        "id": "ebGptZfDOwSu",
        "outputId": "5e0825b3-7f22-4f22-8d1d-9119f1f04c99"
      },
      "source": [
        "data.head()"
      ],
      "execution_count": 95,
      "outputs": [
        {
          "output_type": "execute_result",
          "data": {
            "text/html": [
              "<div>\n",
              "<style scoped>\n",
              "    .dataframe tbody tr th:only-of-type {\n",
              "        vertical-align: middle;\n",
              "    }\n",
              "\n",
              "    .dataframe tbody tr th {\n",
              "        vertical-align: top;\n",
              "    }\n",
              "\n",
              "    .dataframe thead th {\n",
              "        text-align: right;\n",
              "    }\n",
              "</style>\n",
              "<table border=\"1\" class=\"dataframe\">\n",
              "  <thead>\n",
              "    <tr style=\"text-align: right;\">\n",
              "      <th></th>\n",
              "      <th>existingchecking</th>\n",
              "      <th>ExistA11</th>\n",
              "      <th>ExistA12</th>\n",
              "      <th>ExistA13</th>\n",
              "      <th>ExistA14</th>\n",
              "      <th>duration</th>\n",
              "      <th>credithistory</th>\n",
              "      <th>credhistA30</th>\n",
              "      <th>credhistA31</th>\n",
              "      <th>credhistA32</th>\n",
              "      <th>credhistA33</th>\n",
              "      <th>credhistA34</th>\n",
              "      <th>purpose</th>\n",
              "      <th>creditamount</th>\n",
              "      <th>savings</th>\n",
              "      <th>employmentsince</th>\n",
              "      <th>installmentrate</th>\n",
              "      <th>statussex</th>\n",
              "      <th>otherdebtors</th>\n",
              "      <th>residencesince</th>\n",
              "      <th>property</th>\n",
              "      <th>age</th>\n",
              "      <th>otherinstallmentplans</th>\n",
              "      <th>housing</th>\n",
              "      <th>existingcredits</th>\n",
              "      <th>job</th>\n",
              "      <th>peopleliable</th>\n",
              "      <th>telephone</th>\n",
              "      <th>foreignworker</th>\n",
              "      <th>classification</th>\n",
              "    </tr>\n",
              "  </thead>\n",
              "  <tbody>\n",
              "    <tr>\n",
              "      <th>656</th>\n",
              "      <td>A12</td>\n",
              "      <td>0</td>\n",
              "      <td>1</td>\n",
              "      <td>0</td>\n",
              "      <td>0</td>\n",
              "      <td>12</td>\n",
              "      <td>A32</td>\n",
              "      <td>0</td>\n",
              "      <td>0</td>\n",
              "      <td>1</td>\n",
              "      <td>0</td>\n",
              "      <td>0</td>\n",
              "      <td>A40</td>\n",
              "      <td>888</td>\n",
              "      <td>A61</td>\n",
              "      <td>A75</td>\n",
              "      <td>4</td>\n",
              "      <td>A93</td>\n",
              "      <td>A101</td>\n",
              "      <td>4</td>\n",
              "      <td>A123</td>\n",
              "      <td>41</td>\n",
              "      <td>A141</td>\n",
              "      <td>A152</td>\n",
              "      <td>1</td>\n",
              "      <td>A172</td>\n",
              "      <td>2</td>\n",
              "      <td>A191</td>\n",
              "      <td>A201</td>\n",
              "      <td>2</td>\n",
              "    </tr>\n",
              "    <tr>\n",
              "      <th>775</th>\n",
              "      <td>A11</td>\n",
              "      <td>1</td>\n",
              "      <td>0</td>\n",
              "      <td>0</td>\n",
              "      <td>0</td>\n",
              "      <td>24</td>\n",
              "      <td>A32</td>\n",
              "      <td>0</td>\n",
              "      <td>0</td>\n",
              "      <td>1</td>\n",
              "      <td>0</td>\n",
              "      <td>0</td>\n",
              "      <td>A40</td>\n",
              "      <td>1371</td>\n",
              "      <td>A65</td>\n",
              "      <td>A73</td>\n",
              "      <td>4</td>\n",
              "      <td>A92</td>\n",
              "      <td>A101</td>\n",
              "      <td>4</td>\n",
              "      <td>A121</td>\n",
              "      <td>25</td>\n",
              "      <td>A143</td>\n",
              "      <td>A151</td>\n",
              "      <td>1</td>\n",
              "      <td>A173</td>\n",
              "      <td>1</td>\n",
              "      <td>A191</td>\n",
              "      <td>A201</td>\n",
              "      <td>2</td>\n",
              "    </tr>\n",
              "    <tr>\n",
              "      <th>414</th>\n",
              "      <td>A11</td>\n",
              "      <td>1</td>\n",
              "      <td>0</td>\n",
              "      <td>0</td>\n",
              "      <td>0</td>\n",
              "      <td>24</td>\n",
              "      <td>A32</td>\n",
              "      <td>0</td>\n",
              "      <td>0</td>\n",
              "      <td>1</td>\n",
              "      <td>0</td>\n",
              "      <td>0</td>\n",
              "      <td>A40</td>\n",
              "      <td>1381</td>\n",
              "      <td>A65</td>\n",
              "      <td>A73</td>\n",
              "      <td>4</td>\n",
              "      <td>A92</td>\n",
              "      <td>A101</td>\n",
              "      <td>2</td>\n",
              "      <td>A122</td>\n",
              "      <td>35</td>\n",
              "      <td>A143</td>\n",
              "      <td>A152</td>\n",
              "      <td>1</td>\n",
              "      <td>A173</td>\n",
              "      <td>1</td>\n",
              "      <td>A191</td>\n",
              "      <td>A201</td>\n",
              "      <td>2</td>\n",
              "    </tr>\n",
              "    <tr>\n",
              "      <th>74</th>\n",
              "      <td>A11</td>\n",
              "      <td>1</td>\n",
              "      <td>0</td>\n",
              "      <td>0</td>\n",
              "      <td>0</td>\n",
              "      <td>36</td>\n",
              "      <td>A32</td>\n",
              "      <td>0</td>\n",
              "      <td>0</td>\n",
              "      <td>1</td>\n",
              "      <td>0</td>\n",
              "      <td>0</td>\n",
              "      <td>A46</td>\n",
              "      <td>1977</td>\n",
              "      <td>A65</td>\n",
              "      <td>A75</td>\n",
              "      <td>4</td>\n",
              "      <td>A93</td>\n",
              "      <td>A101</td>\n",
              "      <td>4</td>\n",
              "      <td>A124</td>\n",
              "      <td>40</td>\n",
              "      <td>A143</td>\n",
              "      <td>A152</td>\n",
              "      <td>1</td>\n",
              "      <td>A174</td>\n",
              "      <td>1</td>\n",
              "      <td>A192</td>\n",
              "      <td>A201</td>\n",
              "      <td>2</td>\n",
              "    </tr>\n",
              "    <tr>\n",
              "      <th>768</th>\n",
              "      <td>A12</td>\n",
              "      <td>0</td>\n",
              "      <td>1</td>\n",
              "      <td>0</td>\n",
              "      <td>0</td>\n",
              "      <td>12</td>\n",
              "      <td>A34</td>\n",
              "      <td>0</td>\n",
              "      <td>0</td>\n",
              "      <td>0</td>\n",
              "      <td>0</td>\n",
              "      <td>1</td>\n",
              "      <td>A42</td>\n",
              "      <td>3617</td>\n",
              "      <td>A61</td>\n",
              "      <td>A75</td>\n",
              "      <td>1</td>\n",
              "      <td>A93</td>\n",
              "      <td>A101</td>\n",
              "      <td>4</td>\n",
              "      <td>A123</td>\n",
              "      <td>28</td>\n",
              "      <td>A143</td>\n",
              "      <td>A151</td>\n",
              "      <td>3</td>\n",
              "      <td>A173</td>\n",
              "      <td>1</td>\n",
              "      <td>A192</td>\n",
              "      <td>A201</td>\n",
              "      <td>1</td>\n",
              "    </tr>\n",
              "  </tbody>\n",
              "</table>\n",
              "</div>"
            ],
            "text/plain": [
              "    existingchecking  ExistA11  ...  foreignworker  classification\n",
              "656              A12         0  ...           A201               2\n",
              "775              A11         1  ...           A201               2\n",
              "414              A11         1  ...           A201               2\n",
              "74               A11         1  ...           A201               2\n",
              "768              A12         0  ...           A201               1\n",
              "\n",
              "[5 rows x 30 columns]"
            ]
          },
          "metadata": {
            "tags": []
          },
          "execution_count": 95
        }
      ]
    },
    {
      "cell_type": "code",
      "metadata": {
        "colab": {
          "base_uri": "https://localhost:8080/",
          "height": 205
        },
        "id": "MT2mcDPOOwSv",
        "outputId": "9cf5d889-900c-4582-ca39-5355b06e42bd"
      },
      "source": [
        "x=pd.get_dummies(data['purpose'])\n",
        "x.head()"
      ],
      "execution_count": 96,
      "outputs": [
        {
          "output_type": "execute_result",
          "data": {
            "text/html": [
              "<div>\n",
              "<style scoped>\n",
              "    .dataframe tbody tr th:only-of-type {\n",
              "        vertical-align: middle;\n",
              "    }\n",
              "\n",
              "    .dataframe tbody tr th {\n",
              "        vertical-align: top;\n",
              "    }\n",
              "\n",
              "    .dataframe thead th {\n",
              "        text-align: right;\n",
              "    }\n",
              "</style>\n",
              "<table border=\"1\" class=\"dataframe\">\n",
              "  <thead>\n",
              "    <tr style=\"text-align: right;\">\n",
              "      <th></th>\n",
              "      <th>A40</th>\n",
              "      <th>A41</th>\n",
              "      <th>A410</th>\n",
              "      <th>A42</th>\n",
              "      <th>A43</th>\n",
              "      <th>A44</th>\n",
              "      <th>A45</th>\n",
              "      <th>A46</th>\n",
              "      <th>A48</th>\n",
              "      <th>A49</th>\n",
              "    </tr>\n",
              "  </thead>\n",
              "  <tbody>\n",
              "    <tr>\n",
              "      <th>656</th>\n",
              "      <td>1</td>\n",
              "      <td>0</td>\n",
              "      <td>0</td>\n",
              "      <td>0</td>\n",
              "      <td>0</td>\n",
              "      <td>0</td>\n",
              "      <td>0</td>\n",
              "      <td>0</td>\n",
              "      <td>0</td>\n",
              "      <td>0</td>\n",
              "    </tr>\n",
              "    <tr>\n",
              "      <th>775</th>\n",
              "      <td>1</td>\n",
              "      <td>0</td>\n",
              "      <td>0</td>\n",
              "      <td>0</td>\n",
              "      <td>0</td>\n",
              "      <td>0</td>\n",
              "      <td>0</td>\n",
              "      <td>0</td>\n",
              "      <td>0</td>\n",
              "      <td>0</td>\n",
              "    </tr>\n",
              "    <tr>\n",
              "      <th>414</th>\n",
              "      <td>1</td>\n",
              "      <td>0</td>\n",
              "      <td>0</td>\n",
              "      <td>0</td>\n",
              "      <td>0</td>\n",
              "      <td>0</td>\n",
              "      <td>0</td>\n",
              "      <td>0</td>\n",
              "      <td>0</td>\n",
              "      <td>0</td>\n",
              "    </tr>\n",
              "    <tr>\n",
              "      <th>74</th>\n",
              "      <td>0</td>\n",
              "      <td>0</td>\n",
              "      <td>0</td>\n",
              "      <td>0</td>\n",
              "      <td>0</td>\n",
              "      <td>0</td>\n",
              "      <td>0</td>\n",
              "      <td>1</td>\n",
              "      <td>0</td>\n",
              "      <td>0</td>\n",
              "    </tr>\n",
              "    <tr>\n",
              "      <th>768</th>\n",
              "      <td>0</td>\n",
              "      <td>0</td>\n",
              "      <td>0</td>\n",
              "      <td>1</td>\n",
              "      <td>0</td>\n",
              "      <td>0</td>\n",
              "      <td>0</td>\n",
              "      <td>0</td>\n",
              "      <td>0</td>\n",
              "      <td>0</td>\n",
              "    </tr>\n",
              "  </tbody>\n",
              "</table>\n",
              "</div>"
            ],
            "text/plain": [
              "     A40  A41  A410  A42  A43  A44  A45  A46  A48  A49\n",
              "656    1    0     0    0    0    0    0    0    0    0\n",
              "775    1    0     0    0    0    0    0    0    0    0\n",
              "414    1    0     0    0    0    0    0    0    0    0\n",
              "74     0    0     0    0    0    0    0    1    0    0\n",
              "768    0    0     0    1    0    0    0    0    0    0"
            ]
          },
          "metadata": {
            "tags": []
          },
          "execution_count": 96
        }
      ]
    },
    {
      "cell_type": "code",
      "metadata": {
        "id": "90uLrQULOwSv"
      },
      "source": [
        "data.insert(13,'purposeA40',x['A40'])\n",
        "data.insert(14,'purposeA41',x['A41'])\n",
        "data.insert(15,'purposeA410',x['A410'])\n",
        "data.insert(16,'purposeA42',x['A42'])\n",
        "data.insert(17,'purposeA43',x['A43'])\n",
        "data.insert(18,'purposeA44',x['A44'])\n",
        "data.insert(19,'purposeA45',x['A45'])\n",
        "data.insert(20,'purposeA46',x['A46'])\n",
        "data.insert(21,'purposeA48',x['A48'])\n",
        "data.insert(22,'purposeA49',x['A49'])"
      ],
      "execution_count": 97,
      "outputs": []
    },
    {
      "cell_type": "code",
      "metadata": {
        "colab": {
          "base_uri": "https://localhost:8080/",
          "height": 35
        },
        "id": "hgBcGvTBOwSv",
        "outputId": "8d503c26-30fb-4205-c6bb-0c8c2a591504"
      },
      "source": [
        "data.columns[24]"
      ],
      "execution_count": 98,
      "outputs": [
        {
          "output_type": "execute_result",
          "data": {
            "application/vnd.google.colaboratory.intrinsic+json": {
              "type": "string"
            },
            "text/plain": [
              "'savings'"
            ]
          },
          "metadata": {
            "tags": []
          },
          "execution_count": 98
        }
      ]
    },
    {
      "cell_type": "code",
      "metadata": {
        "colab": {
          "base_uri": "https://localhost:8080/",
          "height": 205
        },
        "id": "uPElXdq6OwSw",
        "outputId": "f80e3668-5a05-4656-ddfc-ae531e7bfe00"
      },
      "source": [
        "x=pd.get_dummies(data['savings'])\n",
        "x.head()"
      ],
      "execution_count": 99,
      "outputs": [
        {
          "output_type": "execute_result",
          "data": {
            "text/html": [
              "<div>\n",
              "<style scoped>\n",
              "    .dataframe tbody tr th:only-of-type {\n",
              "        vertical-align: middle;\n",
              "    }\n",
              "\n",
              "    .dataframe tbody tr th {\n",
              "        vertical-align: top;\n",
              "    }\n",
              "\n",
              "    .dataframe thead th {\n",
              "        text-align: right;\n",
              "    }\n",
              "</style>\n",
              "<table border=\"1\" class=\"dataframe\">\n",
              "  <thead>\n",
              "    <tr style=\"text-align: right;\">\n",
              "      <th></th>\n",
              "      <th>A61</th>\n",
              "      <th>A62</th>\n",
              "      <th>A63</th>\n",
              "      <th>A64</th>\n",
              "      <th>A65</th>\n",
              "    </tr>\n",
              "  </thead>\n",
              "  <tbody>\n",
              "    <tr>\n",
              "      <th>656</th>\n",
              "      <td>1</td>\n",
              "      <td>0</td>\n",
              "      <td>0</td>\n",
              "      <td>0</td>\n",
              "      <td>0</td>\n",
              "    </tr>\n",
              "    <tr>\n",
              "      <th>775</th>\n",
              "      <td>0</td>\n",
              "      <td>0</td>\n",
              "      <td>0</td>\n",
              "      <td>0</td>\n",
              "      <td>1</td>\n",
              "    </tr>\n",
              "    <tr>\n",
              "      <th>414</th>\n",
              "      <td>0</td>\n",
              "      <td>0</td>\n",
              "      <td>0</td>\n",
              "      <td>0</td>\n",
              "      <td>1</td>\n",
              "    </tr>\n",
              "    <tr>\n",
              "      <th>74</th>\n",
              "      <td>0</td>\n",
              "      <td>0</td>\n",
              "      <td>0</td>\n",
              "      <td>0</td>\n",
              "      <td>1</td>\n",
              "    </tr>\n",
              "    <tr>\n",
              "      <th>768</th>\n",
              "      <td>1</td>\n",
              "      <td>0</td>\n",
              "      <td>0</td>\n",
              "      <td>0</td>\n",
              "      <td>0</td>\n",
              "    </tr>\n",
              "  </tbody>\n",
              "</table>\n",
              "</div>"
            ],
            "text/plain": [
              "     A61  A62  A63  A64  A65\n",
              "656    1    0    0    0    0\n",
              "775    0    0    0    0    1\n",
              "414    0    0    0    0    1\n",
              "74     0    0    0    0    1\n",
              "768    1    0    0    0    0"
            ]
          },
          "metadata": {
            "tags": []
          },
          "execution_count": 99
        }
      ]
    },
    {
      "cell_type": "code",
      "metadata": {
        "id": "QssNrwNoOwSw"
      },
      "source": [
        "data.insert(25,'savingsA61',x['A61'])\n",
        "data.insert(26,'savingsA62',x['A62'])\n",
        "data.insert(27,'savingsA63',x['A63'])\n",
        "data.insert(28,'savingsA64',x['A64'])\n",
        "data.insert(29,'savingsA65',x['A65'])\n"
      ],
      "execution_count": 100,
      "outputs": []
    },
    {
      "cell_type": "code",
      "metadata": {
        "colab": {
          "base_uri": "https://localhost:8080/",
          "height": 225
        },
        "id": "OZNkZEwROwSx",
        "outputId": "0c3d484d-fe0e-4be8-e4cf-b1c106dbe9ad"
      },
      "source": [
        "data[data.columns[20:38]].head()"
      ],
      "execution_count": 101,
      "outputs": [
        {
          "output_type": "execute_result",
          "data": {
            "text/html": [
              "<div>\n",
              "<style scoped>\n",
              "    .dataframe tbody tr th:only-of-type {\n",
              "        vertical-align: middle;\n",
              "    }\n",
              "\n",
              "    .dataframe tbody tr th {\n",
              "        vertical-align: top;\n",
              "    }\n",
              "\n",
              "    .dataframe thead th {\n",
              "        text-align: right;\n",
              "    }\n",
              "</style>\n",
              "<table border=\"1\" class=\"dataframe\">\n",
              "  <thead>\n",
              "    <tr style=\"text-align: right;\">\n",
              "      <th></th>\n",
              "      <th>purposeA46</th>\n",
              "      <th>purposeA48</th>\n",
              "      <th>purposeA49</th>\n",
              "      <th>creditamount</th>\n",
              "      <th>savings</th>\n",
              "      <th>savingsA61</th>\n",
              "      <th>savingsA62</th>\n",
              "      <th>savingsA63</th>\n",
              "      <th>savingsA64</th>\n",
              "      <th>savingsA65</th>\n",
              "      <th>employmentsince</th>\n",
              "      <th>installmentrate</th>\n",
              "      <th>statussex</th>\n",
              "      <th>otherdebtors</th>\n",
              "      <th>residencesince</th>\n",
              "      <th>property</th>\n",
              "      <th>age</th>\n",
              "      <th>otherinstallmentplans</th>\n",
              "    </tr>\n",
              "  </thead>\n",
              "  <tbody>\n",
              "    <tr>\n",
              "      <th>656</th>\n",
              "      <td>0</td>\n",
              "      <td>0</td>\n",
              "      <td>0</td>\n",
              "      <td>888</td>\n",
              "      <td>A61</td>\n",
              "      <td>1</td>\n",
              "      <td>0</td>\n",
              "      <td>0</td>\n",
              "      <td>0</td>\n",
              "      <td>0</td>\n",
              "      <td>A75</td>\n",
              "      <td>4</td>\n",
              "      <td>A93</td>\n",
              "      <td>A101</td>\n",
              "      <td>4</td>\n",
              "      <td>A123</td>\n",
              "      <td>41</td>\n",
              "      <td>A141</td>\n",
              "    </tr>\n",
              "    <tr>\n",
              "      <th>775</th>\n",
              "      <td>0</td>\n",
              "      <td>0</td>\n",
              "      <td>0</td>\n",
              "      <td>1371</td>\n",
              "      <td>A65</td>\n",
              "      <td>0</td>\n",
              "      <td>0</td>\n",
              "      <td>0</td>\n",
              "      <td>0</td>\n",
              "      <td>1</td>\n",
              "      <td>A73</td>\n",
              "      <td>4</td>\n",
              "      <td>A92</td>\n",
              "      <td>A101</td>\n",
              "      <td>4</td>\n",
              "      <td>A121</td>\n",
              "      <td>25</td>\n",
              "      <td>A143</td>\n",
              "    </tr>\n",
              "    <tr>\n",
              "      <th>414</th>\n",
              "      <td>0</td>\n",
              "      <td>0</td>\n",
              "      <td>0</td>\n",
              "      <td>1381</td>\n",
              "      <td>A65</td>\n",
              "      <td>0</td>\n",
              "      <td>0</td>\n",
              "      <td>0</td>\n",
              "      <td>0</td>\n",
              "      <td>1</td>\n",
              "      <td>A73</td>\n",
              "      <td>4</td>\n",
              "      <td>A92</td>\n",
              "      <td>A101</td>\n",
              "      <td>2</td>\n",
              "      <td>A122</td>\n",
              "      <td>35</td>\n",
              "      <td>A143</td>\n",
              "    </tr>\n",
              "    <tr>\n",
              "      <th>74</th>\n",
              "      <td>1</td>\n",
              "      <td>0</td>\n",
              "      <td>0</td>\n",
              "      <td>1977</td>\n",
              "      <td>A65</td>\n",
              "      <td>0</td>\n",
              "      <td>0</td>\n",
              "      <td>0</td>\n",
              "      <td>0</td>\n",
              "      <td>1</td>\n",
              "      <td>A75</td>\n",
              "      <td>4</td>\n",
              "      <td>A93</td>\n",
              "      <td>A101</td>\n",
              "      <td>4</td>\n",
              "      <td>A124</td>\n",
              "      <td>40</td>\n",
              "      <td>A143</td>\n",
              "    </tr>\n",
              "    <tr>\n",
              "      <th>768</th>\n",
              "      <td>0</td>\n",
              "      <td>0</td>\n",
              "      <td>0</td>\n",
              "      <td>3617</td>\n",
              "      <td>A61</td>\n",
              "      <td>1</td>\n",
              "      <td>0</td>\n",
              "      <td>0</td>\n",
              "      <td>0</td>\n",
              "      <td>0</td>\n",
              "      <td>A75</td>\n",
              "      <td>1</td>\n",
              "      <td>A93</td>\n",
              "      <td>A101</td>\n",
              "      <td>4</td>\n",
              "      <td>A123</td>\n",
              "      <td>28</td>\n",
              "      <td>A143</td>\n",
              "    </tr>\n",
              "  </tbody>\n",
              "</table>\n",
              "</div>"
            ],
            "text/plain": [
              "     purposeA46  purposeA48  purposeA49  ...  property age  otherinstallmentplans\n",
              "656           0           0           0  ...      A123  41                   A141\n",
              "775           0           0           0  ...      A121  25                   A143\n",
              "414           0           0           0  ...      A122  35                   A143\n",
              "74            1           0           0  ...      A124  40                   A143\n",
              "768           0           0           0  ...      A123  28                   A143\n",
              "\n",
              "[5 rows x 18 columns]"
            ]
          },
          "metadata": {
            "tags": []
          },
          "execution_count": 101
        }
      ]
    },
    {
      "cell_type": "code",
      "metadata": {
        "colab": {
          "base_uri": "https://localhost:8080/",
          "height": 35
        },
        "id": "F7T4jnvZOwSx",
        "outputId": "f9c8f054-690f-43bc-e9ba-64d91787a669"
      },
      "source": [
        "data.columns[30]"
      ],
      "execution_count": 102,
      "outputs": [
        {
          "output_type": "execute_result",
          "data": {
            "application/vnd.google.colaboratory.intrinsic+json": {
              "type": "string"
            },
            "text/plain": [
              "'employmentsince'"
            ]
          },
          "metadata": {
            "tags": []
          },
          "execution_count": 102
        }
      ]
    },
    {
      "cell_type": "code",
      "metadata": {
        "colab": {
          "base_uri": "https://localhost:8080/",
          "height": 205
        },
        "id": "3qPBRGj-OwSy",
        "outputId": "9adb9076-4975-4c88-ade8-6252dca104a4"
      },
      "source": [
        "x=pd.get_dummies(data['employmentsince'])\n",
        "x.head()"
      ],
      "execution_count": 103,
      "outputs": [
        {
          "output_type": "execute_result",
          "data": {
            "text/html": [
              "<div>\n",
              "<style scoped>\n",
              "    .dataframe tbody tr th:only-of-type {\n",
              "        vertical-align: middle;\n",
              "    }\n",
              "\n",
              "    .dataframe tbody tr th {\n",
              "        vertical-align: top;\n",
              "    }\n",
              "\n",
              "    .dataframe thead th {\n",
              "        text-align: right;\n",
              "    }\n",
              "</style>\n",
              "<table border=\"1\" class=\"dataframe\">\n",
              "  <thead>\n",
              "    <tr style=\"text-align: right;\">\n",
              "      <th></th>\n",
              "      <th>A71</th>\n",
              "      <th>A72</th>\n",
              "      <th>A73</th>\n",
              "      <th>A74</th>\n",
              "      <th>A75</th>\n",
              "    </tr>\n",
              "  </thead>\n",
              "  <tbody>\n",
              "    <tr>\n",
              "      <th>656</th>\n",
              "      <td>0</td>\n",
              "      <td>0</td>\n",
              "      <td>0</td>\n",
              "      <td>0</td>\n",
              "      <td>1</td>\n",
              "    </tr>\n",
              "    <tr>\n",
              "      <th>775</th>\n",
              "      <td>0</td>\n",
              "      <td>0</td>\n",
              "      <td>1</td>\n",
              "      <td>0</td>\n",
              "      <td>0</td>\n",
              "    </tr>\n",
              "    <tr>\n",
              "      <th>414</th>\n",
              "      <td>0</td>\n",
              "      <td>0</td>\n",
              "      <td>1</td>\n",
              "      <td>0</td>\n",
              "      <td>0</td>\n",
              "    </tr>\n",
              "    <tr>\n",
              "      <th>74</th>\n",
              "      <td>0</td>\n",
              "      <td>0</td>\n",
              "      <td>0</td>\n",
              "      <td>0</td>\n",
              "      <td>1</td>\n",
              "    </tr>\n",
              "    <tr>\n",
              "      <th>768</th>\n",
              "      <td>0</td>\n",
              "      <td>0</td>\n",
              "      <td>0</td>\n",
              "      <td>0</td>\n",
              "      <td>1</td>\n",
              "    </tr>\n",
              "  </tbody>\n",
              "</table>\n",
              "</div>"
            ],
            "text/plain": [
              "     A71  A72  A73  A74  A75\n",
              "656    0    0    0    0    1\n",
              "775    0    0    1    0    0\n",
              "414    0    0    1    0    0\n",
              "74     0    0    0    0    1\n",
              "768    0    0    0    0    1"
            ]
          },
          "metadata": {
            "tags": []
          },
          "execution_count": 103
        }
      ]
    },
    {
      "cell_type": "code",
      "metadata": {
        "id": "AaoQYNY_OwSy"
      },
      "source": [
        "data.insert(31,'employmA71',x['A71'])\n",
        "data.insert(32,'employmA72',x['A72'])\n",
        "data.insert(33,'employmA73',x['A73'])\n",
        "data.insert(34,'employmA74',x['A74'])\n",
        "data.insert(35,'employmA75',x['A75'])\n"
      ],
      "execution_count": 104,
      "outputs": []
    },
    {
      "cell_type": "code",
      "metadata": {
        "colab": {
          "base_uri": "https://localhost:8080/",
          "height": 225
        },
        "id": "vYu_XDhUOwSz",
        "outputId": "48ae5ba5-eb84-4fc2-c7e0-42deece32f7d"
      },
      "source": [
        "data[data.columns[28:39]].head()"
      ],
      "execution_count": 105,
      "outputs": [
        {
          "output_type": "execute_result",
          "data": {
            "text/html": [
              "<div>\n",
              "<style scoped>\n",
              "    .dataframe tbody tr th:only-of-type {\n",
              "        vertical-align: middle;\n",
              "    }\n",
              "\n",
              "    .dataframe tbody tr th {\n",
              "        vertical-align: top;\n",
              "    }\n",
              "\n",
              "    .dataframe thead th {\n",
              "        text-align: right;\n",
              "    }\n",
              "</style>\n",
              "<table border=\"1\" class=\"dataframe\">\n",
              "  <thead>\n",
              "    <tr style=\"text-align: right;\">\n",
              "      <th></th>\n",
              "      <th>savingsA64</th>\n",
              "      <th>savingsA65</th>\n",
              "      <th>employmentsince</th>\n",
              "      <th>employmA71</th>\n",
              "      <th>employmA72</th>\n",
              "      <th>employmA73</th>\n",
              "      <th>employmA74</th>\n",
              "      <th>employmA75</th>\n",
              "      <th>installmentrate</th>\n",
              "      <th>statussex</th>\n",
              "      <th>otherdebtors</th>\n",
              "    </tr>\n",
              "  </thead>\n",
              "  <tbody>\n",
              "    <tr>\n",
              "      <th>656</th>\n",
              "      <td>0</td>\n",
              "      <td>0</td>\n",
              "      <td>A75</td>\n",
              "      <td>0</td>\n",
              "      <td>0</td>\n",
              "      <td>0</td>\n",
              "      <td>0</td>\n",
              "      <td>1</td>\n",
              "      <td>4</td>\n",
              "      <td>A93</td>\n",
              "      <td>A101</td>\n",
              "    </tr>\n",
              "    <tr>\n",
              "      <th>775</th>\n",
              "      <td>0</td>\n",
              "      <td>1</td>\n",
              "      <td>A73</td>\n",
              "      <td>0</td>\n",
              "      <td>0</td>\n",
              "      <td>1</td>\n",
              "      <td>0</td>\n",
              "      <td>0</td>\n",
              "      <td>4</td>\n",
              "      <td>A92</td>\n",
              "      <td>A101</td>\n",
              "    </tr>\n",
              "    <tr>\n",
              "      <th>414</th>\n",
              "      <td>0</td>\n",
              "      <td>1</td>\n",
              "      <td>A73</td>\n",
              "      <td>0</td>\n",
              "      <td>0</td>\n",
              "      <td>1</td>\n",
              "      <td>0</td>\n",
              "      <td>0</td>\n",
              "      <td>4</td>\n",
              "      <td>A92</td>\n",
              "      <td>A101</td>\n",
              "    </tr>\n",
              "    <tr>\n",
              "      <th>74</th>\n",
              "      <td>0</td>\n",
              "      <td>1</td>\n",
              "      <td>A75</td>\n",
              "      <td>0</td>\n",
              "      <td>0</td>\n",
              "      <td>0</td>\n",
              "      <td>0</td>\n",
              "      <td>1</td>\n",
              "      <td>4</td>\n",
              "      <td>A93</td>\n",
              "      <td>A101</td>\n",
              "    </tr>\n",
              "    <tr>\n",
              "      <th>768</th>\n",
              "      <td>0</td>\n",
              "      <td>0</td>\n",
              "      <td>A75</td>\n",
              "      <td>0</td>\n",
              "      <td>0</td>\n",
              "      <td>0</td>\n",
              "      <td>0</td>\n",
              "      <td>1</td>\n",
              "      <td>1</td>\n",
              "      <td>A93</td>\n",
              "      <td>A101</td>\n",
              "    </tr>\n",
              "  </tbody>\n",
              "</table>\n",
              "</div>"
            ],
            "text/plain": [
              "     savingsA64  savingsA65  ... statussex  otherdebtors\n",
              "656           0           0  ...       A93          A101\n",
              "775           0           1  ...       A92          A101\n",
              "414           0           1  ...       A92          A101\n",
              "74            0           1  ...       A93          A101\n",
              "768           0           0  ...       A93          A101\n",
              "\n",
              "[5 rows x 11 columns]"
            ]
          },
          "metadata": {
            "tags": []
          },
          "execution_count": 105
        }
      ]
    },
    {
      "cell_type": "code",
      "metadata": {
        "colab": {
          "base_uri": "https://localhost:8080/",
          "height": 35
        },
        "id": "j9cerapgOwSz",
        "outputId": "9fc5f441-0388-4fa3-8ef3-0ef26374b7ce"
      },
      "source": [
        "data.columns[37]"
      ],
      "execution_count": 106,
      "outputs": [
        {
          "output_type": "execute_result",
          "data": {
            "application/vnd.google.colaboratory.intrinsic+json": {
              "type": "string"
            },
            "text/plain": [
              "'statussex'"
            ]
          },
          "metadata": {
            "tags": []
          },
          "execution_count": 106
        }
      ]
    },
    {
      "cell_type": "code",
      "metadata": {
        "colab": {
          "base_uri": "https://localhost:8080/",
          "height": 205
        },
        "id": "lj3GXK2QOwS0",
        "outputId": "44c68d1a-1de2-4417-ad1e-536bc72d5d2f"
      },
      "source": [
        "x=pd.get_dummies(data['statussex'])\n",
        "x.head()"
      ],
      "execution_count": 107,
      "outputs": [
        {
          "output_type": "execute_result",
          "data": {
            "text/html": [
              "<div>\n",
              "<style scoped>\n",
              "    .dataframe tbody tr th:only-of-type {\n",
              "        vertical-align: middle;\n",
              "    }\n",
              "\n",
              "    .dataframe tbody tr th {\n",
              "        vertical-align: top;\n",
              "    }\n",
              "\n",
              "    .dataframe thead th {\n",
              "        text-align: right;\n",
              "    }\n",
              "</style>\n",
              "<table border=\"1\" class=\"dataframe\">\n",
              "  <thead>\n",
              "    <tr style=\"text-align: right;\">\n",
              "      <th></th>\n",
              "      <th>A91</th>\n",
              "      <th>A92</th>\n",
              "      <th>A93</th>\n",
              "      <th>A94</th>\n",
              "    </tr>\n",
              "  </thead>\n",
              "  <tbody>\n",
              "    <tr>\n",
              "      <th>656</th>\n",
              "      <td>0</td>\n",
              "      <td>0</td>\n",
              "      <td>1</td>\n",
              "      <td>0</td>\n",
              "    </tr>\n",
              "    <tr>\n",
              "      <th>775</th>\n",
              "      <td>0</td>\n",
              "      <td>1</td>\n",
              "      <td>0</td>\n",
              "      <td>0</td>\n",
              "    </tr>\n",
              "    <tr>\n",
              "      <th>414</th>\n",
              "      <td>0</td>\n",
              "      <td>1</td>\n",
              "      <td>0</td>\n",
              "      <td>0</td>\n",
              "    </tr>\n",
              "    <tr>\n",
              "      <th>74</th>\n",
              "      <td>0</td>\n",
              "      <td>0</td>\n",
              "      <td>1</td>\n",
              "      <td>0</td>\n",
              "    </tr>\n",
              "    <tr>\n",
              "      <th>768</th>\n",
              "      <td>0</td>\n",
              "      <td>0</td>\n",
              "      <td>1</td>\n",
              "      <td>0</td>\n",
              "    </tr>\n",
              "  </tbody>\n",
              "</table>\n",
              "</div>"
            ],
            "text/plain": [
              "     A91  A92  A93  A94\n",
              "656    0    0    1    0\n",
              "775    0    1    0    0\n",
              "414    0    1    0    0\n",
              "74     0    0    1    0\n",
              "768    0    0    1    0"
            ]
          },
          "metadata": {
            "tags": []
          },
          "execution_count": 107
        }
      ]
    },
    {
      "cell_type": "code",
      "metadata": {
        "id": "3rRAxXBCOwS0"
      },
      "source": [
        "data.insert(38,'statussex91',x['A91'])\n",
        "data.insert(39,'statussex92',x['A92'])\n",
        "data.insert(40,'statussex93',x['A93'])\n",
        "data.insert(41,'statussex94',x['A94'])\n"
      ],
      "execution_count": 108,
      "outputs": []
    },
    {
      "cell_type": "code",
      "metadata": {
        "colab": {
          "base_uri": "https://localhost:8080/",
          "height": 205
        },
        "id": "h07x0u3VOwS0",
        "outputId": "99ab5fe4-db6d-45b9-e006-2d83025e674a"
      },
      "source": [
        "data[data.columns[35:45]].head()"
      ],
      "execution_count": 109,
      "outputs": [
        {
          "output_type": "execute_result",
          "data": {
            "text/html": [
              "<div>\n",
              "<style scoped>\n",
              "    .dataframe tbody tr th:only-of-type {\n",
              "        vertical-align: middle;\n",
              "    }\n",
              "\n",
              "    .dataframe tbody tr th {\n",
              "        vertical-align: top;\n",
              "    }\n",
              "\n",
              "    .dataframe thead th {\n",
              "        text-align: right;\n",
              "    }\n",
              "</style>\n",
              "<table border=\"1\" class=\"dataframe\">\n",
              "  <thead>\n",
              "    <tr style=\"text-align: right;\">\n",
              "      <th></th>\n",
              "      <th>employmA75</th>\n",
              "      <th>installmentrate</th>\n",
              "      <th>statussex</th>\n",
              "      <th>statussex91</th>\n",
              "      <th>statussex92</th>\n",
              "      <th>statussex93</th>\n",
              "      <th>statussex94</th>\n",
              "      <th>otherdebtors</th>\n",
              "      <th>residencesince</th>\n",
              "      <th>property</th>\n",
              "    </tr>\n",
              "  </thead>\n",
              "  <tbody>\n",
              "    <tr>\n",
              "      <th>656</th>\n",
              "      <td>1</td>\n",
              "      <td>4</td>\n",
              "      <td>A93</td>\n",
              "      <td>0</td>\n",
              "      <td>0</td>\n",
              "      <td>1</td>\n",
              "      <td>0</td>\n",
              "      <td>A101</td>\n",
              "      <td>4</td>\n",
              "      <td>A123</td>\n",
              "    </tr>\n",
              "    <tr>\n",
              "      <th>775</th>\n",
              "      <td>0</td>\n",
              "      <td>4</td>\n",
              "      <td>A92</td>\n",
              "      <td>0</td>\n",
              "      <td>1</td>\n",
              "      <td>0</td>\n",
              "      <td>0</td>\n",
              "      <td>A101</td>\n",
              "      <td>4</td>\n",
              "      <td>A121</td>\n",
              "    </tr>\n",
              "    <tr>\n",
              "      <th>414</th>\n",
              "      <td>0</td>\n",
              "      <td>4</td>\n",
              "      <td>A92</td>\n",
              "      <td>0</td>\n",
              "      <td>1</td>\n",
              "      <td>0</td>\n",
              "      <td>0</td>\n",
              "      <td>A101</td>\n",
              "      <td>2</td>\n",
              "      <td>A122</td>\n",
              "    </tr>\n",
              "    <tr>\n",
              "      <th>74</th>\n",
              "      <td>1</td>\n",
              "      <td>4</td>\n",
              "      <td>A93</td>\n",
              "      <td>0</td>\n",
              "      <td>0</td>\n",
              "      <td>1</td>\n",
              "      <td>0</td>\n",
              "      <td>A101</td>\n",
              "      <td>4</td>\n",
              "      <td>A124</td>\n",
              "    </tr>\n",
              "    <tr>\n",
              "      <th>768</th>\n",
              "      <td>1</td>\n",
              "      <td>1</td>\n",
              "      <td>A93</td>\n",
              "      <td>0</td>\n",
              "      <td>0</td>\n",
              "      <td>1</td>\n",
              "      <td>0</td>\n",
              "      <td>A101</td>\n",
              "      <td>4</td>\n",
              "      <td>A123</td>\n",
              "    </tr>\n",
              "  </tbody>\n",
              "</table>\n",
              "</div>"
            ],
            "text/plain": [
              "     employmA75  installmentrate  ... residencesince  property\n",
              "656           1                4  ...              4      A123\n",
              "775           0                4  ...              4      A121\n",
              "414           0                4  ...              2      A122\n",
              "74            1                4  ...              4      A124\n",
              "768           1                1  ...              4      A123\n",
              "\n",
              "[5 rows x 10 columns]"
            ]
          },
          "metadata": {
            "tags": []
          },
          "execution_count": 109
        }
      ]
    },
    {
      "cell_type": "code",
      "metadata": {
        "colab": {
          "base_uri": "https://localhost:8080/",
          "height": 35
        },
        "id": "ldZA5i01OwS1",
        "outputId": "3b93549f-b547-429c-b038-6d8dca463f2a"
      },
      "source": [
        "data.columns[42]"
      ],
      "execution_count": 110,
      "outputs": [
        {
          "output_type": "execute_result",
          "data": {
            "application/vnd.google.colaboratory.intrinsic+json": {
              "type": "string"
            },
            "text/plain": [
              "'otherdebtors'"
            ]
          },
          "metadata": {
            "tags": []
          },
          "execution_count": 110
        }
      ]
    },
    {
      "cell_type": "code",
      "metadata": {
        "colab": {
          "base_uri": "https://localhost:8080/",
          "height": 205
        },
        "id": "H5jv0nJxOwS1",
        "outputId": "1d940a70-5394-48e0-896c-2f5d02ea64fd"
      },
      "source": [
        "x=pd.get_dummies(data['otherdebtors'])\n",
        "x.head()"
      ],
      "execution_count": 111,
      "outputs": [
        {
          "output_type": "execute_result",
          "data": {
            "text/html": [
              "<div>\n",
              "<style scoped>\n",
              "    .dataframe tbody tr th:only-of-type {\n",
              "        vertical-align: middle;\n",
              "    }\n",
              "\n",
              "    .dataframe tbody tr th {\n",
              "        vertical-align: top;\n",
              "    }\n",
              "\n",
              "    .dataframe thead th {\n",
              "        text-align: right;\n",
              "    }\n",
              "</style>\n",
              "<table border=\"1\" class=\"dataframe\">\n",
              "  <thead>\n",
              "    <tr style=\"text-align: right;\">\n",
              "      <th></th>\n",
              "      <th>A101</th>\n",
              "      <th>A102</th>\n",
              "      <th>A103</th>\n",
              "    </tr>\n",
              "  </thead>\n",
              "  <tbody>\n",
              "    <tr>\n",
              "      <th>656</th>\n",
              "      <td>1</td>\n",
              "      <td>0</td>\n",
              "      <td>0</td>\n",
              "    </tr>\n",
              "    <tr>\n",
              "      <th>775</th>\n",
              "      <td>1</td>\n",
              "      <td>0</td>\n",
              "      <td>0</td>\n",
              "    </tr>\n",
              "    <tr>\n",
              "      <th>414</th>\n",
              "      <td>1</td>\n",
              "      <td>0</td>\n",
              "      <td>0</td>\n",
              "    </tr>\n",
              "    <tr>\n",
              "      <th>74</th>\n",
              "      <td>1</td>\n",
              "      <td>0</td>\n",
              "      <td>0</td>\n",
              "    </tr>\n",
              "    <tr>\n",
              "      <th>768</th>\n",
              "      <td>1</td>\n",
              "      <td>0</td>\n",
              "      <td>0</td>\n",
              "    </tr>\n",
              "  </tbody>\n",
              "</table>\n",
              "</div>"
            ],
            "text/plain": [
              "     A101  A102  A103\n",
              "656     1     0     0\n",
              "775     1     0     0\n",
              "414     1     0     0\n",
              "74      1     0     0\n",
              "768     1     0     0"
            ]
          },
          "metadata": {
            "tags": []
          },
          "execution_count": 111
        }
      ]
    },
    {
      "cell_type": "code",
      "metadata": {
        "id": "BEXfX3fsOwS2"
      },
      "source": [
        "data.insert(43,'otherdeb101',x['A101'])\n",
        "data.insert(44,'otherdeb102',x['A102'])\n",
        "data.insert(45,'otherdeb103',x['A103'])\n"
      ],
      "execution_count": 112,
      "outputs": []
    },
    {
      "cell_type": "code",
      "metadata": {
        "colab": {
          "base_uri": "https://localhost:8080/",
          "height": 205
        },
        "id": "l-G8AL40OwS2",
        "outputId": "5186cc3e-d0b3-4fcf-9e9d-fe70dec0f024"
      },
      "source": [
        "data[data.columns[40:50]].head()"
      ],
      "execution_count": 113,
      "outputs": [
        {
          "output_type": "execute_result",
          "data": {
            "text/html": [
              "<div>\n",
              "<style scoped>\n",
              "    .dataframe tbody tr th:only-of-type {\n",
              "        vertical-align: middle;\n",
              "    }\n",
              "\n",
              "    .dataframe tbody tr th {\n",
              "        vertical-align: top;\n",
              "    }\n",
              "\n",
              "    .dataframe thead th {\n",
              "        text-align: right;\n",
              "    }\n",
              "</style>\n",
              "<table border=\"1\" class=\"dataframe\">\n",
              "  <thead>\n",
              "    <tr style=\"text-align: right;\">\n",
              "      <th></th>\n",
              "      <th>statussex93</th>\n",
              "      <th>statussex94</th>\n",
              "      <th>otherdebtors</th>\n",
              "      <th>otherdeb101</th>\n",
              "      <th>otherdeb102</th>\n",
              "      <th>otherdeb103</th>\n",
              "      <th>residencesince</th>\n",
              "      <th>property</th>\n",
              "      <th>age</th>\n",
              "      <th>otherinstallmentplans</th>\n",
              "    </tr>\n",
              "  </thead>\n",
              "  <tbody>\n",
              "    <tr>\n",
              "      <th>656</th>\n",
              "      <td>1</td>\n",
              "      <td>0</td>\n",
              "      <td>A101</td>\n",
              "      <td>1</td>\n",
              "      <td>0</td>\n",
              "      <td>0</td>\n",
              "      <td>4</td>\n",
              "      <td>A123</td>\n",
              "      <td>41</td>\n",
              "      <td>A141</td>\n",
              "    </tr>\n",
              "    <tr>\n",
              "      <th>775</th>\n",
              "      <td>0</td>\n",
              "      <td>0</td>\n",
              "      <td>A101</td>\n",
              "      <td>1</td>\n",
              "      <td>0</td>\n",
              "      <td>0</td>\n",
              "      <td>4</td>\n",
              "      <td>A121</td>\n",
              "      <td>25</td>\n",
              "      <td>A143</td>\n",
              "    </tr>\n",
              "    <tr>\n",
              "      <th>414</th>\n",
              "      <td>0</td>\n",
              "      <td>0</td>\n",
              "      <td>A101</td>\n",
              "      <td>1</td>\n",
              "      <td>0</td>\n",
              "      <td>0</td>\n",
              "      <td>2</td>\n",
              "      <td>A122</td>\n",
              "      <td>35</td>\n",
              "      <td>A143</td>\n",
              "    </tr>\n",
              "    <tr>\n",
              "      <th>74</th>\n",
              "      <td>1</td>\n",
              "      <td>0</td>\n",
              "      <td>A101</td>\n",
              "      <td>1</td>\n",
              "      <td>0</td>\n",
              "      <td>0</td>\n",
              "      <td>4</td>\n",
              "      <td>A124</td>\n",
              "      <td>40</td>\n",
              "      <td>A143</td>\n",
              "    </tr>\n",
              "    <tr>\n",
              "      <th>768</th>\n",
              "      <td>1</td>\n",
              "      <td>0</td>\n",
              "      <td>A101</td>\n",
              "      <td>1</td>\n",
              "      <td>0</td>\n",
              "      <td>0</td>\n",
              "      <td>4</td>\n",
              "      <td>A123</td>\n",
              "      <td>28</td>\n",
              "      <td>A143</td>\n",
              "    </tr>\n",
              "  </tbody>\n",
              "</table>\n",
              "</div>"
            ],
            "text/plain": [
              "     statussex93  statussex94 otherdebtors  ...  property  age  otherinstallmentplans\n",
              "656            1            0         A101  ...      A123   41                   A141\n",
              "775            0            0         A101  ...      A121   25                   A143\n",
              "414            0            0         A101  ...      A122   35                   A143\n",
              "74             1            0         A101  ...      A124   40                   A143\n",
              "768            1            0         A101  ...      A123   28                   A143\n",
              "\n",
              "[5 rows x 10 columns]"
            ]
          },
          "metadata": {
            "tags": []
          },
          "execution_count": 113
        }
      ]
    },
    {
      "cell_type": "code",
      "metadata": {
        "colab": {
          "base_uri": "https://localhost:8080/",
          "height": 35
        },
        "id": "9PsYcntZOwS2",
        "outputId": "3639e148-2917-45cb-bd32-3ab70d60dde5"
      },
      "source": [
        "data.columns[47]"
      ],
      "execution_count": 114,
      "outputs": [
        {
          "output_type": "execute_result",
          "data": {
            "application/vnd.google.colaboratory.intrinsic+json": {
              "type": "string"
            },
            "text/plain": [
              "'property'"
            ]
          },
          "metadata": {
            "tags": []
          },
          "execution_count": 114
        }
      ]
    },
    {
      "cell_type": "code",
      "metadata": {
        "colab": {
          "base_uri": "https://localhost:8080/",
          "height": 205
        },
        "id": "Lg8-XCZ5OwS3",
        "outputId": "24c6bfca-0e5d-49ac-b6dc-555d5e70aad9"
      },
      "source": [
        "x=pd.get_dummies(data['property'])\n",
        "x.head()"
      ],
      "execution_count": 115,
      "outputs": [
        {
          "output_type": "execute_result",
          "data": {
            "text/html": [
              "<div>\n",
              "<style scoped>\n",
              "    .dataframe tbody tr th:only-of-type {\n",
              "        vertical-align: middle;\n",
              "    }\n",
              "\n",
              "    .dataframe tbody tr th {\n",
              "        vertical-align: top;\n",
              "    }\n",
              "\n",
              "    .dataframe thead th {\n",
              "        text-align: right;\n",
              "    }\n",
              "</style>\n",
              "<table border=\"1\" class=\"dataframe\">\n",
              "  <thead>\n",
              "    <tr style=\"text-align: right;\">\n",
              "      <th></th>\n",
              "      <th>A121</th>\n",
              "      <th>A122</th>\n",
              "      <th>A123</th>\n",
              "      <th>A124</th>\n",
              "    </tr>\n",
              "  </thead>\n",
              "  <tbody>\n",
              "    <tr>\n",
              "      <th>656</th>\n",
              "      <td>0</td>\n",
              "      <td>0</td>\n",
              "      <td>1</td>\n",
              "      <td>0</td>\n",
              "    </tr>\n",
              "    <tr>\n",
              "      <th>775</th>\n",
              "      <td>1</td>\n",
              "      <td>0</td>\n",
              "      <td>0</td>\n",
              "      <td>0</td>\n",
              "    </tr>\n",
              "    <tr>\n",
              "      <th>414</th>\n",
              "      <td>0</td>\n",
              "      <td>1</td>\n",
              "      <td>0</td>\n",
              "      <td>0</td>\n",
              "    </tr>\n",
              "    <tr>\n",
              "      <th>74</th>\n",
              "      <td>0</td>\n",
              "      <td>0</td>\n",
              "      <td>0</td>\n",
              "      <td>1</td>\n",
              "    </tr>\n",
              "    <tr>\n",
              "      <th>768</th>\n",
              "      <td>0</td>\n",
              "      <td>0</td>\n",
              "      <td>1</td>\n",
              "      <td>0</td>\n",
              "    </tr>\n",
              "  </tbody>\n",
              "</table>\n",
              "</div>"
            ],
            "text/plain": [
              "     A121  A122  A123  A124\n",
              "656     0     0     1     0\n",
              "775     1     0     0     0\n",
              "414     0     1     0     0\n",
              "74      0     0     0     1\n",
              "768     0     0     1     0"
            ]
          },
          "metadata": {
            "tags": []
          },
          "execution_count": 115
        }
      ]
    },
    {
      "cell_type": "code",
      "metadata": {
        "id": "T-HvJ2OlOwS3"
      },
      "source": [
        "data.insert(48,'property121',x['A121'])\n",
        "data.insert(49,'property122',x['A122'])\n",
        "data.insert(50,'property123',x['A123'])\n",
        "data.insert(51,'property124',x['A124'])"
      ],
      "execution_count": 116,
      "outputs": []
    },
    {
      "cell_type": "code",
      "metadata": {
        "colab": {
          "base_uri": "https://localhost:8080/",
          "height": 112
        },
        "id": "4UWGyTv1OwS3",
        "outputId": "243d1be5-66c2-47ec-9102-c3250b69dc92"
      },
      "source": [
        "data[data.columns[47:57]].head(2)"
      ],
      "execution_count": 117,
      "outputs": [
        {
          "output_type": "execute_result",
          "data": {
            "text/html": [
              "<div>\n",
              "<style scoped>\n",
              "    .dataframe tbody tr th:only-of-type {\n",
              "        vertical-align: middle;\n",
              "    }\n",
              "\n",
              "    .dataframe tbody tr th {\n",
              "        vertical-align: top;\n",
              "    }\n",
              "\n",
              "    .dataframe thead th {\n",
              "        text-align: right;\n",
              "    }\n",
              "</style>\n",
              "<table border=\"1\" class=\"dataframe\">\n",
              "  <thead>\n",
              "    <tr style=\"text-align: right;\">\n",
              "      <th></th>\n",
              "      <th>property</th>\n",
              "      <th>property121</th>\n",
              "      <th>property122</th>\n",
              "      <th>property123</th>\n",
              "      <th>property124</th>\n",
              "      <th>age</th>\n",
              "      <th>otherinstallmentplans</th>\n",
              "      <th>housing</th>\n",
              "      <th>existingcredits</th>\n",
              "      <th>job</th>\n",
              "    </tr>\n",
              "  </thead>\n",
              "  <tbody>\n",
              "    <tr>\n",
              "      <th>656</th>\n",
              "      <td>A123</td>\n",
              "      <td>0</td>\n",
              "      <td>0</td>\n",
              "      <td>1</td>\n",
              "      <td>0</td>\n",
              "      <td>41</td>\n",
              "      <td>A141</td>\n",
              "      <td>A152</td>\n",
              "      <td>1</td>\n",
              "      <td>A172</td>\n",
              "    </tr>\n",
              "    <tr>\n",
              "      <th>775</th>\n",
              "      <td>A121</td>\n",
              "      <td>1</td>\n",
              "      <td>0</td>\n",
              "      <td>0</td>\n",
              "      <td>0</td>\n",
              "      <td>25</td>\n",
              "      <td>A143</td>\n",
              "      <td>A151</td>\n",
              "      <td>1</td>\n",
              "      <td>A173</td>\n",
              "    </tr>\n",
              "  </tbody>\n",
              "</table>\n",
              "</div>"
            ],
            "text/plain": [
              "    property  property121  property122  ...  housing  existingcredits   job\n",
              "656     A123            0            0  ...     A152                1  A172\n",
              "775     A121            1            0  ...     A151                1  A173\n",
              "\n",
              "[2 rows x 10 columns]"
            ]
          },
          "metadata": {
            "tags": []
          },
          "execution_count": 117
        }
      ]
    },
    {
      "cell_type": "code",
      "metadata": {
        "colab": {
          "base_uri": "https://localhost:8080/",
          "height": 35
        },
        "id": "6tmjgVWVOwS4",
        "outputId": "61cd93f7-9fc9-4c59-f470-c199af41d52e"
      },
      "source": [
        "data.columns[53]"
      ],
      "execution_count": 118,
      "outputs": [
        {
          "output_type": "execute_result",
          "data": {
            "application/vnd.google.colaboratory.intrinsic+json": {
              "type": "string"
            },
            "text/plain": [
              "'otherinstallmentplans'"
            ]
          },
          "metadata": {
            "tags": []
          },
          "execution_count": 118
        }
      ]
    },
    {
      "cell_type": "code",
      "metadata": {
        "colab": {
          "base_uri": "https://localhost:8080/",
          "height": 205
        },
        "id": "s_h9gAksOwS4",
        "outputId": "ffa942c2-7dd1-49a1-e93b-62835c519a25"
      },
      "source": [
        "x=pd.get_dummies(data['otherinstallmentplans'])\n",
        "x.head()"
      ],
      "execution_count": 119,
      "outputs": [
        {
          "output_type": "execute_result",
          "data": {
            "text/html": [
              "<div>\n",
              "<style scoped>\n",
              "    .dataframe tbody tr th:only-of-type {\n",
              "        vertical-align: middle;\n",
              "    }\n",
              "\n",
              "    .dataframe tbody tr th {\n",
              "        vertical-align: top;\n",
              "    }\n",
              "\n",
              "    .dataframe thead th {\n",
              "        text-align: right;\n",
              "    }\n",
              "</style>\n",
              "<table border=\"1\" class=\"dataframe\">\n",
              "  <thead>\n",
              "    <tr style=\"text-align: right;\">\n",
              "      <th></th>\n",
              "      <th>A141</th>\n",
              "      <th>A142</th>\n",
              "      <th>A143</th>\n",
              "    </tr>\n",
              "  </thead>\n",
              "  <tbody>\n",
              "    <tr>\n",
              "      <th>656</th>\n",
              "      <td>1</td>\n",
              "      <td>0</td>\n",
              "      <td>0</td>\n",
              "    </tr>\n",
              "    <tr>\n",
              "      <th>775</th>\n",
              "      <td>0</td>\n",
              "      <td>0</td>\n",
              "      <td>1</td>\n",
              "    </tr>\n",
              "    <tr>\n",
              "      <th>414</th>\n",
              "      <td>0</td>\n",
              "      <td>0</td>\n",
              "      <td>1</td>\n",
              "    </tr>\n",
              "    <tr>\n",
              "      <th>74</th>\n",
              "      <td>0</td>\n",
              "      <td>0</td>\n",
              "      <td>1</td>\n",
              "    </tr>\n",
              "    <tr>\n",
              "      <th>768</th>\n",
              "      <td>0</td>\n",
              "      <td>0</td>\n",
              "      <td>1</td>\n",
              "    </tr>\n",
              "  </tbody>\n",
              "</table>\n",
              "</div>"
            ],
            "text/plain": [
              "     A141  A142  A143\n",
              "656     1     0     0\n",
              "775     0     0     1\n",
              "414     0     0     1\n",
              "74      0     0     1\n",
              "768     0     0     1"
            ]
          },
          "metadata": {
            "tags": []
          },
          "execution_count": 119
        }
      ]
    },
    {
      "cell_type": "code",
      "metadata": {
        "id": "2NA_NHRFOwS4"
      },
      "source": [
        "data.insert(54,'otherinst141',x['A141'])\n",
        "data.insert(55,'otherinst142',x['A142'])\n",
        "data.insert(56,'otherinst143',x['A143'])\n"
      ],
      "execution_count": 120,
      "outputs": []
    },
    {
      "cell_type": "code",
      "metadata": {
        "colab": {
          "base_uri": "https://localhost:8080/",
          "height": 112
        },
        "id": "HhmOVJJ_OwS5",
        "outputId": "96985f45-c2bf-49e7-a176-8dd1ca177fe7"
      },
      "source": [
        "data[data.columns[55:62]].head(2)"
      ],
      "execution_count": 121,
      "outputs": [
        {
          "output_type": "execute_result",
          "data": {
            "text/html": [
              "<div>\n",
              "<style scoped>\n",
              "    .dataframe tbody tr th:only-of-type {\n",
              "        vertical-align: middle;\n",
              "    }\n",
              "\n",
              "    .dataframe tbody tr th {\n",
              "        vertical-align: top;\n",
              "    }\n",
              "\n",
              "    .dataframe thead th {\n",
              "        text-align: right;\n",
              "    }\n",
              "</style>\n",
              "<table border=\"1\" class=\"dataframe\">\n",
              "  <thead>\n",
              "    <tr style=\"text-align: right;\">\n",
              "      <th></th>\n",
              "      <th>otherinst142</th>\n",
              "      <th>otherinst143</th>\n",
              "      <th>housing</th>\n",
              "      <th>existingcredits</th>\n",
              "      <th>job</th>\n",
              "      <th>peopleliable</th>\n",
              "      <th>telephone</th>\n",
              "    </tr>\n",
              "  </thead>\n",
              "  <tbody>\n",
              "    <tr>\n",
              "      <th>656</th>\n",
              "      <td>0</td>\n",
              "      <td>0</td>\n",
              "      <td>A152</td>\n",
              "      <td>1</td>\n",
              "      <td>A172</td>\n",
              "      <td>2</td>\n",
              "      <td>A191</td>\n",
              "    </tr>\n",
              "    <tr>\n",
              "      <th>775</th>\n",
              "      <td>0</td>\n",
              "      <td>1</td>\n",
              "      <td>A151</td>\n",
              "      <td>1</td>\n",
              "      <td>A173</td>\n",
              "      <td>1</td>\n",
              "      <td>A191</td>\n",
              "    </tr>\n",
              "  </tbody>\n",
              "</table>\n",
              "</div>"
            ],
            "text/plain": [
              "     otherinst142  otherinst143 housing  ...   job peopleliable  telephone\n",
              "656             0             0    A152  ...  A172            2       A191\n",
              "775             0             1    A151  ...  A173            1       A191\n",
              "\n",
              "[2 rows x 7 columns]"
            ]
          },
          "metadata": {
            "tags": []
          },
          "execution_count": 121
        }
      ]
    },
    {
      "cell_type": "code",
      "metadata": {
        "colab": {
          "base_uri": "https://localhost:8080/",
          "height": 35
        },
        "id": "z-obKHKaOwS5",
        "outputId": "0cbcd0ce-4d86-4660-87e7-96e76bd3f5ff"
      },
      "source": [
        "data.columns[57]"
      ],
      "execution_count": 122,
      "outputs": [
        {
          "output_type": "execute_result",
          "data": {
            "application/vnd.google.colaboratory.intrinsic+json": {
              "type": "string"
            },
            "text/plain": [
              "'housing'"
            ]
          },
          "metadata": {
            "tags": []
          },
          "execution_count": 122
        }
      ]
    },
    {
      "cell_type": "code",
      "metadata": {
        "colab": {
          "base_uri": "https://localhost:8080/",
          "height": 205
        },
        "id": "AQiRmj0HOwS5",
        "outputId": "482e4c4a-7bb9-4ab5-c5c8-0a065b0e3eab"
      },
      "source": [
        "x=pd.get_dummies(data['housing'])\n",
        "x.head()"
      ],
      "execution_count": 123,
      "outputs": [
        {
          "output_type": "execute_result",
          "data": {
            "text/html": [
              "<div>\n",
              "<style scoped>\n",
              "    .dataframe tbody tr th:only-of-type {\n",
              "        vertical-align: middle;\n",
              "    }\n",
              "\n",
              "    .dataframe tbody tr th {\n",
              "        vertical-align: top;\n",
              "    }\n",
              "\n",
              "    .dataframe thead th {\n",
              "        text-align: right;\n",
              "    }\n",
              "</style>\n",
              "<table border=\"1\" class=\"dataframe\">\n",
              "  <thead>\n",
              "    <tr style=\"text-align: right;\">\n",
              "      <th></th>\n",
              "      <th>A151</th>\n",
              "      <th>A152</th>\n",
              "      <th>A153</th>\n",
              "    </tr>\n",
              "  </thead>\n",
              "  <tbody>\n",
              "    <tr>\n",
              "      <th>656</th>\n",
              "      <td>0</td>\n",
              "      <td>1</td>\n",
              "      <td>0</td>\n",
              "    </tr>\n",
              "    <tr>\n",
              "      <th>775</th>\n",
              "      <td>1</td>\n",
              "      <td>0</td>\n",
              "      <td>0</td>\n",
              "    </tr>\n",
              "    <tr>\n",
              "      <th>414</th>\n",
              "      <td>0</td>\n",
              "      <td>1</td>\n",
              "      <td>0</td>\n",
              "    </tr>\n",
              "    <tr>\n",
              "      <th>74</th>\n",
              "      <td>0</td>\n",
              "      <td>1</td>\n",
              "      <td>0</td>\n",
              "    </tr>\n",
              "    <tr>\n",
              "      <th>768</th>\n",
              "      <td>1</td>\n",
              "      <td>0</td>\n",
              "      <td>0</td>\n",
              "    </tr>\n",
              "  </tbody>\n",
              "</table>\n",
              "</div>"
            ],
            "text/plain": [
              "     A151  A152  A153\n",
              "656     0     1     0\n",
              "775     1     0     0\n",
              "414     0     1     0\n",
              "74      0     1     0\n",
              "768     1     0     0"
            ]
          },
          "metadata": {
            "tags": []
          },
          "execution_count": 123
        }
      ]
    },
    {
      "cell_type": "code",
      "metadata": {
        "id": "1cdelOMEOwS5"
      },
      "source": [
        "data.insert(58,'housing151',x['A151'])\n",
        "data.insert(59,'housing152',x['A152'])\n",
        "data.insert(60,'housing153',x['A153'])\n"
      ],
      "execution_count": 124,
      "outputs": []
    },
    {
      "cell_type": "code",
      "metadata": {
        "colab": {
          "base_uri": "https://localhost:8080/",
          "height": 112
        },
        "id": "DEU0EgjgOwS6",
        "outputId": "5af32637-c57b-4534-a1c8-0c4d0b90d5e2"
      },
      "source": [
        "data[data.columns[55:65]].head(2)"
      ],
      "execution_count": 125,
      "outputs": [
        {
          "output_type": "execute_result",
          "data": {
            "text/html": [
              "<div>\n",
              "<style scoped>\n",
              "    .dataframe tbody tr th:only-of-type {\n",
              "        vertical-align: middle;\n",
              "    }\n",
              "\n",
              "    .dataframe tbody tr th {\n",
              "        vertical-align: top;\n",
              "    }\n",
              "\n",
              "    .dataframe thead th {\n",
              "        text-align: right;\n",
              "    }\n",
              "</style>\n",
              "<table border=\"1\" class=\"dataframe\">\n",
              "  <thead>\n",
              "    <tr style=\"text-align: right;\">\n",
              "      <th></th>\n",
              "      <th>otherinst142</th>\n",
              "      <th>otherinst143</th>\n",
              "      <th>housing</th>\n",
              "      <th>housing151</th>\n",
              "      <th>housing152</th>\n",
              "      <th>housing153</th>\n",
              "      <th>existingcredits</th>\n",
              "      <th>job</th>\n",
              "      <th>peopleliable</th>\n",
              "      <th>telephone</th>\n",
              "    </tr>\n",
              "  </thead>\n",
              "  <tbody>\n",
              "    <tr>\n",
              "      <th>656</th>\n",
              "      <td>0</td>\n",
              "      <td>0</td>\n",
              "      <td>A152</td>\n",
              "      <td>0</td>\n",
              "      <td>1</td>\n",
              "      <td>0</td>\n",
              "      <td>1</td>\n",
              "      <td>A172</td>\n",
              "      <td>2</td>\n",
              "      <td>A191</td>\n",
              "    </tr>\n",
              "    <tr>\n",
              "      <th>775</th>\n",
              "      <td>0</td>\n",
              "      <td>1</td>\n",
              "      <td>A151</td>\n",
              "      <td>1</td>\n",
              "      <td>0</td>\n",
              "      <td>0</td>\n",
              "      <td>1</td>\n",
              "      <td>A173</td>\n",
              "      <td>1</td>\n",
              "      <td>A191</td>\n",
              "    </tr>\n",
              "  </tbody>\n",
              "</table>\n",
              "</div>"
            ],
            "text/plain": [
              "     otherinst142  otherinst143 housing  ...   job  peopleliable  telephone\n",
              "656             0             0    A152  ...  A172             2       A191\n",
              "775             0             1    A151  ...  A173             1       A191\n",
              "\n",
              "[2 rows x 10 columns]"
            ]
          },
          "metadata": {
            "tags": []
          },
          "execution_count": 125
        }
      ]
    },
    {
      "cell_type": "code",
      "metadata": {
        "colab": {
          "base_uri": "https://localhost:8080/",
          "height": 35
        },
        "id": "OLIC5xMKOwS6",
        "outputId": "3f32f847-988f-4a6d-9a50-e8e264f02cf7"
      },
      "source": [
        "data.columns[62]"
      ],
      "execution_count": 126,
      "outputs": [
        {
          "output_type": "execute_result",
          "data": {
            "application/vnd.google.colaboratory.intrinsic+json": {
              "type": "string"
            },
            "text/plain": [
              "'job'"
            ]
          },
          "metadata": {
            "tags": []
          },
          "execution_count": 126
        }
      ]
    },
    {
      "cell_type": "code",
      "metadata": {
        "colab": {
          "base_uri": "https://localhost:8080/",
          "height": 205
        },
        "id": "Joz95T2NOwS7",
        "outputId": "5751581d-68f0-4159-c7bb-cd223dc96692"
      },
      "source": [
        "x=pd.get_dummies(data['job'])\n",
        "x.head()"
      ],
      "execution_count": 127,
      "outputs": [
        {
          "output_type": "execute_result",
          "data": {
            "text/html": [
              "<div>\n",
              "<style scoped>\n",
              "    .dataframe tbody tr th:only-of-type {\n",
              "        vertical-align: middle;\n",
              "    }\n",
              "\n",
              "    .dataframe tbody tr th {\n",
              "        vertical-align: top;\n",
              "    }\n",
              "\n",
              "    .dataframe thead th {\n",
              "        text-align: right;\n",
              "    }\n",
              "</style>\n",
              "<table border=\"1\" class=\"dataframe\">\n",
              "  <thead>\n",
              "    <tr style=\"text-align: right;\">\n",
              "      <th></th>\n",
              "      <th>A171</th>\n",
              "      <th>A172</th>\n",
              "      <th>A173</th>\n",
              "      <th>A174</th>\n",
              "    </tr>\n",
              "  </thead>\n",
              "  <tbody>\n",
              "    <tr>\n",
              "      <th>656</th>\n",
              "      <td>0</td>\n",
              "      <td>1</td>\n",
              "      <td>0</td>\n",
              "      <td>0</td>\n",
              "    </tr>\n",
              "    <tr>\n",
              "      <th>775</th>\n",
              "      <td>0</td>\n",
              "      <td>0</td>\n",
              "      <td>1</td>\n",
              "      <td>0</td>\n",
              "    </tr>\n",
              "    <tr>\n",
              "      <th>414</th>\n",
              "      <td>0</td>\n",
              "      <td>0</td>\n",
              "      <td>1</td>\n",
              "      <td>0</td>\n",
              "    </tr>\n",
              "    <tr>\n",
              "      <th>74</th>\n",
              "      <td>0</td>\n",
              "      <td>0</td>\n",
              "      <td>0</td>\n",
              "      <td>1</td>\n",
              "    </tr>\n",
              "    <tr>\n",
              "      <th>768</th>\n",
              "      <td>0</td>\n",
              "      <td>0</td>\n",
              "      <td>1</td>\n",
              "      <td>0</td>\n",
              "    </tr>\n",
              "  </tbody>\n",
              "</table>\n",
              "</div>"
            ],
            "text/plain": [
              "     A171  A172  A173  A174\n",
              "656     0     1     0     0\n",
              "775     0     0     1     0\n",
              "414     0     0     1     0\n",
              "74      0     0     0     1\n",
              "768     0     0     1     0"
            ]
          },
          "metadata": {
            "tags": []
          },
          "execution_count": 127
        }
      ]
    },
    {
      "cell_type": "code",
      "metadata": {
        "id": "Yh-nSNHZOwS7"
      },
      "source": [
        "data.insert(63,'job171',x['A171'])\n",
        "data.insert(64,'job172',x['A172'])\n",
        "data.insert(65,'job173',x['A173'])\n",
        "data.insert(66,'job174',x['A174'])"
      ],
      "execution_count": 128,
      "outputs": []
    },
    {
      "cell_type": "code",
      "metadata": {
        "colab": {
          "base_uri": "https://localhost:8080/",
          "height": 112
        },
        "id": "zFYly7SGOwS8",
        "outputId": "f172bd5e-fba1-411f-e081-99ecd273b17b"
      },
      "source": [
        "data[data.columns[60:70]].head(2)"
      ],
      "execution_count": 129,
      "outputs": [
        {
          "output_type": "execute_result",
          "data": {
            "text/html": [
              "<div>\n",
              "<style scoped>\n",
              "    .dataframe tbody tr th:only-of-type {\n",
              "        vertical-align: middle;\n",
              "    }\n",
              "\n",
              "    .dataframe tbody tr th {\n",
              "        vertical-align: top;\n",
              "    }\n",
              "\n",
              "    .dataframe thead th {\n",
              "        text-align: right;\n",
              "    }\n",
              "</style>\n",
              "<table border=\"1\" class=\"dataframe\">\n",
              "  <thead>\n",
              "    <tr style=\"text-align: right;\">\n",
              "      <th></th>\n",
              "      <th>housing153</th>\n",
              "      <th>existingcredits</th>\n",
              "      <th>job</th>\n",
              "      <th>job171</th>\n",
              "      <th>job172</th>\n",
              "      <th>job173</th>\n",
              "      <th>job174</th>\n",
              "      <th>peopleliable</th>\n",
              "      <th>telephone</th>\n",
              "      <th>foreignworker</th>\n",
              "    </tr>\n",
              "  </thead>\n",
              "  <tbody>\n",
              "    <tr>\n",
              "      <th>656</th>\n",
              "      <td>0</td>\n",
              "      <td>1</td>\n",
              "      <td>A172</td>\n",
              "      <td>0</td>\n",
              "      <td>1</td>\n",
              "      <td>0</td>\n",
              "      <td>0</td>\n",
              "      <td>2</td>\n",
              "      <td>A191</td>\n",
              "      <td>A201</td>\n",
              "    </tr>\n",
              "    <tr>\n",
              "      <th>775</th>\n",
              "      <td>0</td>\n",
              "      <td>1</td>\n",
              "      <td>A173</td>\n",
              "      <td>0</td>\n",
              "      <td>0</td>\n",
              "      <td>1</td>\n",
              "      <td>0</td>\n",
              "      <td>1</td>\n",
              "      <td>A191</td>\n",
              "      <td>A201</td>\n",
              "    </tr>\n",
              "  </tbody>\n",
              "</table>\n",
              "</div>"
            ],
            "text/plain": [
              "     housing153  existingcredits   job  ...  peopleliable  telephone  foreignworker\n",
              "656           0                1  A172  ...             2       A191           A201\n",
              "775           0                1  A173  ...             1       A191           A201\n",
              "\n",
              "[2 rows x 10 columns]"
            ]
          },
          "metadata": {
            "tags": []
          },
          "execution_count": 129
        }
      ]
    },
    {
      "cell_type": "code",
      "metadata": {
        "colab": {
          "base_uri": "https://localhost:8080/",
          "height": 35
        },
        "id": "Sn7iPNVnOwS8",
        "outputId": "6b5fa8ed-600d-4d45-e269-4778710b31e6"
      },
      "source": [
        "data.columns[68]"
      ],
      "execution_count": 130,
      "outputs": [
        {
          "output_type": "execute_result",
          "data": {
            "application/vnd.google.colaboratory.intrinsic+json": {
              "type": "string"
            },
            "text/plain": [
              "'telephone'"
            ]
          },
          "metadata": {
            "tags": []
          },
          "execution_count": 130
        }
      ]
    },
    {
      "cell_type": "code",
      "metadata": {
        "colab": {
          "base_uri": "https://localhost:8080/",
          "height": 112
        },
        "id": "cKMWnCdGOwS8",
        "outputId": "9674b081-9358-4d40-8721-68578131892a"
      },
      "source": [
        "x=pd.get_dummies(data['telephone'])\n",
        "x.head(2)"
      ],
      "execution_count": 131,
      "outputs": [
        {
          "output_type": "execute_result",
          "data": {
            "text/html": [
              "<div>\n",
              "<style scoped>\n",
              "    .dataframe tbody tr th:only-of-type {\n",
              "        vertical-align: middle;\n",
              "    }\n",
              "\n",
              "    .dataframe tbody tr th {\n",
              "        vertical-align: top;\n",
              "    }\n",
              "\n",
              "    .dataframe thead th {\n",
              "        text-align: right;\n",
              "    }\n",
              "</style>\n",
              "<table border=\"1\" class=\"dataframe\">\n",
              "  <thead>\n",
              "    <tr style=\"text-align: right;\">\n",
              "      <th></th>\n",
              "      <th>A191</th>\n",
              "      <th>A192</th>\n",
              "    </tr>\n",
              "  </thead>\n",
              "  <tbody>\n",
              "    <tr>\n",
              "      <th>656</th>\n",
              "      <td>1</td>\n",
              "      <td>0</td>\n",
              "    </tr>\n",
              "    <tr>\n",
              "      <th>775</th>\n",
              "      <td>1</td>\n",
              "      <td>0</td>\n",
              "    </tr>\n",
              "  </tbody>\n",
              "</table>\n",
              "</div>"
            ],
            "text/plain": [
              "     A191  A192\n",
              "656     1     0\n",
              "775     1     0"
            ]
          },
          "metadata": {
            "tags": []
          },
          "execution_count": 131
        }
      ]
    },
    {
      "cell_type": "code",
      "metadata": {
        "id": "KX-lZuNtOwS8"
      },
      "source": [
        "data.insert(69,'tel191',x['A191'])\n",
        "data.insert(70,'tel192',x['A192'])\n"
      ],
      "execution_count": 132,
      "outputs": []
    },
    {
      "cell_type": "code",
      "metadata": {
        "colab": {
          "base_uri": "https://localhost:8080/",
          "height": 112
        },
        "id": "l20nmg9IOwS9",
        "outputId": "a3889d85-6f05-451e-924b-13ad927201b9"
      },
      "source": [
        "data[data.columns[65:78]].head(2)"
      ],
      "execution_count": 133,
      "outputs": [
        {
          "output_type": "execute_result",
          "data": {
            "text/html": [
              "<div>\n",
              "<style scoped>\n",
              "    .dataframe tbody tr th:only-of-type {\n",
              "        vertical-align: middle;\n",
              "    }\n",
              "\n",
              "    .dataframe tbody tr th {\n",
              "        vertical-align: top;\n",
              "    }\n",
              "\n",
              "    .dataframe thead th {\n",
              "        text-align: right;\n",
              "    }\n",
              "</style>\n",
              "<table border=\"1\" class=\"dataframe\">\n",
              "  <thead>\n",
              "    <tr style=\"text-align: right;\">\n",
              "      <th></th>\n",
              "      <th>job173</th>\n",
              "      <th>job174</th>\n",
              "      <th>peopleliable</th>\n",
              "      <th>telephone</th>\n",
              "      <th>tel191</th>\n",
              "      <th>tel192</th>\n",
              "      <th>foreignworker</th>\n",
              "      <th>classification</th>\n",
              "    </tr>\n",
              "  </thead>\n",
              "  <tbody>\n",
              "    <tr>\n",
              "      <th>656</th>\n",
              "      <td>0</td>\n",
              "      <td>0</td>\n",
              "      <td>2</td>\n",
              "      <td>A191</td>\n",
              "      <td>1</td>\n",
              "      <td>0</td>\n",
              "      <td>A201</td>\n",
              "      <td>2</td>\n",
              "    </tr>\n",
              "    <tr>\n",
              "      <th>775</th>\n",
              "      <td>1</td>\n",
              "      <td>0</td>\n",
              "      <td>1</td>\n",
              "      <td>A191</td>\n",
              "      <td>1</td>\n",
              "      <td>0</td>\n",
              "      <td>A201</td>\n",
              "      <td>2</td>\n",
              "    </tr>\n",
              "  </tbody>\n",
              "</table>\n",
              "</div>"
            ],
            "text/plain": [
              "     job173  job174  peopleliable  ... tel192  foreignworker  classification\n",
              "656       0       0             2  ...      0           A201               2\n",
              "775       1       0             1  ...      0           A201               2\n",
              "\n",
              "[2 rows x 8 columns]"
            ]
          },
          "metadata": {
            "tags": []
          },
          "execution_count": 133
        }
      ]
    },
    {
      "cell_type": "code",
      "metadata": {
        "colab": {
          "base_uri": "https://localhost:8080/",
          "height": 35
        },
        "id": "JYI-c7LUOwS-",
        "outputId": "abaf5e81-69a5-4961-b8d2-89883b204e78"
      },
      "source": [
        "data.columns[71]"
      ],
      "execution_count": 134,
      "outputs": [
        {
          "output_type": "execute_result",
          "data": {
            "application/vnd.google.colaboratory.intrinsic+json": {
              "type": "string"
            },
            "text/plain": [
              "'foreignworker'"
            ]
          },
          "metadata": {
            "tags": []
          },
          "execution_count": 134
        }
      ]
    },
    {
      "cell_type": "code",
      "metadata": {
        "colab": {
          "base_uri": "https://localhost:8080/",
          "height": 112
        },
        "id": "gWp0r3hBOwS-",
        "outputId": "c8139e8c-d01b-4681-a055-c0d8763477d0"
      },
      "source": [
        "x=pd.get_dummies(data['foreignworker'])\n",
        "x.head(2)"
      ],
      "execution_count": 135,
      "outputs": [
        {
          "output_type": "execute_result",
          "data": {
            "text/html": [
              "<div>\n",
              "<style scoped>\n",
              "    .dataframe tbody tr th:only-of-type {\n",
              "        vertical-align: middle;\n",
              "    }\n",
              "\n",
              "    .dataframe tbody tr th {\n",
              "        vertical-align: top;\n",
              "    }\n",
              "\n",
              "    .dataframe thead th {\n",
              "        text-align: right;\n",
              "    }\n",
              "</style>\n",
              "<table border=\"1\" class=\"dataframe\">\n",
              "  <thead>\n",
              "    <tr style=\"text-align: right;\">\n",
              "      <th></th>\n",
              "      <th>A201</th>\n",
              "      <th>A202</th>\n",
              "    </tr>\n",
              "  </thead>\n",
              "  <tbody>\n",
              "    <tr>\n",
              "      <th>656</th>\n",
              "      <td>1</td>\n",
              "      <td>0</td>\n",
              "    </tr>\n",
              "    <tr>\n",
              "      <th>775</th>\n",
              "      <td>1</td>\n",
              "      <td>0</td>\n",
              "    </tr>\n",
              "  </tbody>\n",
              "</table>\n",
              "</div>"
            ],
            "text/plain": [
              "     A201  A202\n",
              "656     1     0\n",
              "775     1     0"
            ]
          },
          "metadata": {
            "tags": []
          },
          "execution_count": 135
        }
      ]
    },
    {
      "cell_type": "code",
      "metadata": {
        "id": "4GL1kAB-OwS_"
      },
      "source": [
        "data.insert(72,'foreig201',x['A201'])\n",
        "data.insert(73,'foreig202',x['A202'])"
      ],
      "execution_count": 136,
      "outputs": []
    },
    {
      "cell_type": "code",
      "metadata": {
        "colab": {
          "base_uri": "https://localhost:8080/",
          "height": 112
        },
        "id": "pcq3R5bROwS_",
        "outputId": "b2e9640c-6cb6-489a-9333-76a26013c361"
      },
      "source": [
        "data[data.columns[70:]].head(2)"
      ],
      "execution_count": 137,
      "outputs": [
        {
          "output_type": "execute_result",
          "data": {
            "text/html": [
              "<div>\n",
              "<style scoped>\n",
              "    .dataframe tbody tr th:only-of-type {\n",
              "        vertical-align: middle;\n",
              "    }\n",
              "\n",
              "    .dataframe tbody tr th {\n",
              "        vertical-align: top;\n",
              "    }\n",
              "\n",
              "    .dataframe thead th {\n",
              "        text-align: right;\n",
              "    }\n",
              "</style>\n",
              "<table border=\"1\" class=\"dataframe\">\n",
              "  <thead>\n",
              "    <tr style=\"text-align: right;\">\n",
              "      <th></th>\n",
              "      <th>tel192</th>\n",
              "      <th>foreignworker</th>\n",
              "      <th>foreig201</th>\n",
              "      <th>foreig202</th>\n",
              "      <th>classification</th>\n",
              "    </tr>\n",
              "  </thead>\n",
              "  <tbody>\n",
              "    <tr>\n",
              "      <th>656</th>\n",
              "      <td>0</td>\n",
              "      <td>A201</td>\n",
              "      <td>1</td>\n",
              "      <td>0</td>\n",
              "      <td>2</td>\n",
              "    </tr>\n",
              "    <tr>\n",
              "      <th>775</th>\n",
              "      <td>0</td>\n",
              "      <td>A201</td>\n",
              "      <td>1</td>\n",
              "      <td>0</td>\n",
              "      <td>2</td>\n",
              "    </tr>\n",
              "  </tbody>\n",
              "</table>\n",
              "</div>"
            ],
            "text/plain": [
              "     tel192 foreignworker  foreig201  foreig202  classification\n",
              "656       0          A201          1          0               2\n",
              "775       0          A201          1          0               2"
            ]
          },
          "metadata": {
            "tags": []
          },
          "execution_count": 137
        }
      ]
    },
    {
      "cell_type": "code",
      "metadata": {
        "colab": {
          "base_uri": "https://localhost:8080/"
        },
        "id": "31-Y0Cw8OwTA",
        "outputId": "a4c47a09-7c38-4619-9421-a19e13f5daf4"
      },
      "source": [
        "data.columns"
      ],
      "execution_count": 138,
      "outputs": [
        {
          "output_type": "execute_result",
          "data": {
            "text/plain": [
              "Index(['existingchecking', 'ExistA11', 'ExistA12', 'ExistA13', 'ExistA14',\n",
              "       'duration', 'credithistory', 'credhistA30', 'credhistA31',\n",
              "       'credhistA32', 'credhistA33', 'credhistA34', 'purpose', 'purposeA40',\n",
              "       'purposeA41', 'purposeA410', 'purposeA42', 'purposeA43', 'purposeA44',\n",
              "       'purposeA45', 'purposeA46', 'purposeA48', 'purposeA49', 'creditamount',\n",
              "       'savings', 'savingsA61', 'savingsA62', 'savingsA63', 'savingsA64',\n",
              "       'savingsA65', 'employmentsince', 'employmA71', 'employmA72',\n",
              "       'employmA73', 'employmA74', 'employmA75', 'installmentrate',\n",
              "       'statussex', 'statussex91', 'statussex92', 'statussex93', 'statussex94',\n",
              "       'otherdebtors', 'otherdeb101', 'otherdeb102', 'otherdeb103',\n",
              "       'residencesince', 'property', 'property121', 'property122',\n",
              "       'property123', 'property124', 'age', 'otherinstallmentplans',\n",
              "       'otherinst141', 'otherinst142', 'otherinst143', 'housing', 'housing151',\n",
              "       'housing152', 'housing153', 'existingcredits', 'job', 'job171',\n",
              "       'job172', 'job173', 'job174', 'peopleliable', 'telephone', 'tel191',\n",
              "       'tel192', 'foreignworker', 'foreig201', 'foreig202', 'classification'],\n",
              "      dtype='object')"
            ]
          },
          "metadata": {
            "tags": []
          },
          "execution_count": 138
        }
      ]
    },
    {
      "cell_type": "code",
      "metadata": {
        "id": "toWdPPblOwTA"
      },
      "source": [
        "#antes de dropar colunas categóricas, vamos ver os counts"
      ],
      "execution_count": 139,
      "outputs": []
    },
    {
      "cell_type": "code",
      "metadata": {
        "colab": {
          "base_uri": "https://localhost:8080/"
        },
        "id": "AvLqBF7AOwTA",
        "outputId": "3562baf1-19ac-4087-c33b-a5b1489d42e2"
      },
      "source": [
        "data['existingchecking'].value_counts()"
      ],
      "execution_count": 140,
      "outputs": [
        {
          "output_type": "execute_result",
          "data": {
            "text/plain": [
              "A14    202\n",
              "A11    190\n",
              "A12    175\n",
              "A13     33\n",
              "Name: existingchecking, dtype: int64"
            ]
          },
          "metadata": {
            "tags": []
          },
          "execution_count": 140
        }
      ]
    },
    {
      "cell_type": "code",
      "metadata": {
        "colab": {
          "base_uri": "https://localhost:8080/"
        },
        "id": "mEB9e73IOwTB",
        "outputId": "2d073ca7-1b4a-4422-e646-423c7681a971"
      },
      "source": [
        "data['credithistory'].value_counts()"
      ],
      "execution_count": 141,
      "outputs": [
        {
          "output_type": "execute_result",
          "data": {
            "text/plain": [
              "A32    317\n",
              "A34    164\n",
              "A33     58\n",
              "A31     35\n",
              "A30     26\n",
              "Name: credithistory, dtype: int64"
            ]
          },
          "metadata": {
            "tags": []
          },
          "execution_count": 141
        }
      ]
    },
    {
      "cell_type": "code",
      "metadata": {
        "colab": {
          "base_uri": "https://localhost:8080/"
        },
        "id": "sED3p-rNOwTB",
        "outputId": "e28be9bc-d222-49ab-bac7-32bb0204b65c"
      },
      "source": [
        "data['purpose'].value_counts()"
      ],
      "execution_count": 142,
      "outputs": [
        {
          "output_type": "execute_result",
          "data": {
            "text/plain": [
              "A43     155\n",
              "A40     152\n",
              "A42     113\n",
              "A49      60\n",
              "A41      55\n",
              "A46      34\n",
              "A45      15\n",
              "A44       6\n",
              "A410      6\n",
              "A48       4\n",
              "Name: purpose, dtype: int64"
            ]
          },
          "metadata": {
            "tags": []
          },
          "execution_count": 142
        }
      ]
    },
    {
      "cell_type": "code",
      "metadata": {
        "colab": {
          "base_uri": "https://localhost:8080/"
        },
        "id": "N16xtVvMOwTB",
        "outputId": "3e9ab1d6-ca97-423f-a88a-a6c3724f0660"
      },
      "source": [
        "data['savings'].value_counts()"
      ],
      "execution_count": 143,
      "outputs": [
        {
          "output_type": "execute_result",
          "data": {
            "text/plain": [
              "A61    378\n",
              "A65    103\n",
              "A62     65\n",
              "A63     29\n",
              "A64     25\n",
              "Name: savings, dtype: int64"
            ]
          },
          "metadata": {
            "tags": []
          },
          "execution_count": 143
        }
      ]
    },
    {
      "cell_type": "code",
      "metadata": {
        "colab": {
          "base_uri": "https://localhost:8080/"
        },
        "id": "fwAmTjCpOwTC",
        "outputId": "a1bc67ba-4bbc-4b84-8a6c-2d6f959b4680"
      },
      "source": [
        "data['employmentsince'].value_counts()"
      ],
      "execution_count": 144,
      "outputs": [
        {
          "output_type": "execute_result",
          "data": {
            "text/plain": [
              "A73    194\n",
              "A75    156\n",
              "A72    115\n",
              "A74     96\n",
              "A71     39\n",
              "Name: employmentsince, dtype: int64"
            ]
          },
          "metadata": {
            "tags": []
          },
          "execution_count": 144
        }
      ]
    },
    {
      "cell_type": "code",
      "metadata": {
        "colab": {
          "base_uri": "https://localhost:8080/"
        },
        "id": "pwePAwsgOwTC",
        "outputId": "0370056c-5049-4c4e-95e7-02cc40a7cc2e"
      },
      "source": [
        "data['statussex'].value_counts()"
      ],
      "execution_count": 145,
      "outputs": [
        {
          "output_type": "execute_result",
          "data": {
            "text/plain": [
              "A93    318\n",
              "A92    200\n",
              "A94     52\n",
              "A91     30\n",
              "Name: statussex, dtype: int64"
            ]
          },
          "metadata": {
            "tags": []
          },
          "execution_count": 145
        }
      ]
    },
    {
      "cell_type": "code",
      "metadata": {
        "colab": {
          "base_uri": "https://localhost:8080/"
        },
        "id": "mj172kWjOwTD",
        "outputId": "18d5a3d0-4c91-4a43-9532-79ecc735b2be"
      },
      "source": [
        "data['otherdebtors'].value_counts()"
      ],
      "execution_count": 146,
      "outputs": [
        {
          "output_type": "execute_result",
          "data": {
            "text/plain": [
              "A101    545\n",
              "A102     29\n",
              "A103     26\n",
              "Name: otherdebtors, dtype: int64"
            ]
          },
          "metadata": {
            "tags": []
          },
          "execution_count": 146
        }
      ]
    },
    {
      "cell_type": "code",
      "metadata": {
        "colab": {
          "base_uri": "https://localhost:8080/"
        },
        "id": "MRr7WtzoOwTD",
        "outputId": "2dfaf071-4c8f-4c11-dde3-e1005abf7bf7"
      },
      "source": [
        "data['property'].value_counts()"
      ],
      "execution_count": 147,
      "outputs": [
        {
          "output_type": "execute_result",
          "data": {
            "text/plain": [
              "A123    192\n",
              "A121    151\n",
              "A122    147\n",
              "A124    110\n",
              "Name: property, dtype: int64"
            ]
          },
          "metadata": {
            "tags": []
          },
          "execution_count": 147
        }
      ]
    },
    {
      "cell_type": "code",
      "metadata": {
        "colab": {
          "base_uri": "https://localhost:8080/"
        },
        "id": "knomyrcxOwTE",
        "outputId": "f9db2c64-d765-4baf-d26a-ec13f1e004b9"
      },
      "source": [
        "data['otherinstallmentplans'].value_counts()"
      ],
      "execution_count": 148,
      "outputs": [
        {
          "output_type": "execute_result",
          "data": {
            "text/plain": [
              "A143    485\n",
              "A141     83\n",
              "A142     32\n",
              "Name: otherinstallmentplans, dtype: int64"
            ]
          },
          "metadata": {
            "tags": []
          },
          "execution_count": 148
        }
      ]
    },
    {
      "cell_type": "code",
      "metadata": {
        "colab": {
          "base_uri": "https://localhost:8080/"
        },
        "id": "TcMEnRYuOwTE",
        "outputId": "747f75d4-1a7d-4486-d977-6cf29029fdab"
      },
      "source": [
        "data['housing'].value_counts()"
      ],
      "execution_count": 149,
      "outputs": [
        {
          "output_type": "execute_result",
          "data": {
            "text/plain": [
              "A152    408\n",
              "A151    116\n",
              "A153     76\n",
              "Name: housing, dtype: int64"
            ]
          },
          "metadata": {
            "tags": []
          },
          "execution_count": 149
        }
      ]
    },
    {
      "cell_type": "code",
      "metadata": {
        "colab": {
          "base_uri": "https://localhost:8080/"
        },
        "id": "520l9guxOwTF",
        "outputId": "13481383-0ac0-4980-89fb-4c80cbf42c8e"
      },
      "source": [
        "data['job'].value_counts()"
      ],
      "execution_count": 150,
      "outputs": [
        {
          "output_type": "execute_result",
          "data": {
            "text/plain": [
              "A173    378\n",
              "A172    111\n",
              "A174     98\n",
              "A171     13\n",
              "Name: job, dtype: int64"
            ]
          },
          "metadata": {
            "tags": []
          },
          "execution_count": 150
        }
      ]
    },
    {
      "cell_type": "code",
      "metadata": {
        "colab": {
          "base_uri": "https://localhost:8080/"
        },
        "id": "682k9ftKOwTF",
        "outputId": "b0713558-7773-4111-c89d-7369206b1de7"
      },
      "source": [
        "data['telephone'].value_counts()"
      ],
      "execution_count": 151,
      "outputs": [
        {
          "output_type": "execute_result",
          "data": {
            "text/plain": [
              "A191    356\n",
              "A192    244\n",
              "Name: telephone, dtype: int64"
            ]
          },
          "metadata": {
            "tags": []
          },
          "execution_count": 151
        }
      ]
    },
    {
      "cell_type": "code",
      "metadata": {
        "colab": {
          "base_uri": "https://localhost:8080/"
        },
        "id": "nmFlRX6hOwTG",
        "outputId": "51b0cf12-fdbc-4b1d-a39d-bfc978f217ac"
      },
      "source": [
        "data['foreignworker'].value_counts()"
      ],
      "execution_count": 152,
      "outputs": [
        {
          "output_type": "execute_result",
          "data": {
            "text/plain": [
              "A201    582\n",
              "A202     18\n",
              "Name: foreignworker, dtype: int64"
            ]
          },
          "metadata": {
            "tags": []
          },
          "execution_count": 152
        }
      ]
    },
    {
      "cell_type": "markdown",
      "metadata": {
        "id": "nsQ_LjrnOwTG"
      },
      "source": [
        "Conhecendo as features (relacionamento com targets)"
      ]
    },
    {
      "cell_type": "code",
      "metadata": {
        "id": "w3XkeuPVOwTG"
      },
      "source": [
        "data1=data[data['classification']==1].copy()\n",
        "data2=data[data['classification']==2].copy()"
      ],
      "execution_count": 153,
      "outputs": []
    },
    {
      "cell_type": "code",
      "metadata": {
        "colab": {
          "base_uri": "https://localhost:8080/"
        },
        "id": "MTKmxwIQWbP7",
        "outputId": "963137ba-2d15-459f-9b04-e82ed639d565"
      },
      "source": [
        "len(data)"
      ],
      "execution_count": 154,
      "outputs": [
        {
          "output_type": "execute_result",
          "data": {
            "text/plain": [
              "600"
            ]
          },
          "metadata": {
            "tags": []
          },
          "execution_count": 154
        }
      ]
    },
    {
      "cell_type": "code",
      "metadata": {
        "colab": {
          "base_uri": "https://localhost:8080/"
        },
        "id": "6MDP55rYVrJf",
        "outputId": "74076ff8-488c-4834-a4c3-b83ee6edc4c0"
      },
      "source": [
        "len(data1),len(data2)"
      ],
      "execution_count": 155,
      "outputs": [
        {
          "output_type": "execute_result",
          "data": {
            "text/plain": [
              "(300, 300)"
            ]
          },
          "metadata": {
            "tags": []
          },
          "execution_count": 155
        }
      ]
    },
    {
      "cell_type": "code",
      "metadata": {
        "colab": {
          "base_uri": "https://localhost:8080/",
          "height": 312
        },
        "id": "C2odft-QOwTH",
        "outputId": "bfd9807a-1dfc-44c6-ff09-a01e8eb2a403"
      },
      "source": [
        "fig, (ax1, ax2) = plt.subplots(1, 2)\n",
        "fig.suptitle('Idades')\n",
        "hist1,bin_edges1 = np.histogram(data1['age'])\n",
        "hist2,bin_edges2 = np.histogram(data2['age'])\n",
        "ax1.set_title('Crédito Bom')\n",
        "ax1.bar(bin_edges1[:-1], hist1, width = 1.5, color='#0504aa',alpha=0.7)\n",
        "ax2.set_title('Crédito Ruim')\n",
        "ax2.bar(bin_edges2[:-1], hist2, width = 1.5, color='#0504aa',alpha=0.7)\n"
      ],
      "execution_count": 156,
      "outputs": [
        {
          "output_type": "execute_result",
          "data": {
            "text/plain": [
              "<BarContainer object of 10 artists>"
            ]
          },
          "metadata": {
            "tags": []
          },
          "execution_count": 156
        },
        {
          "output_type": "display_data",
          "data": {
            "image/png": "[encoded data removed]",
            "text/plain": [
              "<Figure size 432x288 with 2 Axes>"
            ]
          },
          "metadata": {
            "tags": [],
            "needs_background": "light"
          }
        }
      ]
    },
    {
      "cell_type": "code",
      "metadata": {
        "colab": {
          "base_uri": "https://localhost:8080/",
          "height": 312
        },
        "id": "a3Z1lhrHOwTH",
        "outputId": "239015c9-6580-4e06-9c54-8a384cc39664"
      },
      "source": [
        "fig, (ax1, ax2) = plt.subplots(1, 2)\n",
        "fig.suptitle('Valor do crédito')\n",
        "m1=data1['creditamount'].max()\n",
        "m2=data2['creditamount'].max()\n",
        "m=max(m1,m2)\n",
        "cam1=data1['creditamount']//(m//10)\n",
        "cam2=data2['creditamount']//(m//10)\n",
        "hist1,bin_edges1 = np.histogram(cam1)\n",
        "hist2,bin_edges2 = np.histogram(cam2)\n",
        "ax1.set_title('Crédito Bom')\n",
        "ax1.bar(bin_edges1[:-1], hist1, width = 0.5, color='#0504aa',alpha=0.7)\n",
        "ax2.set_title('Crédito Ruim')\n",
        "ax2.bar(bin_edges2[:-1], hist2, width = 0.5, color='#0504aa',alpha=0.7)\n"
      ],
      "execution_count": 157,
      "outputs": [
        {
          "output_type": "execute_result",
          "data": {
            "text/plain": [
              "<BarContainer object of 10 artists>"
            ]
          },
          "metadata": {
            "tags": []
          },
          "execution_count": 157
        },
        {
          "output_type": "display_data",
          "data": {
            "image/png": "[encoded data removed]",
            "text/plain": [
              "<Figure size 432x288 with 2 Axes>"
            ]
          },
          "metadata": {
            "tags": [],
            "needs_background": "light"
          }
        }
      ]
    },
    {
      "cell_type": "code",
      "metadata": {
        "colab": {
          "base_uri": "https://localhost:8080/",
          "height": 312
        },
        "id": "NpufDVtOOwTI",
        "outputId": "5b0edb2d-01cd-4f42-e1de-8a6ae95dc6bb"
      },
      "source": [
        "fig, (ax1, ax2) = plt.subplots(1, 2)\n",
        "fig.suptitle('Poupança > 1000DM')\n",
        "hist1,bin_edges1 = np.histogram(data1['savingsA64'])\n",
        "hist2,bin_edges2 = np.histogram(data2['savingsA64'])\n",
        "ax1.set_title('Crédito Bom')\n",
        "ax1.bar(bin_edges1[:-1], hist1, width = 0.5, color='#0504aa',alpha=0.7)\n",
        "ax2.set_title('Crédito Ruim')\n",
        "ax2.bar(bin_edges2[:-1], hist2, width = 0.5, color='#0504aa',alpha=0.7)\n",
        "data1['savingsA64'].sum()/len(data1),data2['savingsA64'].sum()/len(data2)"
      ],
      "execution_count": 158,
      "outputs": [
        {
          "output_type": "execute_result",
          "data": {
            "text/plain": [
              "(0.06333333333333334, 0.02)"
            ]
          },
          "metadata": {
            "tags": []
          },
          "execution_count": 158
        },
        {
          "output_type": "display_data",
          "data": {
            "image/png": "[encoded data removed]",
            "text/plain": [
              "<Figure size 432x288 with 2 Axes>"
            ]
          },
          "metadata": {
            "tags": [],
            "needs_background": "light"
          }
        }
      ]
    },
    {
      "cell_type": "code",
      "metadata": {
        "colab": {
          "base_uri": "https://localhost:8080/",
          "height": 312
        },
        "id": "ysBNmW7fOwTI",
        "outputId": "2ba51eed-d601-49ac-bdd8-08dbf4b715cc"
      },
      "source": [
        "fig, (ax1, ax2) = plt.subplots(1, 2)\n",
        "fig.suptitle('Casa Própria')\n",
        "hist1,bin_edges1 = np.histogram(data1['housing152'])\n",
        "hist2,bin_edges2 = np.histogram(data2['housing152'])\n",
        "ax1.set_title('Crédito Bom')\n",
        "ax1.bar(bin_edges1[:-1], hist1, width = 0.5, color='#0504aa',alpha=0.7)\n",
        "ax2.set_title('Crédito Ruim')\n",
        "ax2.bar(bin_edges2[:-1], hist2, width = 0.5, color='#0504aa',alpha=0.7)\n",
        "data1['housing152'].sum()/len(data1),data2['housing152'].sum()/len(data2)"
      ],
      "execution_count": 159,
      "outputs": [
        {
          "output_type": "execute_result",
          "data": {
            "text/plain": [
              "(0.74, 0.62)"
            ]
          },
          "metadata": {
            "tags": []
          },
          "execution_count": 159
        },
        {
          "output_type": "display_data",
          "data": {
            "image/png": "[encoded data removed]",
            "text/plain": [
              "<Figure size 432x288 with 2 Axes>"
            ]
          },
          "metadata": {
            "tags": [],
            "needs_background": "light"
          }
        }
      ]
    },
    {
      "cell_type": "code",
      "metadata": {
        "colab": {
          "base_uri": "https://localhost:8080/",
          "height": 312
        },
        "id": "im7cf8kpOwTI",
        "outputId": "86a223c9-e873-488a-a16b-789b876eb5da"
      },
      "source": [
        "fig, (ax1, ax2) = plt.subplots(1, 2)\n",
        "fig.suptitle('Desemprego')\n",
        "hist1,bin_edges1 = np.histogram(data1['job171'])\n",
        "hist2,bin_edges2 = np.histogram(data2['job171'])\n",
        "ax1.set_title('Crédito Bom')\n",
        "ax1.bar(bin_edges1[:-1], hist1, width = 0.5, color='#0504aa',alpha=0.7)\n",
        "ax2.set_title('Crédito Ruim')\n",
        "ax2.bar(bin_edges2[:-1], hist2, width = 0.5, color='#0504aa',alpha=0.7)\n",
        "data1['job171'].sum()/len(data1),data2['job171'].sum()/len(data2)"
      ],
      "execution_count": 160,
      "outputs": [
        {
          "output_type": "execute_result",
          "data": {
            "text/plain": [
              "(0.02, 0.023333333333333334)"
            ]
          },
          "metadata": {
            "tags": []
          },
          "execution_count": 160
        },
        {
          "output_type": "display_data",
          "data": {
            "image/png": "[encoded data removed]",
            "text/plain": [
              "<Figure size 432x288 with 2 Axes>"
            ]
          },
          "metadata": {
            "tags": [],
            "needs_background": "light"
          }
        }
      ]
    },
    {
      "cell_type": "code",
      "metadata": {
        "colab": {
          "base_uri": "https://localhost:8080/",
          "height": 312
        },
        "id": "UDy0omFnOwTJ",
        "outputId": "bf4bd011-374c-4e2b-e512-65ca51e8629a"
      },
      "source": [
        "fig, (ax1, ax2) = plt.subplots(1, 2)\n",
        "fig.suptitle('Histórico de empréstimos pagos')\n",
        "hist1,bin_edges1 = np.histogram(data1['credhistA31'])\n",
        "hist2,bin_edges2 = np.histogram(data2['credhistA31'])\n",
        "ax1.set_title('Crédito Bom')\n",
        "ax1.bar(bin_edges1[:-1], hist1, width = 0.5, color='#0504aa',alpha=0.7)\n",
        "ax2.set_title('Crédito Ruim')\n",
        "ax2.bar(bin_edges2[:-1], hist2, width = 0.5, color='#0504aa',alpha=0.7)\n",
        "data1['credhistA31'].sum()/len(data1),data2['credhistA31'].sum()/len(data2)"
      ],
      "execution_count": 161,
      "outputs": [
        {
          "output_type": "execute_result",
          "data": {
            "text/plain": [
              "(0.023333333333333334, 0.09333333333333334)"
            ]
          },
          "metadata": {
            "tags": []
          },
          "execution_count": 161
        },
        {
          "output_type": "display_data",
          "data": {
            "image/png": "[encoded data removed]",
            "text/plain": [
              "<Figure size 432x288 with 2 Axes>"
            ]
          },
          "metadata": {
            "tags": [],
            "needs_background": "light"
          }
        }
      ]
    },
    {
      "cell_type": "code",
      "metadata": {
        "colab": {
          "base_uri": "https://localhost:8080/",
          "height": 263
        },
        "id": "GepuTq2QOwTJ",
        "outputId": "d7eb0f8d-e9fa-40c8-c70a-a3e0656d64b6"
      },
      "source": [
        "fig, (ax1, ax2) = plt.subplots(1, 2)\n",
        "fig.suptitle('Contas existentes')\n",
        "\n",
        "ax1.pie(data1['existingchecking'].value_counts(),autopct='%1.1f%%')\n",
        "ax1.legend(data1['existingchecking'].values)\n",
        "ax1.set_title('Crédito Bom')\n",
        "\n",
        "ax2.pie(data2['existingchecking'].value_counts(),autopct='%1.1f%%')\n",
        "ax2.legend(data2['existingchecking'].values)\n",
        "ax2.set_title('Crédito Ruim')"
      ],
      "execution_count": 162,
      "outputs": [
        {
          "output_type": "execute_result",
          "data": {
            "text/plain": [
              "Text(0.5, 1.0, 'Crédito Ruim')"
            ]
          },
          "metadata": {
            "tags": []
          },
          "execution_count": 162
        },
        {
          "output_type": "display_data",
          "data": {
            "image/png": "[encoded data removed]",
            "text/plain": [
              "<Figure size 432x288 with 2 Axes>"
            ]
          },
          "metadata": {
            "tags": []
          }
        }
      ]
    },
    {
      "cell_type": "code",
      "metadata": {
        "colab": {
          "base_uri": "https://localhost:8080/",
          "height": 263
        },
        "id": "oqTesi9EOwTK",
        "outputId": "5a51c490-848d-4391-84da-6a4c6bb0d2c0"
      },
      "source": [
        "fig, (ax1, ax2) = plt.subplots(1, 2)\n",
        "fig.suptitle('Sexo e Estado Civil')\n",
        "\n",
        "ax1.pie(data1['statussex'].value_counts(),autopct='%1.1f%%')\n",
        "ax1.legend(data1['statussex'].value_counts().index)\n",
        "ax1.set_title('Crédito Bom')\n",
        "\n",
        "ax2.pie(data2['statussex'].value_counts(),autopct='%1.1f%%')\n",
        "ax2.legend(data2['statussex'].value_counts().index)\n",
        "ax2.set_title('Crédito Ruim')"
      ],
      "execution_count": 163,
      "outputs": [
        {
          "output_type": "execute_result",
          "data": {
            "text/plain": [
              "Text(0.5, 1.0, 'Crédito Ruim')"
            ]
          },
          "metadata": {
            "tags": []
          },
          "execution_count": 163
        },
        {
          "output_type": "display_data",
          "data": {
            "image/png": "[encoded data removed]",
            "text/plain": [
              "<Figure size 432x288 with 2 Axes>"
            ]
          },
          "metadata": {
            "tags": []
          }
        }
      ]
    },
    {
      "cell_type": "code",
      "metadata": {
        "id": "bG6ScywjOwTK"
      },
      "source": [
        "data=data.drop(labels=['existingchecking','credithistory','purpose','savings','employmentsince','statussex', 'otherdebtors','property','otherinstallmentplans','housing', 'job','telephone','foreignworker'],axis=1)"
      ],
      "execution_count": 164,
      "outputs": []
    },
    {
      "cell_type": "code",
      "metadata": {
        "colab": {
          "base_uri": "https://localhost:8080/",
          "height": 225
        },
        "id": "Rt7TY96-OwTK",
        "outputId": "ca20d8e9-e587-44f6-8c12-ad8d9d6a41e4"
      },
      "source": [
        "data.head()"
      ],
      "execution_count": 165,
      "outputs": [
        {
          "output_type": "execute_result",
          "data": {
            "text/html": [
              "<div>\n",
              "<style scoped>\n",
              "    .dataframe tbody tr th:only-of-type {\n",
              "        vertical-align: middle;\n",
              "    }\n",
              "\n",
              "    .dataframe tbody tr th {\n",
              "        vertical-align: top;\n",
              "    }\n",
              "\n",
              "    .dataframe thead th {\n",
              "        text-align: right;\n",
              "    }\n",
              "</style>\n",
              "<table border=\"1\" class=\"dataframe\">\n",
              "  <thead>\n",
              "    <tr style=\"text-align: right;\">\n",
              "      <th></th>\n",
              "      <th>ExistA11</th>\n",
              "      <th>ExistA12</th>\n",
              "      <th>ExistA13</th>\n",
              "      <th>ExistA14</th>\n",
              "      <th>duration</th>\n",
              "      <th>credhistA30</th>\n",
              "      <th>credhistA31</th>\n",
              "      <th>credhistA32</th>\n",
              "      <th>credhistA33</th>\n",
              "      <th>credhistA34</th>\n",
              "      <th>purposeA40</th>\n",
              "      <th>purposeA41</th>\n",
              "      <th>purposeA410</th>\n",
              "      <th>purposeA42</th>\n",
              "      <th>purposeA43</th>\n",
              "      <th>purposeA44</th>\n",
              "      <th>purposeA45</th>\n",
              "      <th>purposeA46</th>\n",
              "      <th>purposeA48</th>\n",
              "      <th>purposeA49</th>\n",
              "      <th>creditamount</th>\n",
              "      <th>savingsA61</th>\n",
              "      <th>savingsA62</th>\n",
              "      <th>savingsA63</th>\n",
              "      <th>savingsA64</th>\n",
              "      <th>savingsA65</th>\n",
              "      <th>employmA71</th>\n",
              "      <th>employmA72</th>\n",
              "      <th>employmA73</th>\n",
              "      <th>employmA74</th>\n",
              "      <th>employmA75</th>\n",
              "      <th>installmentrate</th>\n",
              "      <th>statussex91</th>\n",
              "      <th>statussex92</th>\n",
              "      <th>statussex93</th>\n",
              "      <th>statussex94</th>\n",
              "      <th>otherdeb101</th>\n",
              "      <th>otherdeb102</th>\n",
              "      <th>otherdeb103</th>\n",
              "      <th>residencesince</th>\n",
              "      <th>property121</th>\n",
              "      <th>property122</th>\n",
              "      <th>property123</th>\n",
              "      <th>property124</th>\n",
              "      <th>age</th>\n",
              "      <th>otherinst141</th>\n",
              "      <th>otherinst142</th>\n",
              "      <th>otherinst143</th>\n",
              "      <th>housing151</th>\n",
              "      <th>housing152</th>\n",
              "      <th>housing153</th>\n",
              "      <th>existingcredits</th>\n",
              "      <th>job171</th>\n",
              "      <th>job172</th>\n",
              "      <th>job173</th>\n",
              "      <th>job174</th>\n",
              "      <th>peopleliable</th>\n",
              "      <th>tel191</th>\n",
              "      <th>tel192</th>\n",
              "      <th>foreig201</th>\n",
              "      <th>foreig202</th>\n",
              "      <th>classification</th>\n",
              "    </tr>\n",
              "  </thead>\n",
              "  <tbody>\n",
              "    <tr>\n",
              "      <th>656</th>\n",
              "      <td>0</td>\n",
              "      <td>1</td>\n",
              "      <td>0</td>\n",
              "      <td>0</td>\n",
              "      <td>12</td>\n",
              "      <td>0</td>\n",
              "      <td>0</td>\n",
              "      <td>1</td>\n",
              "      <td>0</td>\n",
              "      <td>0</td>\n",
              "      <td>1</td>\n",
              "      <td>0</td>\n",
              "      <td>0</td>\n",
              "      <td>0</td>\n",
              "      <td>0</td>\n",
              "      <td>0</td>\n",
              "      <td>0</td>\n",
              "      <td>0</td>\n",
              "      <td>0</td>\n",
              "      <td>0</td>\n",
              "      <td>888</td>\n",
              "      <td>1</td>\n",
              "      <td>0</td>\n",
              "      <td>0</td>\n",
              "      <td>0</td>\n",
              "      <td>0</td>\n",
              "      <td>0</td>\n",
              "      <td>0</td>\n",
              "      <td>0</td>\n",
              "      <td>0</td>\n",
              "      <td>1</td>\n",
              "      <td>4</td>\n",
              "      <td>0</td>\n",
              "      <td>0</td>\n",
              "      <td>1</td>\n",
              "      <td>0</td>\n",
              "      <td>1</td>\n",
              "      <td>0</td>\n",
              "      <td>0</td>\n",
              "      <td>4</td>\n",
              "      <td>0</td>\n",
              "      <td>0</td>\n",
              "      <td>1</td>\n",
              "      <td>0</td>\n",
              "      <td>41</td>\n",
              "      <td>1</td>\n",
              "      <td>0</td>\n",
              "      <td>0</td>\n",
              "      <td>0</td>\n",
              "      <td>1</td>\n",
              "      <td>0</td>\n",
              "      <td>1</td>\n",
              "      <td>0</td>\n",
              "      <td>1</td>\n",
              "      <td>0</td>\n",
              "      <td>0</td>\n",
              "      <td>2</td>\n",
              "      <td>1</td>\n",
              "      <td>0</td>\n",
              "      <td>1</td>\n",
              "      <td>0</td>\n",
              "      <td>2</td>\n",
              "    </tr>\n",
              "    <tr>\n",
              "      <th>775</th>\n",
              "      <td>1</td>\n",
              "      <td>0</td>\n",
              "      <td>0</td>\n",
              "      <td>0</td>\n",
              "      <td>24</td>\n",
              "      <td>0</td>\n",
              "      <td>0</td>\n",
              "      <td>1</td>\n",
              "      <td>0</td>\n",
              "      <td>0</td>\n",
              "      <td>1</td>\n",
              "      <td>0</td>\n",
              "      <td>0</td>\n",
              "      <td>0</td>\n",
              "      <td>0</td>\n",
              "      <td>0</td>\n",
              "      <td>0</td>\n",
              "      <td>0</td>\n",
              "      <td>0</td>\n",
              "      <td>0</td>\n",
              "      <td>1371</td>\n",
              "      <td>0</td>\n",
              "      <td>0</td>\n",
              "      <td>0</td>\n",
              "      <td>0</td>\n",
              "      <td>1</td>\n",
              "      <td>0</td>\n",
              "      <td>0</td>\n",
              "      <td>1</td>\n",
              "      <td>0</td>\n",
              "      <td>0</td>\n",
              "      <td>4</td>\n",
              "      <td>0</td>\n",
              "      <td>1</td>\n",
              "      <td>0</td>\n",
              "      <td>0</td>\n",
              "      <td>1</td>\n",
              "      <td>0</td>\n",
              "      <td>0</td>\n",
              "      <td>4</td>\n",
              "      <td>1</td>\n",
              "      <td>0</td>\n",
              "      <td>0</td>\n",
              "      <td>0</td>\n",
              "      <td>25</td>\n",
              "      <td>0</td>\n",
              "      <td>0</td>\n",
              "      <td>1</td>\n",
              "      <td>1</td>\n",
              "      <td>0</td>\n",
              "      <td>0</td>\n",
              "      <td>1</td>\n",
              "      <td>0</td>\n",
              "      <td>0</td>\n",
              "      <td>1</td>\n",
              "      <td>0</td>\n",
              "      <td>1</td>\n",
              "      <td>1</td>\n",
              "      <td>0</td>\n",
              "      <td>1</td>\n",
              "      <td>0</td>\n",
              "      <td>2</td>\n",
              "    </tr>\n",
              "    <tr>\n",
              "      <th>414</th>\n",
              "      <td>1</td>\n",
              "      <td>0</td>\n",
              "      <td>0</td>\n",
              "      <td>0</td>\n",
              "      <td>24</td>\n",
              "      <td>0</td>\n",
              "      <td>0</td>\n",
              "      <td>1</td>\n",
              "      <td>0</td>\n",
              "      <td>0</td>\n",
              "      <td>1</td>\n",
              "      <td>0</td>\n",
              "      <td>0</td>\n",
              "      <td>0</td>\n",
              "      <td>0</td>\n",
              "      <td>0</td>\n",
              "      <td>0</td>\n",
              "      <td>0</td>\n",
              "      <td>0</td>\n",
              "      <td>0</td>\n",
              "      <td>1381</td>\n",
              "      <td>0</td>\n",
              "      <td>0</td>\n",
              "      <td>0</td>\n",
              "      <td>0</td>\n",
              "      <td>1</td>\n",
              "      <td>0</td>\n",
              "      <td>0</td>\n",
              "      <td>1</td>\n",
              "      <td>0</td>\n",
              "      <td>0</td>\n",
              "      <td>4</td>\n",
              "      <td>0</td>\n",
              "      <td>1</td>\n",
              "      <td>0</td>\n",
              "      <td>0</td>\n",
              "      <td>1</td>\n",
              "      <td>0</td>\n",
              "      <td>0</td>\n",
              "      <td>2</td>\n",
              "      <td>0</td>\n",
              "      <td>1</td>\n",
              "      <td>0</td>\n",
              "      <td>0</td>\n",
              "      <td>35</td>\n",
              "      <td>0</td>\n",
              "      <td>0</td>\n",
              "      <td>1</td>\n",
              "      <td>0</td>\n",
              "      <td>1</td>\n",
              "      <td>0</td>\n",
              "      <td>1</td>\n",
              "      <td>0</td>\n",
              "      <td>0</td>\n",
              "      <td>1</td>\n",
              "      <td>0</td>\n",
              "      <td>1</td>\n",
              "      <td>1</td>\n",
              "      <td>0</td>\n",
              "      <td>1</td>\n",
              "      <td>0</td>\n",
              "      <td>2</td>\n",
              "    </tr>\n",
              "    <tr>\n",
              "      <th>74</th>\n",
              "      <td>1</td>\n",
              "      <td>0</td>\n",
              "      <td>0</td>\n",
              "      <td>0</td>\n",
              "      <td>36</td>\n",
              "      <td>0</td>\n",
              "      <td>0</td>\n",
              "      <td>1</td>\n",
              "      <td>0</td>\n",
              "      <td>0</td>\n",
              "      <td>0</td>\n",
              "      <td>0</td>\n",
              "      <td>0</td>\n",
              "      <td>0</td>\n",
              "      <td>0</td>\n",
              "      <td>0</td>\n",
              "      <td>0</td>\n",
              "      <td>1</td>\n",
              "      <td>0</td>\n",
              "      <td>0</td>\n",
              "      <td>1977</td>\n",
              "      <td>0</td>\n",
              "      <td>0</td>\n",
              "      <td>0</td>\n",
              "      <td>0</td>\n",
              "      <td>1</td>\n",
              "      <td>0</td>\n",
              "      <td>0</td>\n",
              "      <td>0</td>\n",
              "      <td>0</td>\n",
              "      <td>1</td>\n",
              "      <td>4</td>\n",
              "      <td>0</td>\n",
              "      <td>0</td>\n",
              "      <td>1</td>\n",
              "      <td>0</td>\n",
              "      <td>1</td>\n",
              "      <td>0</td>\n",
              "      <td>0</td>\n",
              "      <td>4</td>\n",
              "      <td>0</td>\n",
              "      <td>0</td>\n",
              "      <td>0</td>\n",
              "      <td>1</td>\n",
              "      <td>40</td>\n",
              "      <td>0</td>\n",
              "      <td>0</td>\n",
              "      <td>1</td>\n",
              "      <td>0</td>\n",
              "      <td>1</td>\n",
              "      <td>0</td>\n",
              "      <td>1</td>\n",
              "      <td>0</td>\n",
              "      <td>0</td>\n",
              "      <td>0</td>\n",
              "      <td>1</td>\n",
              "      <td>1</td>\n",
              "      <td>0</td>\n",
              "      <td>1</td>\n",
              "      <td>1</td>\n",
              "      <td>0</td>\n",
              "      <td>2</td>\n",
              "    </tr>\n",
              "    <tr>\n",
              "      <th>768</th>\n",
              "      <td>0</td>\n",
              "      <td>1</td>\n",
              "      <td>0</td>\n",
              "      <td>0</td>\n",
              "      <td>12</td>\n",
              "      <td>0</td>\n",
              "      <td>0</td>\n",
              "      <td>0</td>\n",
              "      <td>0</td>\n",
              "      <td>1</td>\n",
              "      <td>0</td>\n",
              "      <td>0</td>\n",
              "      <td>0</td>\n",
              "      <td>1</td>\n",
              "      <td>0</td>\n",
              "      <td>0</td>\n",
              "      <td>0</td>\n",
              "      <td>0</td>\n",
              "      <td>0</td>\n",
              "      <td>0</td>\n",
              "      <td>3617</td>\n",
              "      <td>1</td>\n",
              "      <td>0</td>\n",
              "      <td>0</td>\n",
              "      <td>0</td>\n",
              "      <td>0</td>\n",
              "      <td>0</td>\n",
              "      <td>0</td>\n",
              "      <td>0</td>\n",
              "      <td>0</td>\n",
              "      <td>1</td>\n",
              "      <td>1</td>\n",
              "      <td>0</td>\n",
              "      <td>0</td>\n",
              "      <td>1</td>\n",
              "      <td>0</td>\n",
              "      <td>1</td>\n",
              "      <td>0</td>\n",
              "      <td>0</td>\n",
              "      <td>4</td>\n",
              "      <td>0</td>\n",
              "      <td>0</td>\n",
              "      <td>1</td>\n",
              "      <td>0</td>\n",
              "      <td>28</td>\n",
              "      <td>0</td>\n",
              "      <td>0</td>\n",
              "      <td>1</td>\n",
              "      <td>1</td>\n",
              "      <td>0</td>\n",
              "      <td>0</td>\n",
              "      <td>3</td>\n",
              "      <td>0</td>\n",
              "      <td>0</td>\n",
              "      <td>1</td>\n",
              "      <td>0</td>\n",
              "      <td>1</td>\n",
              "      <td>0</td>\n",
              "      <td>1</td>\n",
              "      <td>1</td>\n",
              "      <td>0</td>\n",
              "      <td>1</td>\n",
              "    </tr>\n",
              "  </tbody>\n",
              "</table>\n",
              "</div>"
            ],
            "text/plain": [
              "     ExistA11  ExistA12  ExistA13  ...  foreig201  foreig202  classification\n",
              "656         0         1         0  ...          1          0               2\n",
              "775         1         0         0  ...          1          0               2\n",
              "414         1         0         0  ...          1          0               2\n",
              "74          1         0         0  ...          1          0               2\n",
              "768         0         1         0  ...          1          0               1\n",
              "\n",
              "[5 rows x 62 columns]"
            ]
          },
          "metadata": {
            "tags": []
          },
          "execution_count": 165
        }
      ]
    },
    {
      "cell_type": "code",
      "metadata": {
        "id": "0GFSUEPsOwTL"
      },
      "source": [
        "data.to_csv('german_categ_bal_full.csv')#Novo csv para criação de modelos"
      ],
      "execution_count": 167,
      "outputs": []
    },
    {
      "cell_type": "code",
      "metadata": {
        "id": "647b0XCzOwTL"
      },
      "source": [
        ""
      ],
      "execution_count": 166,
      "outputs": []
    }
  ]
}