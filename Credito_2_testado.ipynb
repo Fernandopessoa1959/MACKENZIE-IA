{
  "nbformat": 4,
  "nbformat_minor": 0,
  "metadata": {
    "kernelspec": {
      "display_name": "Python 3",
      "language": "python",
      "name": "python3"
    },
    "language_info": {
      "codemirror_mode": {
        "name": "ipython",
        "version": 3
      },
      "file_extension": ".py",
      "mimetype": "text/x-python",
      "name": "python",
      "nbconvert_exporter": "python",
      "pygments_lexer": "ipython3",
      "version": "3.7.6"
    },
    "colab": {
      "name": "Credito_2.ipynb",
      "provenance": []
    }
  },
  "cells": [
    {
      "cell_type": "markdown",
      "metadata": {
        "id": "_fP5GMKGYOqO"
      },
      "source": [
        "Análise de Crédito- Partes 2 e 3<br/> Trilha 8"
      ]
    },
    {
      "cell_type": "markdown",
      "metadata": {
        "id": "xgMlocBGYOqP"
      },
      "source": [
        "Parte 2"
      ]
    },
    {
      "cell_type": "code",
      "metadata": {
        "id": "YFgKMRNQYOqQ"
      },
      "source": [
        "import numpy as np\n",
        "import pandas as pd\n",
        "from sklearn import preprocessing\n",
        "from sklearn.metrics import roc_curve\n",
        "from sklearn.metrics import roc_auc_score\n",
        "from sklearn.metrics import accuracy_score,precision_score,recall_score\n",
        "from sklearn.model_selection import train_test_split\n",
        "from sklearn.model_selection import cross_val_score\n",
        "import matplotlib.pyplot as plt\n",
        "from sklearn.linear_model import LogisticRegression #trilha 2\n",
        "from sklearn import tree #trilha 3\n",
        "from sklearn.naive_bayes import GaussianNB #trilha 4\n",
        "from sklearn.ensemble import RandomForestClassifier #trilha 5\n",
        "from sklearn.ensemble import GradientBoostingClassifier #trilha 6\n",
        "from sklearn.svm import SVC #trilha 7\n"
      ],
      "execution_count": 1,
      "outputs": []
    },
    {
      "cell_type": "code",
      "metadata": {
        "colab": {
          "base_uri": "https://localhost:8080/",
          "height": 243
        },
        "id": "lHDTgENtYOqS",
        "outputId": "e1a7947c-a54b-48be-9689-44fc73253a52"
      },
      "source": [
        "#leitura do dataset processado em Credito_1.ipynb\n",
        "df=pd.read_csv('german_categ_bal_full.csv')\n",
        "df.head()"
      ],
      "execution_count": 5,
      "outputs": [
        {
          "output_type": "execute_result",
          "data": {
            "text/html": [
              "<div>\n",
              "<style scoped>\n",
              "    .dataframe tbody tr th:only-of-type {\n",
              "        vertical-align: middle;\n",
              "    }\n",
              "\n",
              "    .dataframe tbody tr th {\n",
              "        vertical-align: top;\n",
              "    }\n",
              "\n",
              "    .dataframe thead th {\n",
              "        text-align: right;\n",
              "    }\n",
              "</style>\n",
              "<table border=\"1\" class=\"dataframe\">\n",
              "  <thead>\n",
              "    <tr style=\"text-align: right;\">\n",
              "      <th></th>\n",
              "      <th>Unnamed: 0</th>\n",
              "      <th>ExistA11</th>\n",
              "      <th>ExistA12</th>\n",
              "      <th>ExistA13</th>\n",
              "      <th>ExistA14</th>\n",
              "      <th>duration</th>\n",
              "      <th>credhistA30</th>\n",
              "      <th>credhistA31</th>\n",
              "      <th>credhistA32</th>\n",
              "      <th>credhistA33</th>\n",
              "      <th>credhistA34</th>\n",
              "      <th>purposeA40</th>\n",
              "      <th>purposeA41</th>\n",
              "      <th>purposeA410</th>\n",
              "      <th>purposeA42</th>\n",
              "      <th>purposeA43</th>\n",
              "      <th>purposeA44</th>\n",
              "      <th>purposeA45</th>\n",
              "      <th>purposeA46</th>\n",
              "      <th>purposeA48</th>\n",
              "      <th>purposeA49</th>\n",
              "      <th>creditamount</th>\n",
              "      <th>savingsA61</th>\n",
              "      <th>savingsA62</th>\n",
              "      <th>savingsA63</th>\n",
              "      <th>savingsA64</th>\n",
              "      <th>savingsA65</th>\n",
              "      <th>employmA71</th>\n",
              "      <th>employmA72</th>\n",
              "      <th>employmA73</th>\n",
              "      <th>employmA74</th>\n",
              "      <th>employmA75</th>\n",
              "      <th>installmentrate</th>\n",
              "      <th>statussex91</th>\n",
              "      <th>statussex92</th>\n",
              "      <th>statussex93</th>\n",
              "      <th>statussex94</th>\n",
              "      <th>otherdeb101</th>\n",
              "      <th>otherdeb102</th>\n",
              "      <th>otherdeb103</th>\n",
              "      <th>residencesince</th>\n",
              "      <th>property121</th>\n",
              "      <th>property122</th>\n",
              "      <th>property123</th>\n",
              "      <th>property124</th>\n",
              "      <th>age</th>\n",
              "      <th>otherinst141</th>\n",
              "      <th>otherinst142</th>\n",
              "      <th>otherinst143</th>\n",
              "      <th>housing151</th>\n",
              "      <th>housing152</th>\n",
              "      <th>housing153</th>\n",
              "      <th>existingcredits</th>\n",
              "      <th>job171</th>\n",
              "      <th>job172</th>\n",
              "      <th>job173</th>\n",
              "      <th>job174</th>\n",
              "      <th>peopleliable</th>\n",
              "      <th>tel191</th>\n",
              "      <th>tel192</th>\n",
              "      <th>foreig201</th>\n",
              "      <th>foreig202</th>\n",
              "      <th>classification</th>\n",
              "    </tr>\n",
              "  </thead>\n",
              "  <tbody>\n",
              "    <tr>\n",
              "      <th>0</th>\n",
              "      <td>656</td>\n",
              "      <td>0</td>\n",
              "      <td>1</td>\n",
              "      <td>0</td>\n",
              "      <td>0</td>\n",
              "      <td>12</td>\n",
              "      <td>0</td>\n",
              "      <td>0</td>\n",
              "      <td>1</td>\n",
              "      <td>0</td>\n",
              "      <td>0</td>\n",
              "      <td>1</td>\n",
              "      <td>0</td>\n",
              "      <td>0</td>\n",
              "      <td>0</td>\n",
              "      <td>0</td>\n",
              "      <td>0</td>\n",
              "      <td>0</td>\n",
              "      <td>0</td>\n",
              "      <td>0</td>\n",
              "      <td>0</td>\n",
              "      <td>888</td>\n",
              "      <td>1</td>\n",
              "      <td>0</td>\n",
              "      <td>0</td>\n",
              "      <td>0</td>\n",
              "      <td>0</td>\n",
              "      <td>0</td>\n",
              "      <td>0</td>\n",
              "      <td>0</td>\n",
              "      <td>0</td>\n",
              "      <td>1</td>\n",
              "      <td>4</td>\n",
              "      <td>0</td>\n",
              "      <td>0</td>\n",
              "      <td>1</td>\n",
              "      <td>0</td>\n",
              "      <td>1</td>\n",
              "      <td>0</td>\n",
              "      <td>0</td>\n",
              "      <td>4</td>\n",
              "      <td>0</td>\n",
              "      <td>0</td>\n",
              "      <td>1</td>\n",
              "      <td>0</td>\n",
              "      <td>41</td>\n",
              "      <td>1</td>\n",
              "      <td>0</td>\n",
              "      <td>0</td>\n",
              "      <td>0</td>\n",
              "      <td>1</td>\n",
              "      <td>0</td>\n",
              "      <td>1</td>\n",
              "      <td>0</td>\n",
              "      <td>1</td>\n",
              "      <td>0</td>\n",
              "      <td>0</td>\n",
              "      <td>2</td>\n",
              "      <td>1</td>\n",
              "      <td>0</td>\n",
              "      <td>1</td>\n",
              "      <td>0</td>\n",
              "      <td>2</td>\n",
              "    </tr>\n",
              "    <tr>\n",
              "      <th>1</th>\n",
              "      <td>775</td>\n",
              "      <td>1</td>\n",
              "      <td>0</td>\n",
              "      <td>0</td>\n",
              "      <td>0</td>\n",
              "      <td>24</td>\n",
              "      <td>0</td>\n",
              "      <td>0</td>\n",
              "      <td>1</td>\n",
              "      <td>0</td>\n",
              "      <td>0</td>\n",
              "      <td>1</td>\n",
              "      <td>0</td>\n",
              "      <td>0</td>\n",
              "      <td>0</td>\n",
              "      <td>0</td>\n",
              "      <td>0</td>\n",
              "      <td>0</td>\n",
              "      <td>0</td>\n",
              "      <td>0</td>\n",
              "      <td>0</td>\n",
              "      <td>1371</td>\n",
              "      <td>0</td>\n",
              "      <td>0</td>\n",
              "      <td>0</td>\n",
              "      <td>0</td>\n",
              "      <td>1</td>\n",
              "      <td>0</td>\n",
              "      <td>0</td>\n",
              "      <td>1</td>\n",
              "      <td>0</td>\n",
              "      <td>0</td>\n",
              "      <td>4</td>\n",
              "      <td>0</td>\n",
              "      <td>1</td>\n",
              "      <td>0</td>\n",
              "      <td>0</td>\n",
              "      <td>1</td>\n",
              "      <td>0</td>\n",
              "      <td>0</td>\n",
              "      <td>4</td>\n",
              "      <td>1</td>\n",
              "      <td>0</td>\n",
              "      <td>0</td>\n",
              "      <td>0</td>\n",
              "      <td>25</td>\n",
              "      <td>0</td>\n",
              "      <td>0</td>\n",
              "      <td>1</td>\n",
              "      <td>1</td>\n",
              "      <td>0</td>\n",
              "      <td>0</td>\n",
              "      <td>1</td>\n",
              "      <td>0</td>\n",
              "      <td>0</td>\n",
              "      <td>1</td>\n",
              "      <td>0</td>\n",
              "      <td>1</td>\n",
              "      <td>1</td>\n",
              "      <td>0</td>\n",
              "      <td>1</td>\n",
              "      <td>0</td>\n",
              "      <td>2</td>\n",
              "    </tr>\n",
              "    <tr>\n",
              "      <th>2</th>\n",
              "      <td>414</td>\n",
              "      <td>1</td>\n",
              "      <td>0</td>\n",
              "      <td>0</td>\n",
              "      <td>0</td>\n",
              "      <td>24</td>\n",
              "      <td>0</td>\n",
              "      <td>0</td>\n",
              "      <td>1</td>\n",
              "      <td>0</td>\n",
              "      <td>0</td>\n",
              "      <td>1</td>\n",
              "      <td>0</td>\n",
              "      <td>0</td>\n",
              "      <td>0</td>\n",
              "      <td>0</td>\n",
              "      <td>0</td>\n",
              "      <td>0</td>\n",
              "      <td>0</td>\n",
              "      <td>0</td>\n",
              "      <td>0</td>\n",
              "      <td>1381</td>\n",
              "      <td>0</td>\n",
              "      <td>0</td>\n",
              "      <td>0</td>\n",
              "      <td>0</td>\n",
              "      <td>1</td>\n",
              "      <td>0</td>\n",
              "      <td>0</td>\n",
              "      <td>1</td>\n",
              "      <td>0</td>\n",
              "      <td>0</td>\n",
              "      <td>4</td>\n",
              "      <td>0</td>\n",
              "      <td>1</td>\n",
              "      <td>0</td>\n",
              "      <td>0</td>\n",
              "      <td>1</td>\n",
              "      <td>0</td>\n",
              "      <td>0</td>\n",
              "      <td>2</td>\n",
              "      <td>0</td>\n",
              "      <td>1</td>\n",
              "      <td>0</td>\n",
              "      <td>0</td>\n",
              "      <td>35</td>\n",
              "      <td>0</td>\n",
              "      <td>0</td>\n",
              "      <td>1</td>\n",
              "      <td>0</td>\n",
              "      <td>1</td>\n",
              "      <td>0</td>\n",
              "      <td>1</td>\n",
              "      <td>0</td>\n",
              "      <td>0</td>\n",
              "      <td>1</td>\n",
              "      <td>0</td>\n",
              "      <td>1</td>\n",
              "      <td>1</td>\n",
              "      <td>0</td>\n",
              "      <td>1</td>\n",
              "      <td>0</td>\n",
              "      <td>2</td>\n",
              "    </tr>\n",
              "    <tr>\n",
              "      <th>3</th>\n",
              "      <td>74</td>\n",
              "      <td>1</td>\n",
              "      <td>0</td>\n",
              "      <td>0</td>\n",
              "      <td>0</td>\n",
              "      <td>36</td>\n",
              "      <td>0</td>\n",
              "      <td>0</td>\n",
              "      <td>1</td>\n",
              "      <td>0</td>\n",
              "      <td>0</td>\n",
              "      <td>0</td>\n",
              "      <td>0</td>\n",
              "      <td>0</td>\n",
              "      <td>0</td>\n",
              "      <td>0</td>\n",
              "      <td>0</td>\n",
              "      <td>0</td>\n",
              "      <td>1</td>\n",
              "      <td>0</td>\n",
              "      <td>0</td>\n",
              "      <td>1977</td>\n",
              "      <td>0</td>\n",
              "      <td>0</td>\n",
              "      <td>0</td>\n",
              "      <td>0</td>\n",
              "      <td>1</td>\n",
              "      <td>0</td>\n",
              "      <td>0</td>\n",
              "      <td>0</td>\n",
              "      <td>0</td>\n",
              "      <td>1</td>\n",
              "      <td>4</td>\n",
              "      <td>0</td>\n",
              "      <td>0</td>\n",
              "      <td>1</td>\n",
              "      <td>0</td>\n",
              "      <td>1</td>\n",
              "      <td>0</td>\n",
              "      <td>0</td>\n",
              "      <td>4</td>\n",
              "      <td>0</td>\n",
              "      <td>0</td>\n",
              "      <td>0</td>\n",
              "      <td>1</td>\n",
              "      <td>40</td>\n",
              "      <td>0</td>\n",
              "      <td>0</td>\n",
              "      <td>1</td>\n",
              "      <td>0</td>\n",
              "      <td>1</td>\n",
              "      <td>0</td>\n",
              "      <td>1</td>\n",
              "      <td>0</td>\n",
              "      <td>0</td>\n",
              "      <td>0</td>\n",
              "      <td>1</td>\n",
              "      <td>1</td>\n",
              "      <td>0</td>\n",
              "      <td>1</td>\n",
              "      <td>1</td>\n",
              "      <td>0</td>\n",
              "      <td>2</td>\n",
              "    </tr>\n",
              "    <tr>\n",
              "      <th>4</th>\n",
              "      <td>768</td>\n",
              "      <td>0</td>\n",
              "      <td>1</td>\n",
              "      <td>0</td>\n",
              "      <td>0</td>\n",
              "      <td>12</td>\n",
              "      <td>0</td>\n",
              "      <td>0</td>\n",
              "      <td>0</td>\n",
              "      <td>0</td>\n",
              "      <td>1</td>\n",
              "      <td>0</td>\n",
              "      <td>0</td>\n",
              "      <td>0</td>\n",
              "      <td>1</td>\n",
              "      <td>0</td>\n",
              "      <td>0</td>\n",
              "      <td>0</td>\n",
              "      <td>0</td>\n",
              "      <td>0</td>\n",
              "      <td>0</td>\n",
              "      <td>3617</td>\n",
              "      <td>1</td>\n",
              "      <td>0</td>\n",
              "      <td>0</td>\n",
              "      <td>0</td>\n",
              "      <td>0</td>\n",
              "      <td>0</td>\n",
              "      <td>0</td>\n",
              "      <td>0</td>\n",
              "      <td>0</td>\n",
              "      <td>1</td>\n",
              "      <td>1</td>\n",
              "      <td>0</td>\n",
              "      <td>0</td>\n",
              "      <td>1</td>\n",
              "      <td>0</td>\n",
              "      <td>1</td>\n",
              "      <td>0</td>\n",
              "      <td>0</td>\n",
              "      <td>4</td>\n",
              "      <td>0</td>\n",
              "      <td>0</td>\n",
              "      <td>1</td>\n",
              "      <td>0</td>\n",
              "      <td>28</td>\n",
              "      <td>0</td>\n",
              "      <td>0</td>\n",
              "      <td>1</td>\n",
              "      <td>1</td>\n",
              "      <td>0</td>\n",
              "      <td>0</td>\n",
              "      <td>3</td>\n",
              "      <td>0</td>\n",
              "      <td>0</td>\n",
              "      <td>1</td>\n",
              "      <td>0</td>\n",
              "      <td>1</td>\n",
              "      <td>0</td>\n",
              "      <td>1</td>\n",
              "      <td>1</td>\n",
              "      <td>0</td>\n",
              "      <td>1</td>\n",
              "    </tr>\n",
              "  </tbody>\n",
              "</table>\n",
              "</div>"
            ],
            "text/plain": [
              "   Unnamed: 0  ExistA11  ExistA12  ...  foreig201  foreig202  classification\n",
              "0         656         0         1  ...          1          0               2\n",
              "1         775         1         0  ...          1          0               2\n",
              "2         414         1         0  ...          1          0               2\n",
              "3          74         1         0  ...          1          0               2\n",
              "4         768         0         1  ...          1          0               1\n",
              "\n",
              "[5 rows x 63 columns]"
            ]
          },
          "metadata": {
            "tags": []
          },
          "execution_count": 5
        }
      ]
    },
    {
      "cell_type": "code",
      "metadata": {
        "id": "LXO-YOMvYOqU"
      },
      "source": [
        "df=df.sample(frac=1.0)#embaralhando..."
      ],
      "execution_count": 6,
      "outputs": []
    },
    {
      "cell_type": "code",
      "metadata": {
        "id": "WX92FGZDYOqV"
      },
      "source": [
        "y=df['classification'].copy()\n",
        "df=df.drop(labels=['Unnamed: 0','classification'],axis=1)"
      ],
      "execution_count": 7,
      "outputs": []
    },
    {
      "cell_type": "code",
      "metadata": {
        "colab": {
          "base_uri": "https://localhost:8080/"
        },
        "id": "CscsuHldYkRG",
        "outputId": "2058128c-c738-40b5-ce8a-1e6e9be14d22"
      },
      "source": [
        "y.sum()"
      ],
      "execution_count": 8,
      "outputs": [
        {
          "output_type": "execute_result",
          "data": {
            "text/plain": [
              "900"
            ]
          },
          "metadata": {
            "tags": []
          },
          "execution_count": 8
        }
      ]
    },
    {
      "cell_type": "code",
      "metadata": {
        "colab": {
          "base_uri": "https://localhost:8080/"
        },
        "id": "PNASB9rRYOqV",
        "outputId": "545d2cd1-f017-49ed-bee1-6608f384a8cf"
      },
      "source": [
        "#acertando X e o target (y)\n",
        "y=np.array(y)\n",
        "X=np.array(df)\n",
        "for i in range(len(y)):#mau crédito=1\n",
        "    if y[i]==2:y[i]=1\n",
        "    else: y[i]=0\n",
        "y.sum()#verificação, tem que resultar 300"
      ],
      "execution_count": 9,
      "outputs": [
        {
          "output_type": "execute_result",
          "data": {
            "text/plain": [
              "300"
            ]
          },
          "metadata": {
            "tags": []
          },
          "execution_count": 9
        }
      ]
    },
    {
      "cell_type": "code",
      "metadata": {
        "colab": {
          "base_uri": "https://localhost:8080/"
        },
        "id": "ibBENNR8YOqW",
        "outputId": "98d70195-4465-414e-e6f9-290f89d8c3b5"
      },
      "source": [
        "#usando uma árvore de decisão para avaliar (levemente) relevâncias e performance básica no treino\n",
        "tr=tree.DecisionTreeClassifier(max_depth=5,random_state=42)\n",
        "tr.fit(X,y)\n",
        "yetr=tr.predict(X)\n",
        "print(accuracy_score(y,yetr),precision_score(y,yetr),recall_score(y,yetr))\n",
        "imp=tr.feature_importances_"
      ],
      "execution_count": 10,
      "outputs": [
        {
          "output_type": "stream",
          "text": [
            "0.765 0.7012658227848101 0.9233333333333333\n"
          ],
          "name": "stdout"
        }
      ]
    },
    {
      "cell_type": "code",
      "metadata": {
        "colab": {
          "base_uri": "https://localhost:8080/"
        },
        "id": "7FLlps2-YOqX",
        "outputId": "ab10dc57-6e32-46b0-9e7b-05b920171197"
      },
      "source": [
        "#ordenando relevâncias\n",
        "imp_tr=[]\n",
        "for i in range(len(tr.feature_importances_)):\n",
        "    imp_tr.append((df.columns[i],imp[i]))\n",
        "imp_tr.sort(key=lambda x:x[1],reverse=True)\n",
        "imp_tr[:10]#10 features mais relevantes segundo decision tree \n",
        "#veja no anexo do e-book da trilha 8 o significado das features"
      ],
      "execution_count": 11,
      "outputs": [
        {
          "output_type": "execute_result",
          "data": {
            "text/plain": [
              "[('ExistA14', 0.3642444580741693),\n",
              " ('age', 0.10005140753376775),\n",
              " ('duration', 0.06475909236968411),\n",
              " ('otherinst143', 0.05598407707229413),\n",
              " ('installmentrate', 0.04039348020919464),\n",
              " ('credhistA31', 0.03934213314590297),\n",
              " ('credhistA30', 0.03576092517878049),\n",
              " ('creditamount', 0.035346162081592844),\n",
              " ('credhistA33', 0.03255926558163481),\n",
              " ('purposeA41', 0.031644976112837946)]"
            ]
          },
          "metadata": {
            "tags": []
          },
          "execution_count": 11
        }
      ]
    },
    {
      "cell_type": "code",
      "metadata": {
        "id": "4HycIRMRYOqY"
      },
      "source": [
        "#standardização\n",
        "scaler=preprocessing.StandardScaler()\n",
        "scaler.fit(X)\n",
        "XS=scaler.transform(X)"
      ],
      "execution_count": 12,
      "outputs": []
    },
    {
      "cell_type": "code",
      "metadata": {
        "colab": {
          "base_uri": "https://localhost:8080/"
        },
        "id": "u9QGi17BYOqY",
        "outputId": "e0354d70-f74c-46a4-e255-1d6357be5b65"
      },
      "source": [
        "XS[0]"
      ],
      "execution_count": 13,
      "outputs": [
        {
          "output_type": "execute_result",
          "data": {
            "text/plain": [
              "array([ 1.46897745, -0.64168895, -0.24124895, -0.71241679,  0.61898419,\n",
              "       -0.21282896, -0.24889135,  0.94485156, -0.32712547, -0.61330807,\n",
              "       -0.58248237, -0.31767504, -0.10050378,  2.07599001, -0.59018184,\n",
              "       -0.10050378, -0.16012815, -0.24509319, -0.08192319, -0.33333333,\n",
              "        0.04295715, -1.30487651, -0.3485618 , -0.22536213,  4.79583152,\n",
              "       -0.45524   , -0.26366402, -0.48694291, -0.6912543 , -0.43643578,\n",
              "        1.68705478,  0.92110197, -0.22941573,  1.41421356, -1.06191317,\n",
              "       -0.30804303,  0.31767504, -0.22536213, -0.21282896,  1.02713173,\n",
              "       -0.57991628,  1.75545796, -0.68599434, -0.47380354,  1.94353453,\n",
              "       -0.40067641, -0.23735633,  0.48694291,  2.04264872, -1.45773797,\n",
              "       -0.38083877,  1.03948303, -0.14881703, -0.47643873,  0.76635604,\n",
              "       -0.44183608, -0.42828957, -1.20789751,  1.20789751,  0.17586311,\n",
              "       -0.17586311])"
            ]
          },
          "metadata": {
            "tags": []
          },
          "execution_count": 13
        }
      ]
    },
    {
      "cell_type": "markdown",
      "metadata": {
        "id": "ET7rpAI2YOqZ"
      },
      "source": [
        "Parte 3"
      ]
    },
    {
      "cell_type": "code",
      "metadata": {
        "id": "8Jt8G9v3YOqZ"
      },
      "source": [
        "#split train_test para a avaliação básica\n",
        "X_train, X_test, y_train, y_test = train_test_split(\n",
        "    XS, y, test_size=0.33, random_state=42)\n"
      ],
      "execution_count": 14,
      "outputs": []
    },
    {
      "cell_type": "code",
      "metadata": {
        "id": "EERVhH4rYOqZ"
      },
      "source": [
        "#instância dos algoritmos das trilhas 2 a 7...com poucos ajustes de hiperparâmetros\n",
        "lr=LogisticRegression()\n",
        "dt=tree.DecisionTreeClassifier(max_depth=6,random_state=42)\n",
        "nb=GaussianNB()\n",
        "rf=RandomForestClassifier()\n",
        "gb=GradientBoostingClassifier()\n",
        "sv=SVC()\n",
        "list_models=[(lr,'logistic Regression'),(dt,'decision trees'),(nb,'bayes gaussian'),(rf,'Random Forest'),(gb,'gradient boosting'),(sv,'Support vector machines')]"
      ],
      "execution_count": 15,
      "outputs": []
    },
    {
      "cell_type": "code",
      "metadata": {
        "colab": {
          "base_uri": "https://localhost:8080/"
        },
        "id": "Taar2U1pYOqa",
        "outputId": "89d1c5df-6469-41a0-9bf8-5dcf26f2c4ab"
      },
      "source": [
        "#Avaliação básica dos algoritmos (acurácia, prccision e recall..assuntos da trilha 1)\n",
        "for modelos in list_models:\n",
        "    modelos[0].fit(X_train,y_train)\n",
        "    ye=modelos[0].predict(X_train)\n",
        "    yet=modelos[0].predict(X_test)\n",
        "    print('***************************************************')\n",
        "    print(modelos[1],'\\n\\n')\n",
        "    print('ACC PREC REC Treino  ',accuracy_score(y_train,ye),precision_score(y_train,ye),recall_score(y_train,ye))\n",
        "    print('ACC PREC REC Teste   ',accuracy_score(y_test,yet),precision_score(y_test,yet),recall_score(y_test,yet))"
      ],
      "execution_count": 16,
      "outputs": [
        {
          "output_type": "stream",
          "text": [
            "***************************************************\n",
            "logistic Regression \n",
            "\n",
            "\n",
            "ACC PREC REC Treino   0.7885572139303483 0.7772277227722773 0.7969543147208121\n",
            "ACC PREC REC Teste    0.7070707070707071 0.7419354838709677 0.6699029126213593\n",
            "***************************************************\n",
            "decision trees \n",
            "\n",
            "\n",
            "ACC PREC REC Treino   0.8631840796019901 0.8858695652173914 0.8274111675126904\n",
            "ACC PREC REC Teste    0.6717171717171717 0.69 0.6699029126213593\n",
            "***************************************************\n",
            "bayes gaussian \n",
            "\n",
            "\n",
            "ACC PREC REC Treino   0.7611940298507462 0.7616580310880829 0.7461928934010152\n",
            "ACC PREC REC Teste    0.6818181818181818 0.7083333333333334 0.6601941747572816\n",
            "***************************************************\n",
            "Random Forest \n",
            "\n",
            "\n",
            "ACC PREC REC Treino   1.0 1.0 1.0\n",
            "ACC PREC REC Teste    0.6919191919191919 0.723404255319149 0.6601941747572816\n",
            "***************************************************\n",
            "gradient boosting \n",
            "\n",
            "\n",
            "ACC PREC REC Treino   0.9477611940298507 0.9583333333333334 0.934010152284264\n",
            "ACC PREC REC Teste    0.7424242424242424 0.7708333333333334 0.7184466019417476\n",
            "***************************************************\n",
            "Support vector machines \n",
            "\n",
            "\n",
            "ACC PREC REC Treino   0.9104477611940298 0.9086294416243654 0.9086294416243654\n",
            "ACC PREC REC Teste    0.7222222222222222 0.7608695652173914 0.6796116504854369\n"
          ],
          "name": "stdout"
        }
      ]
    },
    {
      "cell_type": "code",
      "metadata": {
        "colab": {
          "base_uri": "https://localhost:8080/"
        },
        "id": "CYEJMoreYOqb",
        "outputId": "8b70c407-615a-45a7-c677-b872ee4d4100"
      },
      "source": [
        "#Avaliação dos algoritmos com cross val k=5\n",
        "for modelos in list_models:\n",
        "    modelos[0]\n",
        "    print('***************************************************')\n",
        "    print(modelos[1],'\\n\\n')\n",
        "    scores=cross_val_score(modelos[0], XS, y, cv=5,scoring='accuracy')\n",
        "    print(sum(scores)/len(scores),scores)  "
      ],
      "execution_count": 17,
      "outputs": [
        {
          "output_type": "stream",
          "text": [
            "***************************************************\n",
            "logistic Regression \n",
            "\n",
            "\n",
            "0.7 [0.63333333 0.65       0.75833333 0.71666667 0.74166667]\n",
            "***************************************************\n",
            "decision trees \n",
            "\n",
            "\n",
            "0.6449999999999999 [0.55833333 0.66666667 0.7        0.625      0.675     ]\n",
            "***************************************************\n",
            "bayes gaussian \n",
            "\n",
            "\n",
            "0.6483333333333333 [0.58333333 0.60833333 0.71666667 0.73333333 0.6       ]\n",
            "***************************************************\n",
            "Random Forest \n",
            "\n",
            "\n",
            "0.7166666666666667 [0.64166667 0.68333333 0.775      0.725      0.75833333]\n",
            "***************************************************\n",
            "gradient boosting \n",
            "\n",
            "\n",
            "0.6883333333333334 [0.63333333 0.66666667 0.73333333 0.68333333 0.725     ]\n",
            "***************************************************\n",
            "Support vector machines \n",
            "\n",
            "\n",
            "0.74 [0.64166667 0.725      0.775      0.76666667 0.79166667]\n"
          ],
          "name": "stdout"
        }
      ]
    },
    {
      "cell_type": "markdown",
      "metadata": {
        "id": "3W65rgQlYOqb"
      },
      "source": [
        "ROC CURVE Logistic Regression X Random Forest X Gradient Boosting X SVM"
      ]
    },
    {
      "cell_type": "code",
      "metadata": {
        "colab": {
          "base_uri": "https://localhost:8080/",
          "height": 279
        },
        "id": "MWVkTOm4YOqb",
        "outputId": "674a6664-ea85-440e-e976-658b3bf206eb"
      },
      "source": [
        "lr.fit(X_train,y_train)\n",
        "prob_lr=lr.predict_proba(X_test)\n",
        "prob_lr=prob_lr[:,1]#só prob positiva\n",
        "fpr1, tpr1, th1 = roc_curve(y_test, prob_lr)\n",
        "plt.plot(fpr1,tpr1,color='blue',label='reg logistica')\n",
        "\n",
        "rf.fit(X_train,y_train)\n",
        "prob_rf=rf.predict_proba(X_test)\n",
        "prob_rf=prob_rf[:,1]#só prob positiva\n",
        "fpr2, tpr2, th2 = roc_curve(y_test, prob_rf)\n",
        "plt.plot(fpr2,tpr2,color='black',label='random forest')\n",
        "\n",
        "gb.fit(X_train,y_train)\n",
        "prob_gb=gb.predict_proba(X_test)\n",
        "prob_gb=prob_gb[:,1]#só prob positiva\n",
        "fpr3, tpr3, th3 = roc_curve(y_test, prob_gb)\n",
        "plt.plot(fpr3,tpr3,color='red',label='grad boosting')\n",
        "\n",
        "sv=SVC(probability=True)\n",
        "sv.fit(X_train,y_train)\n",
        "prob_sv=sv.predict_proba(X_test)\n",
        "prob_sv=prob_sv[:,1]#só prob positiva\n",
        "fpr4, tpr4, th4 = roc_curve(y_test, prob_sv)\n",
        "plt.plot(fpr4,tpr4,color='green',label='svm')\n",
        "\n",
        "plt.xlabel('False Positive Rate')\n",
        "plt.ylabel('True Positive Rate')\n",
        "plt.legend()\n",
        "plt.show()"
      ],
      "execution_count": 18,
      "outputs": [
        {
          "output_type": "display_data",
          "data": {
            "image/png": "[encoded data removed]",
            "text/plain": [
              "<Figure size 432x288 with 1 Axes>"
            ]
          },
          "metadata": {
            "tags": [],
            "needs_background": "light"
          }
        }
      ]
    },
    {
      "cell_type": "code",
      "metadata": {
        "colab": {
          "base_uri": "https://localhost:8080/"
        },
        "id": "TbX31dHLYOqc",
        "outputId": "20dab9b9-47a2-47f5-9aec-08b1936406ad"
      },
      "source": [
        "print('Reg Logística AUC:',roc_auc_score(y_test, prob_lr))\n",
        "print('Random Forest AUC:',roc_auc_score(y_test, prob_rf))\n",
        "print('Gradient Boosting AUC:',roc_auc_score(y_test, prob_gb))\n",
        "print('SVM AUC:',roc_auc_score(y_test, prob_sv))"
      ],
      "execution_count": 19,
      "outputs": [
        {
          "output_type": "stream",
          "text": [
            "Reg Logística AUC: 0.7934593765968319\n",
            "Random Forest AUC: 0.7859989780275932\n",
            "Gradient Boosting AUC: 0.8323965252938171\n",
            "SVM AUC: 0.7963208993357179\n"
          ],
          "name": "stdout"
        }
      ]
    },
    {
      "cell_type": "code",
      "metadata": {
        "id": "JqmjW9iBYOqd"
      },
      "source": [
        ""
      ],
      "execution_count": null,
      "outputs": []
    }
  ]
}