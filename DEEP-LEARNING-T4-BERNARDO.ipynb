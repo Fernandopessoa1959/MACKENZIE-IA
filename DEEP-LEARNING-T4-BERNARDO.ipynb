{
 "cells": [
  {
   "cell_type": "markdown",
   "id": "d070e42d",
   "metadata": {},
   "source": [
    "Deep Learning Trilha 4\n",
    "\n",
    "Aluno: Bernardo Camargo Silva\n",
    "\n",
    "\n",
    "Nesta tarefa você deve implementar um modelo de classificação binária ou multiclasse para um conjunto de dados de seu interesse. O resultado do seu modelo deve ser acima de 0.8 de acuracidade sobre o conjunto de teste (0.3 dos dados de treinamento). \n",
    " \n",
    "Antes de começar, selecione uma base de dados. Você deve compartilhar as informações da base empregada (nome, descrição, link) para que não haja bases repetidas entre os seus colegas. (O professor irá prover uma área compartilhada para isso).\n",
    " \n",
    "Você deve implementar o seu modelo com o Keras TensorFlow empregando o modelo fornecido de código. Quaisquer modos de programação, Modelo Sequencial, API Funcional ou Sub Classes, podem ser igualmente empregados. Seu modelo deve apresentar, no mínimo, 0.8 de acuracidade.\n",
    " \n",
    "Ao final, apresente suas conclusões.\n",
    "\n",
    "\n",
    "\n",
    "Enviar a atividade em .pdf juntamente com o endereço do Python notebook 100% executável."
   ]
  },
  {
   "cell_type": "code",
   "execution_count": 1,
   "id": "b9b52487",
   "metadata": {},
   "outputs": [],
   "source": [
    "import numpy as np \n",
    "import pandas as pd \n",
    "import matplotlib.pyplot as plt \n",
    "import seaborn as sns \n",
    "%matplotlib inline\n",
    "\n",
    "from sklearn.preprocessing import scale\n",
    "from sklearn.model_selection import train_test_split\n",
    "from sklearn.metrics import confusion_matrix, classification_report, accuracy_score\n",
    "\n",
    "from tensorflow import keras\n",
    "from tensorflow.keras import layers\n",
    "import tensorflow as tf"
   ]
  },
  {
   "cell_type": "code",
   "execution_count": 2,
   "id": "ed4519fd",
   "metadata": {},
   "outputs": [],
   "source": [
    "def display_acc_hist(history):\n",
    "  history_df = pd.DataFrame(history.history)\n",
    "  display(history_df.head())\n",
    "  # Start the plot at epoch 0\n",
    "  history_df.loc[0:, ['loss', 'val_loss']].plot()\n",
    "  history_df.loc[0:, ['accuracy', 'val_accuracy']].plot()\n",
    "\n",
    "  print((\"Best Validation Loss: {:0.4f}\" +\\\n",
    "      \"\\nBest Validation Accuracy: {:0.4f}\")\\\n",
    "      .format(history_df['val_loss'].min(), \n",
    "              history_df['val_accuracy'].max()))\n",
    "  return\n",
    "\n",
    "def display_binary_acc_hist(history):\n",
    "  history_df = pd.DataFrame(history.history)\n",
    "  display(history_df.head())\n",
    "  # Start the plot at epoch 0\n",
    "  history_df.loc[0:, ['loss', 'val_loss']].plot()\n",
    "  history_df.loc[0:, ['binary_accuracy', 'val_binary_accuracy']].plot()\n",
    "\n",
    "  print((\"Best Validation Loss: {:0.4f}\" +\\\n",
    "      \"\\nBest Validation Accuracy: {:0.4f}\")\\\n",
    "      .format(history_df['val_loss'].min(), \n",
    "              history_df['val_binary_accuracy'].max()))\n",
    "  return\n",
    "\n",
    "\n",
    "\n",
    "def print_results(y_test, y_pred):\n",
    "  print('Matriz de Confusão: \\n' , confusion_matrix(y_test, y_pred))\n",
    "  print(classification_report(y_test, y_pred))\n",
    "  print('Acuracidade: ' , accuracy_score(y_test, y_pred))\n",
    "  return"
   ]
  },
  {
   "cell_type": "code",
   "execution_count": 3,
   "id": "f192e354",
   "metadata": {},
   "outputs": [
    {
     "data": {
      "text/html": [
       "<div>\n",
       "<style scoped>\n",
       "    .dataframe tbody tr th:only-of-type {\n",
       "        vertical-align: middle;\n",
       "    }\n",
       "\n",
       "    .dataframe tbody tr th {\n",
       "        vertical-align: top;\n",
       "    }\n",
       "\n",
       "    .dataframe thead th {\n",
       "        text-align: right;\n",
       "    }\n",
       "</style>\n",
       "<table border=\"1\" class=\"dataframe\">\n",
       "  <thead>\n",
       "    <tr style=\"text-align: right;\">\n",
       "      <th></th>\n",
       "      <th>PassengerId</th>\n",
       "      <th>Survived</th>\n",
       "      <th>Pclass</th>\n",
       "      <th>Name</th>\n",
       "      <th>Sex</th>\n",
       "      <th>Age</th>\n",
       "      <th>SibSp</th>\n",
       "      <th>Parch</th>\n",
       "      <th>Ticket</th>\n",
       "      <th>Fare</th>\n",
       "      <th>Cabin</th>\n",
       "      <th>Embarked</th>\n",
       "    </tr>\n",
       "  </thead>\n",
       "  <tbody>\n",
       "    <tr>\n",
       "      <th>0</th>\n",
       "      <td>1</td>\n",
       "      <td>0</td>\n",
       "      <td>3</td>\n",
       "      <td>Braund, Mr. Owen Harris</td>\n",
       "      <td>male</td>\n",
       "      <td>22.0</td>\n",
       "      <td>1</td>\n",
       "      <td>0</td>\n",
       "      <td>A/5 21171</td>\n",
       "      <td>7.2500</td>\n",
       "      <td>NaN</td>\n",
       "      <td>S</td>\n",
       "    </tr>\n",
       "    <tr>\n",
       "      <th>1</th>\n",
       "      <td>2</td>\n",
       "      <td>1</td>\n",
       "      <td>1</td>\n",
       "      <td>Cumings, Mrs. John Bradley (Florence Briggs Th...</td>\n",
       "      <td>female</td>\n",
       "      <td>38.0</td>\n",
       "      <td>1</td>\n",
       "      <td>0</td>\n",
       "      <td>PC 17599</td>\n",
       "      <td>71.2833</td>\n",
       "      <td>C85</td>\n",
       "      <td>C</td>\n",
       "    </tr>\n",
       "    <tr>\n",
       "      <th>2</th>\n",
       "      <td>3</td>\n",
       "      <td>1</td>\n",
       "      <td>3</td>\n",
       "      <td>Heikkinen, Miss. Laina</td>\n",
       "      <td>female</td>\n",
       "      <td>26.0</td>\n",
       "      <td>0</td>\n",
       "      <td>0</td>\n",
       "      <td>STON/O2. 3101282</td>\n",
       "      <td>7.9250</td>\n",
       "      <td>NaN</td>\n",
       "      <td>S</td>\n",
       "    </tr>\n",
       "    <tr>\n",
       "      <th>3</th>\n",
       "      <td>4</td>\n",
       "      <td>1</td>\n",
       "      <td>1</td>\n",
       "      <td>Futrelle, Mrs. Jacques Heath (Lily May Peel)</td>\n",
       "      <td>female</td>\n",
       "      <td>35.0</td>\n",
       "      <td>1</td>\n",
       "      <td>0</td>\n",
       "      <td>113803</td>\n",
       "      <td>53.1000</td>\n",
       "      <td>C123</td>\n",
       "      <td>S</td>\n",
       "    </tr>\n",
       "    <tr>\n",
       "      <th>4</th>\n",
       "      <td>5</td>\n",
       "      <td>0</td>\n",
       "      <td>3</td>\n",
       "      <td>Allen, Mr. William Henry</td>\n",
       "      <td>male</td>\n",
       "      <td>35.0</td>\n",
       "      <td>0</td>\n",
       "      <td>0</td>\n",
       "      <td>373450</td>\n",
       "      <td>8.0500</td>\n",
       "      <td>NaN</td>\n",
       "      <td>S</td>\n",
       "    </tr>\n",
       "  </tbody>\n",
       "</table>\n",
       "</div>"
      ],
      "text/plain": [
       "   PassengerId  Survived  Pclass  \\\n",
       "0            1         0       3   \n",
       "1            2         1       1   \n",
       "2            3         1       3   \n",
       "3            4         1       1   \n",
       "4            5         0       3   \n",
       "\n",
       "                                                Name     Sex   Age  SibSp  \\\n",
       "0                            Braund, Mr. Owen Harris    male  22.0      1   \n",
       "1  Cumings, Mrs. John Bradley (Florence Briggs Th...  female  38.0      1   \n",
       "2                             Heikkinen, Miss. Laina  female  26.0      0   \n",
       "3       Futrelle, Mrs. Jacques Heath (Lily May Peel)  female  35.0      1   \n",
       "4                           Allen, Mr. William Henry    male  35.0      0   \n",
       "\n",
       "   Parch            Ticket     Fare Cabin Embarked  \n",
       "0      0         A/5 21171   7.2500   NaN        S  \n",
       "1      0          PC 17599  71.2833   C85        C  \n",
       "2      0  STON/O2. 3101282   7.9250   NaN        S  \n",
       "3      0            113803  53.1000  C123        S  \n",
       "4      0            373450   8.0500   NaN        S  "
      ]
     },
     "metadata": {},
     "output_type": "display_data"
    }
   ],
   "source": [
    "# Explorando os dados\n",
    "train = pd.read_csv('titanic_train.csv')\n",
    "display(train.head())"
   ]
  },
  {
   "cell_type": "code",
   "execution_count": 4,
   "id": "04c477b2",
   "metadata": {},
   "outputs": [
    {
     "data": {
      "text/plain": [
       "<AxesSubplot:>"
      ]
     },
     "execution_count": 4,
     "metadata": {},
     "output_type": "execute_result"
    },
    {
     "data": {
      "image/png": "[encoded data removed]",
      "text/plain": [
       "<Figure size 432x288 with 1 Axes>"
      ]
     },
     "metadata": {
      "needs_background": "light"
     },
     "output_type": "display_data"
    }
   ],
   "source": [
    "#Verificar campos nulos\n",
    "sns.heatmap(train.isnull(),yticklabels=False,cbar=False,cmap='viridis')"
   ]
  },
  {
   "cell_type": "code",
   "execution_count": 5,
   "id": "c6bdcbe3",
   "metadata": {},
   "outputs": [
    {
     "data": {
      "text/plain": [
       "<AxesSubplot:xlabel='Pclass', ylabel='Age'>"
      ]
     },
     "execution_count": 5,
     "metadata": {},
     "output_type": "execute_result"
    },
    {
     "data": {
      "image/png": "[encoded data removed]",
      "text/plain": [
       "<Figure size 864x504 with 1 Axes>"
      ]
     },
     "metadata": {
      "needs_background": "light"
     },
     "output_type": "display_data"
    }
   ],
   "source": [
    "#Vamos verificar a média de idade por classe da cabine\n",
    "plt.figure(figsize=(12, 7))\n",
    "sns.boxplot(x='Pclass',y='Age',data=train,palette='winter')"
   ]
  },
  {
   "cell_type": "code",
   "execution_count": 6,
   "id": "ab80fb66",
   "metadata": {},
   "outputs": [],
   "source": [
    "#Vamos agora preencher os campos nulos da idade baseados em algum padrão\n",
    "#Definindo uma função para retornar a idade baseado na classe\n",
    "\n",
    "def impute_age(cols):\n",
    "    Age = cols[0]\n",
    "    Pclass = cols[1]   \n",
    "    if pd.isnull(Age):\n",
    "        if Pclass == 1:\n",
    "            return 37\n",
    "        elif Pclass == 2:\n",
    "            return 29\n",
    "        else:\n",
    "            return 24\n",
    "    else:\n",
    "        return Age\n",
    "\n",
    "#E vamos aplicar esta idade nos campos nulos\n",
    "train['Age'] = train[['Age','Pclass']].apply(impute_age,axis=1)"
   ]
  },
  {
   "cell_type": "code",
   "execution_count": 7,
   "id": "37370d09",
   "metadata": {},
   "outputs": [
    {
     "data": {
      "text/plain": [
       "<AxesSubplot:>"
      ]
     },
     "execution_count": 7,
     "metadata": {},
     "output_type": "execute_result"
    },
    {
     "data": {
      "image/png": "[encoded data removed]",
      "text/plain": [
       "<Figure size 432x288 with 1 Axes>"
      ]
     },
     "metadata": {
      "needs_background": "light"
     },
     "output_type": "display_data"
    }
   ],
   "source": [
    "#Verificando novamente no dataset se há campos nulos\n",
    "sns.heatmap(train.isnull(),yticklabels=False,cbar=False,cmap='viridis')"
   ]
  },
  {
   "cell_type": "code",
   "execution_count": 8,
   "id": "c57dfb68",
   "metadata": {},
   "outputs": [],
   "source": [
    "#Vamos remover a coluna da cabine, que é composta, em grande parte, de dados nulos.\n",
    "train.drop('Cabin',axis=1,inplace=True)\n",
    "\n",
    "#Removendo também quaisquer linhas que possuam colunas com valor nulo.\n",
    "train.dropna(inplace=True)"
   ]
  },
  {
   "cell_type": "code",
   "execution_count": 9,
   "id": "a2defba4",
   "metadata": {},
   "outputs": [
    {
     "name": "stdout",
     "output_type": "stream",
     "text": [
      "<class 'pandas.core.frame.DataFrame'>\n",
      "Int64Index: 889 entries, 0 to 890\n",
      "Data columns (total 11 columns):\n",
      " #   Column       Non-Null Count  Dtype  \n",
      "---  ------       --------------  -----  \n",
      " 0   PassengerId  889 non-null    int64  \n",
      " 1   Survived     889 non-null    int64  \n",
      " 2   Pclass       889 non-null    int64  \n",
      " 3   Name         889 non-null    object \n",
      " 4   Sex          889 non-null    object \n",
      " 5   Age          889 non-null    float64\n",
      " 6   SibSp        889 non-null    int64  \n",
      " 7   Parch        889 non-null    int64  \n",
      " 8   Ticket       889 non-null    object \n",
      " 9   Fare         889 non-null    float64\n",
      " 10  Embarked     889 non-null    object \n",
      "dtypes: float64(2), int64(5), object(4)\n",
      "memory usage: 83.3+ KB\n"
     ]
    }
   ],
   "source": [
    "#Verificando o dataset\n",
    "train.info()"
   ]
  },
  {
   "cell_type": "code",
   "execution_count": 10,
   "id": "bea8379f",
   "metadata": {},
   "outputs": [],
   "source": [
    "# One Hot Encoding dos campos categóricos\n",
    "sex = pd.get_dummies(train['Sex'],drop_first=True)\n",
    "#embark = pd.get_dummies(train['Embarked'],drop_first=True)\n",
    "#age = pd.get_dummies(train['Age'],drop_first=True)\n",
    "\n",
    "#Concatenar as colunas discretizadas pelo one hot encoding de volta no dataset\n",
    "train = pd.concat([train,sex],axis=1)\n",
    "#train = pd.concat([train,sex,embark],axis=1)\n",
    "#train = pd.concat([train,sex,embark,age],axis=1)"
   ]
  },
  {
   "cell_type": "code",
   "execution_count": 11,
   "id": "28d139cc",
   "metadata": {},
   "outputs": [],
   "source": [
    "#Remover as colunas já discretizadas SEX e EMBARKED\n",
    "#Remover também outras colunas que não serão utilizadas\n",
    "#train.drop(['Sex','Embarked','Name','Ticket'],axis=1,inplace=True)\n",
    "train.drop(['PassengerId','Sex','Embarked','Name','Ticket','Fare','SibSp','Parch'],axis=1,inplace=True)\n",
    "#train.drop(['Sex','Embarked','Name','Ticket','Fare','Age'],axis=1,inplace=True)"
   ]
  },
  {
   "cell_type": "code",
   "execution_count": 12,
   "id": "4db802c0",
   "metadata": {},
   "outputs": [
    {
     "data": {
      "text/html": [
       "<div>\n",
       "<style scoped>\n",
       "    .dataframe tbody tr th:only-of-type {\n",
       "        vertical-align: middle;\n",
       "    }\n",
       "\n",
       "    .dataframe tbody tr th {\n",
       "        vertical-align: top;\n",
       "    }\n",
       "\n",
       "    .dataframe thead th {\n",
       "        text-align: right;\n",
       "    }\n",
       "</style>\n",
       "<table border=\"1\" class=\"dataframe\">\n",
       "  <thead>\n",
       "    <tr style=\"text-align: right;\">\n",
       "      <th></th>\n",
       "      <th>Survived</th>\n",
       "      <th>Pclass</th>\n",
       "      <th>Age</th>\n",
       "      <th>male</th>\n",
       "    </tr>\n",
       "  </thead>\n",
       "  <tbody>\n",
       "    <tr>\n",
       "      <th>0</th>\n",
       "      <td>0</td>\n",
       "      <td>3</td>\n",
       "      <td>22.0</td>\n",
       "      <td>1</td>\n",
       "    </tr>\n",
       "    <tr>\n",
       "      <th>1</th>\n",
       "      <td>1</td>\n",
       "      <td>1</td>\n",
       "      <td>38.0</td>\n",
       "      <td>0</td>\n",
       "    </tr>\n",
       "    <tr>\n",
       "      <th>2</th>\n",
       "      <td>1</td>\n",
       "      <td>3</td>\n",
       "      <td>26.0</td>\n",
       "      <td>0</td>\n",
       "    </tr>\n",
       "    <tr>\n",
       "      <th>3</th>\n",
       "      <td>1</td>\n",
       "      <td>1</td>\n",
       "      <td>35.0</td>\n",
       "      <td>0</td>\n",
       "    </tr>\n",
       "    <tr>\n",
       "      <th>4</th>\n",
       "      <td>0</td>\n",
       "      <td>3</td>\n",
       "      <td>35.0</td>\n",
       "      <td>1</td>\n",
       "    </tr>\n",
       "  </tbody>\n",
       "</table>\n",
       "</div>"
      ],
      "text/plain": [
       "   Survived  Pclass   Age  male\n",
       "0         0       3  22.0     1\n",
       "1         1       1  38.0     0\n",
       "2         1       3  26.0     0\n",
       "3         1       1  35.0     0\n",
       "4         0       3  35.0     1"
      ]
     },
     "execution_count": 12,
     "metadata": {},
     "output_type": "execute_result"
    }
   ],
   "source": [
    "#Visualizando, novamente, o dataset após o tratamento\n",
    "train.head()"
   ]
  },
  {
   "cell_type": "code",
   "execution_count": 13,
   "id": "32204f12",
   "metadata": {},
   "outputs": [
    {
     "data": {
      "text/plain": [
       "array([[ 0.82520863, -0.53167023,  0.73534203],\n",
       "       [-1.57221121,  0.68023223, -1.35991138],\n",
       "       [ 0.82520863, -0.22869462, -1.35991138],\n",
       "       ...,\n",
       "       [ 0.82520863, -0.38018243, -1.35991138],\n",
       "       [-1.57221121, -0.22869462,  0.73534203],\n",
       "       [ 0.82520863,  0.22576881,  0.73534203]])"
      ]
     },
     "execution_count": 13,
     "metadata": {},
     "output_type": "execute_result"
    }
   ],
   "source": [
    "X = scale(train.drop(columns=['Survived']))\n",
    "X"
   ]
  },
  {
   "cell_type": "code",
   "execution_count": 14,
   "id": "82f226ea",
   "metadata": {},
   "outputs": [
    {
     "data": {
      "text/plain": [
       "0      0\n",
       "1      1\n",
       "2      1\n",
       "3      1\n",
       "4      0\n",
       "      ..\n",
       "886    0\n",
       "887    1\n",
       "888    0\n",
       "889    1\n",
       "890    0\n",
       "Name: Survived, Length: 889, dtype: int64"
      ]
     },
     "execution_count": 14,
     "metadata": {},
     "output_type": "execute_result"
    }
   ],
   "source": [
    "#Separando as colunas para treino da coluna target (Survived)\n",
    "#X = train.drop('Survived',axis=1)\n",
    "y = train['Survived']\n",
    "y"
   ]
  },
  {
   "cell_type": "code",
   "execution_count": 15,
   "id": "8b932b80",
   "metadata": {},
   "outputs": [],
   "source": [
    "# Separando as amostras em Treinamento e Teste\n",
    "X_train, X_test, y_train, y_test = train_test_split(X, y, test_size=0.3, random_state=1234)\n",
    "\n",
    "#y_train = np.asarray(train_labels).astype('float32').reshape((-1,1))\n",
    "#y_test = np.asarray(test_labels).astype('float32').reshape((-1,1))"
   ]
  },
  {
   "cell_type": "code",
   "execution_count": 16,
   "id": "c347a571",
   "metadata": {},
   "outputs": [
    {
     "data": {
      "text/plain": [
       "608    1\n",
       "881    0\n",
       "40     0\n",
       "809    1\n",
       "661    0\n",
       "      ..\n",
       "731    0\n",
       "671    0\n",
       "655    0\n",
       "64     0\n",
       "28     1\n",
       "Name: Survived, Length: 267, dtype: int64"
      ]
     },
     "execution_count": 16,
     "metadata": {},
     "output_type": "execute_result"
    }
   ],
   "source": [
    "y_test"
   ]
  },
  {
   "cell_type": "code",
   "execution_count": 17,
   "id": "694e07ce",
   "metadata": {},
   "outputs": [
    {
     "name": "stdout",
     "output_type": "stream",
     "text": [
      "Model: \"sequential\"\n",
      "_________________________________________________________________\n",
      "Layer (type)                 Output Shape              Param #   \n",
      "=================================================================\n",
      "dense (Dense)                (None, 3)                 12        \n",
      "_________________________________________________________________\n",
      "dense_1 (Dense)              (None, 20)                80        \n",
      "_________________________________________________________________\n",
      "dense_2 (Dense)              (None, 8)                 168       \n",
      "_________________________________________________________________\n",
      "dense_3 (Dense)              (None, 1)                 9         \n",
      "=================================================================\n",
      "Total params: 269\n",
      "Trainable params: 269\n",
      "Non-trainable params: 0\n",
      "_________________________________________________________________\n",
      "None\n"
     ]
    }
   ],
   "source": [
    "# Definindo o Modelo\n",
    "model = keras.Sequential(layers.Dense(X.shape[1], activation='relu', input_shape=[X.shape[1]]))\n",
    "\n",
    "\n",
    "model.add(layers.Dense(20, activation='relu'))\n",
    "model.add(layers.Dense(8, activation='relu'))\n",
    "model.add(layers.Dense(1, activation='sigmoid'))\n",
    "\n",
    "print(model.summary())"
   ]
  },
  {
   "cell_type": "code",
   "execution_count": 18,
   "id": "3806cd70",
   "metadata": {},
   "outputs": [],
   "source": [
    "# Compilando o Modelo - usando o binary_crossentropy pois o resultado esperado é binário\n",
    "#model.compile(loss='categorical_crossentropy', optimizer='adam', metrics=['accuracy'])\n",
    "model.compile(loss='binary_crossentropy', optimizer='adam', metrics=['binary_accuracy'])\n"
   ]
  },
  {
   "cell_type": "code",
   "execution_count": null,
   "id": "7075655b",
   "metadata": {},
   "outputs": [],
   "source": [
    "# Treina o Modelo\n",
    "early_stopping = keras.callbacks.EarlyStopping(\n",
    "    patience=100,\n",
    "    min_delta=0.0001,\n",
    "    restore_best_weights=True,\n",
    ")\n",
    "\n",
    "history = model.fit(\n",
    "    X_train, y_train,\n",
    "    batch_size=32,\n",
    "    validation_split=0.3,\n",
    "    epochs=200,\n",
    "    callbacks=[early_stopping],\n",
    "    verbose=1,  \n",
    ")\n"
   ]
  },
  {
   "cell_type": "code",
   "execution_count": 20,
   "id": "870ee0bc",
   "metadata": {},
   "outputs": [
    {
     "data": {
      "text/html": [
       "<div>\n",
       "<style scoped>\n",
       "    .dataframe tbody tr th:only-of-type {\n",
       "        vertical-align: middle;\n",
       "    }\n",
       "\n",
       "    .dataframe tbody tr th {\n",
       "        vertical-align: top;\n",
       "    }\n",
       "\n",
       "    .dataframe thead th {\n",
       "        text-align: right;\n",
       "    }\n",
       "</style>\n",
       "<table border=\"1\" class=\"dataframe\">\n",
       "  <thead>\n",
       "    <tr style=\"text-align: right;\">\n",
       "      <th></th>\n",
       "      <th>loss</th>\n",
       "      <th>binary_accuracy</th>\n",
       "      <th>val_loss</th>\n",
       "      <th>val_binary_accuracy</th>\n",
       "    </tr>\n",
       "  </thead>\n",
       "  <tbody>\n",
       "    <tr>\n",
       "      <th>0</th>\n",
       "      <td>0.724648</td>\n",
       "      <td>0.393103</td>\n",
       "      <td>0.711383</td>\n",
       "      <td>0.566845</td>\n",
       "    </tr>\n",
       "    <tr>\n",
       "      <th>1</th>\n",
       "      <td>0.699141</td>\n",
       "      <td>0.572414</td>\n",
       "      <td>0.684003</td>\n",
       "      <td>0.657754</td>\n",
       "    </tr>\n",
       "    <tr>\n",
       "      <th>2</th>\n",
       "      <td>0.680449</td>\n",
       "      <td>0.620690</td>\n",
       "      <td>0.665190</td>\n",
       "      <td>0.721925</td>\n",
       "    </tr>\n",
       "    <tr>\n",
       "      <th>3</th>\n",
       "      <td>0.667480</td>\n",
       "      <td>0.652874</td>\n",
       "      <td>0.651964</td>\n",
       "      <td>0.743316</td>\n",
       "    </tr>\n",
       "    <tr>\n",
       "      <th>4</th>\n",
       "      <td>0.656406</td>\n",
       "      <td>0.675862</td>\n",
       "      <td>0.637956</td>\n",
       "      <td>0.770053</td>\n",
       "    </tr>\n",
       "  </tbody>\n",
       "</table>\n",
       "</div>"
      ],
      "text/plain": [
       "       loss  binary_accuracy  val_loss  val_binary_accuracy\n",
       "0  0.724648         0.393103  0.711383             0.566845\n",
       "1  0.699141         0.572414  0.684003             0.657754\n",
       "2  0.680449         0.620690  0.665190             0.721925\n",
       "3  0.667480         0.652874  0.651964             0.743316\n",
       "4  0.656406         0.675862  0.637956             0.770053"
      ]
     },
     "metadata": {},
     "output_type": "display_data"
    },
    {
     "name": "stdout",
     "output_type": "stream",
     "text": [
      "Best Validation Loss: 0.4051\n",
      "Best Validation Accuracy: 0.8182\n"
     ]
    },
    {
     "data": {
      "image/png": "[encoded data removed]",
      "text/plain": [
       "<Figure size 432x288 with 1 Axes>"
      ]
     },
     "metadata": {
      "needs_background": "light"
     },
     "output_type": "display_data"
    },
    {
     "data": {
      "image/png": "[encoded data removed]",
      "text/plain": [
       "<Figure size 432x288 with 1 Axes>"
      ]
     },
     "metadata": {
      "needs_background": "light"
     },
     "output_type": "display_data"
    }
   ],
   "source": [
    "\n",
    "#display_acc_hist(history)\n",
    "display_binary_acc_hist(history)"
   ]
  },
  {
   "cell_type": "code",
   "execution_count": 21,
   "id": "dc960f21",
   "metadata": {},
   "outputs": [
    {
     "name": "stdout",
     "output_type": "stream",
     "text": [
      "9/9 - 0s - loss: 0.4409 - binary_accuracy: 0.8015\n",
      "\n",
      "Test accuracy: 0.8014981150627136\n"
     ]
    }
   ],
   "source": [
    "test_loss, test_acc = model.evaluate(X_test,  y_test, verbose=2)\n",
    "print('\\nTest accuracy:', test_acc)"
   ]
  },
  {
   "cell_type": "code",
   "execution_count": 34,
   "id": "54188f20",
   "metadata": {},
   "outputs": [],
   "source": [
    "predictions = (model.predict(X_test) > 0.5).astype(\"int32\")"
   ]
  },
  {
   "cell_type": "code",
   "execution_count": null,
   "id": "fbd03e8b",
   "metadata": {},
   "outputs": [],
   "source": [
    "#Verificando as predições com os valores esperados\n",
    "for i in range(267):\n",
    "    print('%s => Predição: %d Esperado: %d)' % (X_test[i], predictions[i], y_test.array[i]))"
   ]
  },
  {
   "cell_type": "code",
   "execution_count": null,
   "id": "bee53ddf",
   "metadata": {},
   "outputs": [],
   "source": [
    "#X = scale(train.drop(columns=['Survived']))\n",
    "X_test"
   ]
  },
  {
   "cell_type": "code",
   "execution_count": 149,
   "id": "5c3d2f95",
   "metadata": {},
   "outputs": [],
   "source": [
    "#[CLASSE, IDADE, HOMEM]\n",
    "#Classe = 1, 2 ou 3\n",
    "#Idade = 0 a 100 anos\n",
    "#Homem = 0 ou 1\n",
    "dados_novos = scale([[3, 30, 1],[3, 30, 1],[1, 30, 1]])\n",
    "#dados_novos = [[3, 30, 1],[2, 30, 1],[1, 60, 1]]"
   ]
  },
  {
   "cell_type": "code",
   "execution_count": 150,
   "id": "d3b4ae38",
   "metadata": {},
   "outputs": [
    {
     "data": {
      "text/plain": [
       "array([[ 0.70710678,  0.        ,  0.        ],\n",
       "       [ 0.70710678,  0.        ,  0.        ],\n",
       "       [-1.41421356,  0.        ,  0.        ]])"
      ]
     },
     "execution_count": 150,
     "metadata": {},
     "output_type": "execute_result"
    }
   ],
   "source": [
    "dados_novos"
   ]
  },
  {
   "cell_type": "code",
   "execution_count": 151,
   "id": "e70d0d83",
   "metadata": {},
   "outputs": [],
   "source": [
    "predictions_2 = (model.predict(dados_novos) > 0.5).astype(\"int32\")"
   ]
  },
  {
   "cell_type": "code",
   "execution_count": 152,
   "id": "337e8fef",
   "metadata": {},
   "outputs": [
    {
     "name": "stdout",
     "output_type": "stream",
     "text": [
      "Predição: 0\n",
      "Predição: 0\n",
      "Predição: 1\n"
     ]
    }
   ],
   "source": [
    "#Verificando as predições com os valores esperados\n",
    "#0 = Morreu\n",
    "#1 - Sobreviveu\n",
    "for i in range(3):\n",
    "    print('Predição: %d' % (predictions_2[i]))"
   ]
  },
  {
   "cell_type": "code",
   "execution_count": null,
   "id": "e158a665",
   "metadata": {},
   "outputs": [],
   "source": []
  }
 ],
 "metadata": {
  "kernelspec": {
   "display_name": "Python 3",
   "language": "python",
   "name": "python3"
  },
  "language_info": {
   "codemirror_mode": {
    "name": "ipython",
    "version": 3
   },
   "file_extension": ".py",
   "mimetype": "text/x-python",
   "name": "python",
   "nbconvert_exporter": "python",
   "pygments_lexer": "ipython3",
   "version": "3.8.8"
  }
 },
 "nbformat": 4,
 "nbformat_minor": 5
}
