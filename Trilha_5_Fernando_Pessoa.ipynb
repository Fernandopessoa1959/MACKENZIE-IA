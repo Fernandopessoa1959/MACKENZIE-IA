{
  "nbformat": 4,
  "nbformat_minor": 0,
  "metadata": {
    "kernelspec": {
      "display_name": "Python 3",
      "language": "python",
      "name": "python3"
    },
    "language_info": {
      "codemirror_mode": {
        "name": "ipython",
        "version": 3
      },
      "file_extension": ".py",
      "mimetype": "text/x-python",
      "name": "python",
      "nbconvert_exporter": "python",
      "pygments_lexer": "ipython3",
      "version": "3.7.6"
    },
    "colab": {
      "name": "Trilha 5 Fernando Pessoa.ipynb",
      "provenance": [],
      "collapsed_sections": [],
      "toc_visible": true
    }
  },
  "cells": [
    {
      "cell_type": "markdown",
      "metadata": {
        "id": "bk62VikL8MIa"
      },
      "source": [
        "![mackenzie.JPG](data:image/jpeg;base64,/9j/4AAQSkZJRgABAQEAYABgAAD/4REuRXhpZgAATU0AKgAAAAgABAE7AAIAAAAhAAAISodpAAQAAAABAAAIbJydAAEAAABCAAAQ5OocAAcAAAgMAAAAPgAAAAAc6gAAAAgAAAAAAAAAAAAAAAAAAAAAAAAAAAAAAAAAAAAAAAAAAAAAAAAAAAAAAAAAAAAAAAAAAAAAAAAAAAAAAAAAAAAAAAAAAAAAAAAAAAAAAAAAAAAAAAAAAAAAAAAAAAAAAAAAAAAAAAAAAAAAAAAAAAAAAAAAAAAAAAAAAAAAAAAAAAAAAAAAAAAAAAAAAAAAAAAAAAAAAAAAAAAAAAAAAAAAAAAAAAAAAAAAAAAAAAAAAAAAAAAAAAAAAAAAAAAAAAAAAAAAAAAAAAAAAAAAAAAAAAAAAAAAAAAAAAAAAAAAAAAAAAAAAAAAAAAAAAAAAAAAAAAAAAAAAAAAAAAAAAAAAAAAAAAAAAAAAAAAAAAAAAAAAAAAAAAAAAAAAAAAAAAAAAAAAAAAAAAAAAAAAAAAAAAAAAAAAAAAAAAAAAAAAAAAAAAAAAAAAAAAAAAAAAAAAAAAAAAAAAAAAAAAAAAAAAAAAAAAAAAAAAAAAAAAAAAAAAAAAAAAAAAAAAAAAAAAAAAAAAAAAAAAAAAAAAAAAAAAAAAAAAAAAAAAAAAAAAAAAAAAAAAAAAAAAAAAAAAAAAAAAAAAAAAAAAAAAAAAAAAAAAAAAAAAAAAAAAAAAAAAAAAAAAAAAAAAAAAAAAAAAAAAAAAAAAAAAAAAAAAAAAAAAAAAAAAAAAAAAAAAAAAAAAAAAAAAAAAAAAAAAAAAAAAAAAAAAAAAAAAAAAAAAAAAAAAAAAAAAAAAAAAAAAAAAAAAAAAAAAAAAAAAAAAAAAAAAAAAAAAAAAAAAAAAAAAAAAAAAAAAAAAAAAAAAAAAAAAAAAAAAAAAAAAAAAAAAAAAAAAAAAAAAAAAAAAAAAAAAAAAAAAAAAAAAAAAAAAAAAAAAAAAAAAAAAAAAAAAAAAAAAAAAAAAAAAAAAAAAAAAAAAAAAAAAAAAAAAAAAAAAAAAAAAAAAAAAAAAAAAAAAAAAAAAAAAAAAAAAAAAAAAAAAAAAAAAAAAAAAAAAAAAAAAAAAAAAAAAAAAAAAAAAAAAAAAAAAAAAAAAAAAAAAAAAAAAAAAAAAAAAAAAAAAAAAAAAAAAAAAAAAAAAAAAAAAAAAAAAAAAAAAAAAAAAAAAAAAAAAAAAAAAAAAAAAAAAAAAAAAAAAAAAAAAAAAAAAAAAAAAAAAAAAAAAAAAAAAAAAAAAAAAAAAAAAAAAAAAAAAAAAAAAAAAAAAAAAAAAAAAAAAAAAAAAAAAAAAAAAAAAAAAAAAAAAAAAAAAAAAAAAAAAAAAAAAAAAAAAAAAAAAAAAAAAAAAAAAAAAAAAAAAAAAAAAAAAAAAAAAAAAAAAAAAAAAAAAAAAAAAAAAAAAAAAAAAAAAAAAAAAAAAAAAAAAAAAAAAAAAAAAAAAAAAAAAAAAAAAAAAAAAAAAAAAAAAAAAAAAAAAAAAAAAAAAAAAAAAAAAAAAAAAAAAAAAAAAAAAAAAAAAAAAAAAAAAAAAAAAAAAAAAAAAAAAAAAAAAAAAAAAAAAAAAAAAAAAAAAAAAAAAAAAAAAAAAAAAAAAAAAAAAAAAAAAAAAAAAAAAAAAAAAAAAAAAAAAAAAAAAAAAAAAAAAAAAAAAAAAAAAAAAAAAAAAAAAAAAAAAAAAAAAAAAAAAAAAAAAAAAAAAAAAAAAAAAAAAAAAAAAAAAAAAAAAAAAAAAAAAAAAAAAAAAAAAAAAAAAAAAAAAAAAAAAAAAAAAAAAAAAAAAAAAAAAAAAAAAAAAAAAAAAAAAAAAAAAAAAAAAAAAAAAAAAAAAAAAAAAAAAAAAAAAAAAAAAAAAAAAAAAAAAAAAAAAAAAAAAAAAAAAAAAAAAAAAAAAAAAAAAAAAAAAAAAAAAAAAAAAAAAAAAAAAAAAAAAAAAAAAAAAAAAAAAAAAAAAAAAAAAAAAAAAAAAAAAAAAAAAAAAAAAAAAAAAAAAAAAAAAAAAAAAAAAAAAAAAAAAAAAAAAAAAAAAAAAAAAAAAAAAAAAAAAAAAAAAAAAAAAAAAAAAAAAAAAAAAAAAAAAAAAAAAAAAAAAAAAAAAAAAAAAAAAAAAAAAAAAAAAAAAAAAAAAAAAAAAAAAAAAAAAAAAAAAAAAAAAAAAAAAAAAAAAAAAAAAAAAAAAAAAAAAAAAAAAAAAAAAAAAAAAAAAAAAAAAAAAAAAAAAAAAAAAAAAAAAAAAAAAAAAAAAAAAAAAAAAAAAAAAAAAAAAAAAAAAAAAAAAAAAAAAAAAAAAAAAAAAAAAAAAAAAAAAAAAAAAAAAAAAAAAAAAAAAAAAAAAAAAAAAAAAAAAAAAAAAAAAAAAAAAAAAAAAAAAAAAAAAAAAAAAAAAAAAAAAAAAAAAAAAAAAAAAAAAAAAAAAAAAAAAAAAAAAAAAAAAAAAAAAAAAAAAAAAAAAAAAAAAAAAAAAAAAAAAAAAAAAAAAAAAAAAAAAAAAAAAAAAAAAAAAAAAAAAAAAAAAAAAAAAAAAAAAAAAAAAAAAAAAAAAAAAAAAAAAAAAAAAAAAAAAAAAAAAAAAAAAAAAAAAAAAAAAAAAAAAAAAAAAAAAAAAAAAAAAAAAAAAAAAAAAAAAAAAAAAAAAAAAAAAAAAAAAAAAAAAAAAAAAAAAAAAAAAAAAAAAAAAAAAAAAAAAAAAAAAAAAAAAAAAAAAAAAAAAAAAAAAAAAAAAAAAAAAAAAAAAAAAAAAAAAAAAAAAAAAAAAAAAAAAAAAAAAAAAAAAAAAAAAAAAAAAAAAAAAAAAAAEZlcm5hbmRvIEFudG9uaW8gQ2FydmFsaG8gUGVzc29hAAAABZADAAIAAAAUAAAQupAEAAIAAAAUAAAQzpKRAAIAAAADODIAAJKSAAIAAAADODIAAOocAAcAAAgMAAAIrgAAAAAc6gAAAAgAAAAAAAAAAAAAAAAAAAAAAAAAAAAAAAAAAAAAAAAAAAAAAAAAAAAAAAAAAAAAAAAAAAAAAAAAAAAAAAAAAAAAAAAAAAAAAAAAAAAAAAAAAAAAAAAAAAAAAAAAAAAAAAAAAAAAAAAAAAAAAAAAAAAAAAAAAAAAAAAAAAAAAAAAAAAAAAAAAAAAAAAAAAAAAAAAAAAAAAAAAAAAAAAAAAAAAAAAAAAAAAAAAAAAAAAAAAAAAAAAAAAAAAAAAAAAAAAAAAAAAAAAAAAAAAAAAAAAAAAAAAAAAAAAAAAAAAAAAAAAAAAAAAAAAAAAAAAAAAAAAAAAAAAAAAAAAAAAAAAAAAAAAAAAAAAAAAAAAAAAAAAAAAAAAAAAAAAAAAAAAAAAAAAAAAAAAAAAAAAAAAAAAAAAAAAAAAAAAAAAAAAAAAAAAAAAAAAAAAAAAAAAAAAAAAAAAAAAAAAAAAAAAAAAAAAAAAAAAAAAAAAAAAAAAAAAAAAAAAAAAAAAAAAAAAAAAAAAAAAAAAAAAAAAAAAAAAAAAAAAAAAAAAAAAAAAAAAAAAAAAAAAAAAAAAAAAAAAAAAAAAAAAAAAAAAAAAAAAAAAAAAAAAAAAAAAAAAAAAAAAAAAAAAAAAAAAAAAAAAAAAAAAAAAAAAAAAAAAAAAAAAAAAAAAAAAAAAAAAAAAAAAAAAAAAAAAAAAAAAAAAAAAAAAAAAAAAAAAAAAAAAAAAAAAAAAAAAAAAAAAAAAAAAAAAAAAAAAAAAAAAAAAAAAAAAAAAAAAAAAAAAAAAAAAAAAAAAAAAAAAAAAAAAAAAAAAAAAAAAAAAAAAAAAAAAAAAAAAAAAAAAAAAAAAAAAAAAAAAAAAAAAAAAAAAAAAAAAAAAAAAAAAAAAAAAAAAAAAAAAAAAAAAAAAAAAAAAAAAAAAAAAAAAAAAAAAAAAAAAAAAAAAAAAAAAAAAAAAAAAAAAAAAAAAAAAAAAAAAAAAAAAAAAAAAAAAAAAAAAAAAAAAAAAAAAAAAAAAAAAAAAAAAAAAAAAAAAAAAAAAAAAAAAAAAAAAAAAAAAAAAAAAAAAAAAAAAAAAAAAAAAAAAAAAAAAAAAAAAAAAAAAAAAAAAAAAAAAAAAAAAAAAAAAAAAAAAAAAAAAAAAAAAAAAAAAAAAAAAAAAAAAAAAAAAAAAAAAAAAAAAAAAAAAAAAAAAAAAAAAAAAAAAAAAAAAAAAAAAAAAAAAAAAAAAAAAAAAAAAAAAAAAAAAAAAAAAAAAAAAAAAAAAAAAAAAAAAAAAAAAAAAAAAAAAAAAAAAAAAAAAAAAAAAAAAAAAAAAAAAAAAAAAAAAAAAAAAAAAAAAAAAAAAAAAAAAAAAAAAAAAAAAAAAAAAAAAAAAAAAAAAAAAAAAAAAAAAAAAAAAAAAAAAAAAAAAAAAAAAAAAAAAAAAAAAAAAAAAAAAAAAAAAAAAAAAAAAAAAAAAAAAAAAAAAAAAAAAAAAAAAAAAAAAAAAAAAAAAAAAAAAAAAAAAAAAAAAAAAAAAAAAAAAAAAAAAAAAAAAAAAAAAAAAAAAAAAAAAAAAAAAAAAAAAAAAAAAAAAAAAAAAAAAAAAAAAAAAAAAAAAAAAAAAAAAAAAAAAAAAAAAAAAAAAAAAAAAAAAAAAAAAAAAAAAAAAAAAAAAAAAAAAAAAAAAAAAAAAAAAAAAAAAAAAAAAAAAAAAAAAAAAAAAAAAAAAAAAAAAAAAAAAAAAAAAAAAAAAAAAAAAAAAAAAAAAAAAAAAAAAAAAAAAAAAAAAAAAAAAAAAAAAAAAAAAAAAAAAAAAAAAAAAAAAAAAAAAAAAAAAAAAAAAAAAAAAAAAAAAAAAAAAAAAAAAAAAAAAAAAAAAAAAAAAAAAAAAAAAAAAAAAAAAAAAAAAAAAAAAAAAAAAAAAAAAAAAAAAAAAAAAAAAAAAAAAAAAAAAAAAAAAAAAAAAAAAAAAAAAAAAAAAAAAAAAAAAAAAAAAAAAAAAAAAAAAAAAAAAAAAAAAAAAAAAAAAAAAAAAAAAAAAAAAAAAAAAAAAAAAAAAAAAAAAAAAAAAAAAAAAAAAAAAAAAAAAAAAAAAAAAAAAAAAAAAAAAAAAAAAAAAAAAAAAAAAAAAAAAAAAAAAAAAAAAAAAAAAAAAAAAAAAAAAAAAAAAAAAAAAAAAAAAAAAAAAAAAAAAAAAAAAAAAAAAAAAAAAAAAAAAAAAAAAAAAAAAAAAAAAAAAAAAAAAAAAAAAAAAAAAAAAAAAAAAAAAAAAAAAAAAAAAAAAAAAAAAAAAAAAAAAAAAAAAAAAAAAAAAAAAAAAAAAAAAAAAAAAAAAAAAAAAAAAAAAAAAAAAAAAAAAAAAAAAAAAAAAAAAAAAAAAAAAAAAAAAAAAAAAAAAAAAAAAAAAAAAAAAAAAAAAAAAAAAAAAAAAAAAAAAAAAAAAAAAAAAAAAAAAAAAAAAAAAAAAAAAAAAAAAAAAAAAAAAAAAAAAAAAAAAAAAAAAAAAAAAAAAAAAAAAAAAAAAAAAAAAAAAAAAAAAAAAAAAAAAAAAAAAAAAAAAAAAAAAAAAAAAAAAAAAAAAAAAAAAAAAAAAAAAAAAAAAAAAAAAAAAAAAAAAAAAAAAAAAAAAAAAAAAAAAAAAAAAAAAAAAAAAAAAAAAAAAAAAAAAAAAAAAAAAAAAAAAAAAAAAAAAAAAAAAAAAAAAAAAAAAAAAAAAAAAAAAAAAAAAAAAAAAAAAAAAAAAAAAAAAAAAADIwMjE6MDU6MjUgMTA6NTg6MTgAMjAyMTowNToyNSAxMDo1ODoxOAAAAEYAZQByAG4AYQBuAGQAbwAgAEEAbgB0AG8AbgBpAG8AIABDAGEAcgB2AGEAbABoAG8AIABQAGUAcwBzAG8AYQAAAP/hCzNodHRwOi8vbnMuYWRvYmUuY29tL3hhcC8xLjAvADw/eHBhY2tldCBiZWdpbj0n77u/JyBpZD0nVzVNME1wQ2VoaUh6cmVTek5UY3prYzlkJz8+DQo8eDp4bXBtZXRhIHhtbG5zOng9ImFkb2JlOm5zOm1ldGEvIj48cmRmOlJERiB4bWxuczpyZGY9Imh0dHA6Ly93d3cudzMub3JnLzE5OTkvMDIvMjItcmRmLXN5bnRheC1ucyMiPjxyZGY6RGVzY3JpcHRpb24gcmRmOmFib3V0PSJ1dWlkOmZhZjViZGQ1LWJhM2QtMTFkYS1hZDMxLWQzM2Q3NTE4MmYxYiIgeG1sbnM6ZGM9Imh0dHA6Ly9wdXJsLm9yZy9kYy9lbGVtZW50cy8xLjEvIi8+PHJkZjpEZXNjcmlwdGlvbiByZGY6YWJvdXQ9InV1aWQ6ZmFmNWJkZDUtYmEzZC0xMWRhLWFkMzEtZDMzZDc1MTgyZjFiIiB4bWxuczp4bXA9Imh0dHA6Ly9ucy5hZG9iZS5jb20veGFwLzEuMC8iPjx4bXA6Q3JlYXRlRGF0ZT4yMDIxLTA1LTI1VDEwOjU4OjE4LjgxNTwveG1wOkNyZWF0ZURhdGU+PC9yZGY6RGVzY3JpcHRpb24+PHJkZjpEZXNjcmlwdGlvbiByZGY6YWJvdXQ9InV1aWQ6ZmFmNWJkZDUtYmEzZC0xMWRhLWFkMzEtZDMzZDc1MTgyZjFiIiB4bWxuczpkYz0iaHR0cDovL3B1cmwub3JnL2RjL2VsZW1lbnRzLzEuMS8iPjxkYzpjcmVhdG9yPjxyZGY6U2VxIHhtbG5zOnJkZj0iaHR0cDovL3d3dy53My5vcmcvMTk5OS8wMi8yMi1yZGYtc3ludGF4LW5zIyI+PHJkZjpsaT5GZXJuYW5kbyBBbnRvbmlvIENhcnZhbGhvIFBlc3NvYTwvcmRmOmxpPjwvcmRmOlNlcT4NCgkJCTwvZGM6Y3JlYXRvcj48L3JkZjpEZXNjcmlwdGlvbj48L3JkZjpSREY+PC94OnhtcG1ldGE+DQogICAgICAgICAgICAgICAgICAgICAgICAgICAgICAgICAgICAgICAgICAgICAgICAgICAgICAgICAgICAgICAgICAgICAgICAgICAgICAgICAgICAgICAgICAgICAgICAgICAgCiAgICAgICAgICAgICAgICAgICAgICAgICAgICAgICAgICAgICAgICAgICAgICAgICAgICAgICAgICAgICAgICAgICAgICAgICAgICAgICAgICAgICAgICAgICAgICAgICAgICAKICAgICAgICAgICAgICAgICAgICAgICAgICAgICAgICAgICAgICAgICAgICAgICAgICAgICAgICAgICAgICAgICAgICAgICAgICAgICAgICAgICAgICAgICAgICAgICAgICAgIAogICAgICAgICAgICAgICAgICAgICAgICAgICAgICAgICAgICAgICAgICAgICAgICAgICAgICAgICAgICAgICAgICAgICAgICAgICAgICAgICAgICAgICAgICAgICAgICAgICAgCiAgICAgICAgICAgICAgICAgICAgICAgICAgICAgICAgICAgICAgICAgICAgICAgICAgICAgICAgICAgICAgICAgICAgICAgICAgICAgICAgICAgICAgICAgICAgICAgICAgICAKICAgICAgICAgICAgICAgICAgICAgICAgICAgICAgICAgICAgICAgICAgICAgICAgICAgICAgICAgICAgICAgICAgICAgICAgICAgICAgICAgICAgICAgICAgICAgICAgICAgIAogICAgICAgICAgICAgICAgICAgICAgICAgICAgICAgICAgICAgICAgICAgICAgICAgICAgICAgICAgICAgICAgICAgICAgICAgICAgICAgICAgICAgICAgICAgICAgICAgICAgCiAgICAgICAgICAgICAgICAgICAgICAgICAgICAgICAgICAgICAgICAgICAgICAgICAgICAgICAgICAgICAgICAgICAgICAgICAgICAgICAgICAgICAgICAgICAgICAgICAgICAKICAgICAgICAgICAgICAgICAgICAgICAgICAgICAgICAgICAgICAgICAgICAgICAgICAgICAgICAgICAgICAgICAgICAgICAgICAgICAgICAgICAgICAgICAgICAgICAgICAgIAogICAgICAgICAgICAgICAgICAgICAgICAgICAgICAgICAgICAgICAgICAgICAgICAgICAgICAgICAgICAgICAgICAgICAgICAgICAgICAgICAgICAgICAgICAgICAgICAgICAgCiAgICAgICAgICAgICAgICAgICAgICAgICAgICAgICAgICAgICAgICAgICAgICAgICAgICAgICAgICAgICAgICAgICAgICAgICAgICAgICAgICAgICAgICAgICAgICAgICAgICAKICAgICAgICAgICAgICAgICAgICAgICAgICAgICAgICAgICAgICAgICAgICAgICAgICAgICAgICAgICAgICAgICAgICAgICAgICAgICAgICAgICAgICAgICAgICAgICAgICAgIAogICAgICAgICAgICAgICAgICAgICAgICAgICAgICAgICAgICAgICAgICAgICAgICAgICAgICAgICAgICAgICAgICAgICAgICAgICAgICAgICAgICAgICAgICAgICAgICAgICAgCiAgICAgICAgICAgICAgICAgICAgICAgICAgICAgICAgICAgICAgICAgICAgICAgICAgICAgICAgICAgICAgICAgICAgICAgICAgICAgICAgICAgICAgICAgICAgICAgICAgICAKICAgICAgICAgICAgICAgICAgICAgICAgICAgICAgICAgICAgICAgICAgICAgICAgICAgICAgICAgICAgICAgICAgICAgICAgICAgICAgICAgICAgICAgICAgICAgICAgICAgIAogICAgICAgICAgICAgICAgICAgICAgICAgICAgICAgICAgICAgICAgICAgICAgICAgICAgICAgICAgICAgICAgICAgICAgICAgICAgICAgICAgICAgICAgICAgICAgICAgICAgCiAgICAgICAgICAgICAgICAgICAgICAgICAgICAgICAgICAgICAgICAgICAgICAgICAgICAgICAgICAgICAgICAgICAgICAgICAgICAgICAgICAgICAgICAgICAgICAgICAgICAKICAgICAgICAgICAgICAgICAgICAgICAgICAgICAgICAgICAgICAgICAgICAgICAgICAgICAgICAgICAgICAgICAgICAgICAgICAgICAgICAgICAgICAgICAgICAgICAgICAgIAogICAgICAgICAgICAgICAgICAgICAgICAgICAgICAgICAgICAgICAgICAgICAgICAgICAgICAgICAgICAgICAgICAgICAgICAgICAgICAgICAgICAgICAgICAgICAgICAgICAgCiAgICAgICAgICAgICAgICAgICAgICAgICAgICAgICAgICAgICAgICAgICAgICAgICAgICAgICAgICAgICAgICAgICAgICAgICAgICAgICAgICAgICAgICAgICAgICAgICAgICAKICAgICAgICAgICAgICAgICAgICAgICAgICAgIDw/eHBhY2tldCBlbmQ9J3cnPz7/2wBDAAcFBQYFBAcGBQYIBwcIChELCgkJChUPEAwRGBUaGRgVGBcbHichGx0lHRcYIi4iJSgpKywrGiAvMy8qMicqKyr/2wBDAQcICAoJChQLCxQqHBgcKioqKioqKioqKioqKioqKioqKioqKioqKioqKioqKioqKioqKioqKioqKioqKioqKir/wAARCABLAQUDASIAAhEBAxEB/8QAHwAAAQUBAQEBAQEAAAAAAAAAAAECAwQFBgcICQoL/8QAtRAAAgEDAwIEAwUFBAQAAAF9AQIDAAQRBRIhMUEGE1FhByJxFDKBkaEII0KxwRVS0fAkM2JyggkKFhcYGRolJicoKSo0NTY3ODk6Q0RFRkdISUpTVFVWV1hZWmNkZWZnaGlqc3R1dnd4eXqDhIWGh4iJipKTlJWWl5iZmqKjpKWmp6ipqrKztLW2t7i5usLDxMXGx8jJytLT1NXW19jZ2uHi4+Tl5ufo6erx8vP09fb3+Pn6/8QAHwEAAwEBAQEBAQEBAQAAAAAAAAECAwQFBgcICQoL/8QAtREAAgECBAQDBAcFBAQAAQJ3AAECAxEEBSExBhJBUQdhcRMiMoEIFEKRobHBCSMzUvAVYnLRChYkNOEl8RcYGRomJygpKjU2Nzg5OkNERUZHSElKU1RVVldYWVpjZGVmZ2hpanN0dXZ3eHl6goOEhYaHiImKkpOUlZaXmJmaoqOkpaanqKmqsrO0tba3uLm6wsPExcbHyMnK0tPU1dbX2Nna4uPk5ebn6Onq8vP09fb3+Pn6/9oADAMBAAIRAxEAPwD6Ju3dNnluUznOAOfzqt50/wDz3b/vlf8ACp7z+D8arUAO86f/AJ7t/wB8r/hR50//AD3b/vlf8KbRQA7zp/8Anu3/AHyv+FHnT/8APdv++V/wptFADvOn/wCe7f8AfK/4UedP/wA92/75X/Cm0UAO86f/AJ7t/wB8r/hR50//AD3b/vlf8KbRQA7zp/8Anu3/AHyv+FHnT/8APdv++V/wptFADvOn/wCe7f8AfK/4UedP/wA92/75X/Cm0UAO86f/AJ7t/wB8r/hR50//AD3b/vlf8KbRQA7zp/8Anu3/AHyv+FHnT/8APdv++V/wptFADvOn/wCe7f8AfK/4UedP/wA92/75X/Cm0UAO86f/AJ7t/wB8r/hR50//AD3b/vlf8KbRQA7zp/8Anu3/AHyv+FHnT/8APdv++V/wptFADvOn/wCe7f8AfK/4UedP/wA92/75X/Cm0UAO86f/AJ7t/wB8r/hR50//AD3b/vlf8KbRQA7zp/8Anu3/AHyv+FHnT/8APdv++V/wptFADvOn/wCe7f8AfK/4UedP/wA92/75X/Cm0UAWLfzZd26dxjHQL/hRS2f8f4UUAF5/B+NVqs3n8H41WoAKKKKAIJr22t32TzIjYzhjUZ1OyWF5WuoxGmNzbuBmua8VgnVUwP8AlkP5msS7B/4RfU+D/wAsv/Qq8uljZTxqwzWl7XI5vesd2mu6XLIqR38DMxwAH6mpm1OyRirXMYIOCC3SvF9GU/23Z8H/AFy9veupv/8AkIT/APXQ/wA692vRVJpJmh339q2P/P1F/wB9UHVbERSSG6iCRKXdt3CqO5rzmlnGfDuuY/6B0n81rlk7K5rRpqpVjB9Wl97O2/4TDw9/0GLT/v4KP+Ew8Pf9Bi0/7+CvmDY390/lTa4Prcux+g/6oYf/AJ+v8D6h/wCEw8Pf9Bi0/wC/gqez8R6PqF0ttZajbzzNnbGj5JwMmvlgKT0BP0Fdn8KAR8SNPyCPkl6/9c2qoYmUpJWOXGcL0MPh6lZVG3FN9OiPoem7x5mzvjNOqA/8fw/65/1ruPgieiiud8aeKofCmiG5K+bcynZbxf3m/wAKUmoq7NqNGpXqKlTV2zcuby3s4991PHCvq7AVSt/EejXcvl22p20j/wB0SCvP9M8C3fiV11Lx1qcnmz4aOxR9uwHpkdvpWvffCjwubf8AdiWzccLKsvQ/jWXPUeqR60sHl9J+zq1m5d4xul97u/kd2CCMg5HqKWvK9O1bV/h9rlvpuuXJv9Fum2wXZOdn4/0r1NWDqGU5BGQR3q4T5vU4cZg5YVpp80ZaprZ/5NdULRXNXGsa1BczLDprTrH5nG0qDjlcHvkDH1NKdb1mJgp0aST96qlwcZVs849sYP1FHOifqdS10196Okorlzr2ublB0V14RjtyeCCSDx1HFQr4i17ySp0aTzNgPmbGwCT0xjPSjnRSwNV9vvR11Fc1/aevXmlq0Gn/AGW688R4kGQV/vdsCmza9rlvvU6I0pVCQyE4bDlfT0G76MKOdC+pVG7Jq/qjp6K5M674g/ebNJb5JGxlG5XzMAdOu3nPvUn9v621t539iyJtPKclm5+lHOh/UavdfejqKK5n/hIdYCKzaHL8xwAM5GMdePf9K6aqUkznq0J0rc3XzTLNn/H+FFFn/H+FFMxC8/g/GsbWbmW1sg8DbW3gZxWzefwfjWbfWS30AidioDZyK48dCrUw04UX7zWnQ1ouMaictjAttWvZLhVebIOf4R6V5Xc/ETxPHdzIupsFV2AHlJ0z9K9lTQYIG8wSudoPp6V5jP4R8Otcys13f5LknAX1+lYZBiIZXRms2nrJ6X97S3zMs0w2IxsovALRb20IvEnjTXbVNKaG8AaexWWQmJDuYswzyPYVHp3jLXLjwtrdxNdq0tuIfLPkpxliDxjmpfFtv4atJtMgv5tQzHYqIzEq8rubGc9+tRaRF4Ym8M62lvNqPkkQ+cWVdw+Y4xXqRrUJVlNWte/y/wCGPHnlmaUpPEVE1TSet9NrfmZuh+N9eudesYZrqMxyTqrD7PGMgn/drt7/AP5CE/8A10P865DRbDwquuWTW8+pmUTLsDqmM571v6l4r8PQ6pcxzC+8xZCG2quM5rsrzp12vYrYeBrqMW6k7/O5Yrd8JIsmqTK6hlMBBBGQfmWoNLs9M1bSob+3luVjmztDAZGDitGAWPh23vNT3TSJb27M64HIBB4rhbSdme5TpTqJSgr32OR8QTeI7ebUvIvvDa2kZk2xEp5oQZ4xj72P1rjPDfhTS9ct4mudVnW7uJCogtbRpPK93PAAqzqWoeBdRvrq9kj1YTXDtIQCuAxOfyqzpXjbSLPQ9NtmF9byWMhZo7Zgq3HPVjXnNxlLVn6XSp4mhhuWhBqTte0Uuj9b6+he8OWsvhPSvFyqIJ7rTyoSSSMMM464NdF8NNSj8WNJqGoWNtFqGmSAJPbxCPerqwwQOvf9K5KHxroM194jGoRXhtNXdSvlgblAGDW78PfEmjQa/a6F4Zs544bpnkuJ7lsu22NiAMe9XTlFSST0ODMKFeWGrTnTfO0nzbJJRXMvzVj1moD/AMfw/wCuf9anqA/8fw/65/1rvPz4nrzPxHGNY+NWi6bc/Nb20PnhD0J+Zv8A2UV6ZXmnxCWXw94z0bxXGheCM+RcYHRf/rgmsa3w38z2cm1xEox+Jxko+rWhifF6zlh8X6bd6cZPtckDP8p6eWdwI/DP5VR+IPjBvFGk6bDp+fLitxc3YU/cc/LtP0/rXX6/p2r+IPGmi63o0NvdaXboCJC/31fh8j6Vk3vwz1Kw0XVrfSYoZ5L66ATc2CkA5H45rnnGTcuXZn02CxWEp08Oq7XPBaa7XbTT7WVmjX1/Q7Y/BhYlBP2W2WaNmOSG+v410ngW9kv/AAPpc8xJkMIUk98HH9K47xhq91Y+ArHw3Oif2xeosLwRHO1f/r13vhvTP7G8N2OnnrBCFb69T+praHx6djwsbzRwP7x3cqkmvS1m/Rs4BPFt/pHj7WGv7t5NNVZkiic/KjpGJBj64IqbwV4j1m28O6nc6qZdTuYriNVSSVUCBkB5Y8ADPNa+sfDi31hb0TXjKbq9W6yF+7hSpX8QalvvACXUd6Ir0xG4v0vUHlgqpVcBSO4qVGonc6pYrLalJQdk2op6P7Nu2ut3e3Yjt/iNBLpNxcPYE3UN0LVbeKZXWRz0w44x71W8TeKNTh8PfaLqzuNGmgvYlkO8MroTzhh1FWV+HgNneJLqLmee5S6SZYwvlyKOwHGPaprnwTcalpr2+r6vLeSSXCTMzoAgCn7oXoM1VqjVjnjLLIVVONrX1+J6abdLb76jX+IES6AdX+wt5E1wILINMAbg5xk54Qcd6j/4WNCukT3LWDPc213Hay28U6uMv91lccEU+5+H0Etlc2kN20UDXQu7VNgIt5B1wD1B9KePApfSjbXF/vma9jumkSFUX5DwoUdBT/ekL+yrfP8Avbafpe/ntoPtvGF9O+p2p0Nk1DT9jPbm6XaUcZDb8YHArIm8bz6toK3hsbrT41v4oFkhuFPmknBwdvI9a1tY8EyandavPBqclqdUSFH2L91YwRj8c1Cnga7bR4tNu9YMsEE0UsKrAqhNhzjj1pP2m3+Q6cstSU9E7x/m00XN3T1vv+Ogy4+JNpb6rLD9l3WcM4t5Lj7QoYMTjIj6kZ7121ca3gBV1eW4t77yrWacTyQ+Spbd3Ac8gGuyrSHPrzHnY36paH1btrv5d+u+2hZs/wCP8KKLP+P8KK0POC8/g/Gq1Wbz+D8arUANkGY2A6kGvO5fD2qNM5Fo5BYkV6NRXl5hltLH8vtG1bsduFxk8LfkSdzxrxz4P13U9QsJLHT5Jljsljcr2YMxx+oqDQvBmv2vh3W7efTpUluBD5Sn+LDEn+de2UV1U8NGCST2Vv0NcRmFTEYWWFklaX39zxDR/BXiC31qzmm02VY45lZmPYA1W1jwN4juNavJodMlaOSZmVhjkZr3iiuyi/Y3sfNQy2lCPKmzjPCuj31j4TsrW6t2jmj37kPbJqzrel3lz4a1S3ggZ5ZrR0jUfxMccV1VFZTipycn1Pdw+Jlh4xjFfDb8D5r/AOFc+Kv+gRN+lH/CufFX/QIm/SvpSiuf6rDufT/63Yz+SP4/5nzX/wAK58Vf9Aib9K6j4deDNf0jxxZ3uo6dLBbxrIGdugyjAfqa9sopxw0YtO5jiOKMViKMqMoRtJNdevzCoT/x+j/rn/WpqK6j5QKq6jp1rq2ny2V/EssEy7WU1aoo3KjJxalF2aPLx4V8X+DJ3PhK7W+09m3C1mPK/n/SpX1n4lagv2eDRobJm4Mzdvzr0uisfZW2bR7H9rOfvVqUJS7ta/OzSZxHhTwCdN1A6xr9ydQ1V+d7crH9K7eiitIxUVZHnYnFVcVU9pVd3+CXZLoFFFFUcwUUUUAFFFFABRRRQAUUUUAWbP8Aj/Ciiz/j/CigDlviD8QdK8Cf2f8A2vb3k323zPL+yojY2bc53Mv98eveuM/4aB8K/wDQP1j/AL8xf/HK9X1PQtI1ryv7Z0uy1Dyc+X9rt0l2ZxnG4HGcD8hVD/hBfCX/AEK2i/8Agvi/+Jp6C1PN/wDhoHwr/wBA/WP+/MX/AMco/wCGgfCv/QP1j/vzF/8AHK9I/wCEF8Jf9Ctov/gvi/8AiaP+EF8Jf9Ctov8A4L4v/iaNBanm/wDw0D4V/wCgfrH/AH5i/wDjlH/DQPhX/oH6x/35i/8Ajlekf8IL4S/6FbRf/BfF/wDE0f8ACC+Ev+hW0X/wXxf/ABNGganm/wDw0D4V/wCgfrH/AH5i/wDjlH/DQPhX/oH6x/35i/8Ajlekf8IL4S/6FbRf/BfF/wDE0f8ACC+Ev+hW0X/wXxf/ABNGganm/wDw0D4V/wCgfrH/AH5i/wDjlH/DQPhX/oH6x/35i/8Ajlekf8IL4S/6FbRf/BfF/wDE0f8ACC+Ev+hW0X/wXxf/ABNGganm/wDw0D4V/wCgfrH/AH5i/wDjlH/DQPhX/oH6x/35i/8Ajlekf8IL4S/6FbRf/BfF/wDE0f8ACC+Ev+hW0X/wXxf/ABNGganm/wDw0D4V/wCgfrH/AH5i/wDjlH/DQPhX/oH6x/35i/8Ajlekf8IL4S/6FbRf/BfF/wDE0f8ACC+Ev+hW0X/wXxf/ABNGganm/wDw0D4V/wCgfrH/AH5i/wDjlH/DQPhX/oH6x/35i/8Ajlekf8IL4S/6FbRf/BfF/wDE0f8ACC+Ev+hW0X/wXxf/ABNGganm/wDw0D4V/wCgfrH/AH5i/wDjlH/DQPhX/oH6x/35i/8Ajlekf8IL4S/6FbRf/BfF/wDE0f8ACC+Ev+hW0X/wXxf/ABNGganm/wDw0D4V/wCgfrH/AH5i/wDjlH/DQPhX/oH6x/35i/8Ajlekf8IL4S/6FbRf/BfF/wDE0f8ACC+Ev+hW0X/wXxf/ABNGganm/wDw0D4V/wCgfrH/AH5i/wDjlH/DQPhX/oH6x/35i/8Ajlekf8IL4S/6FbRf/BfF/wDE0f8ACC+Ev+hW0X/wXxf/ABNGganm/wDw0D4V/wCgfrH/AH5i/wDjlH/DQPhX/oH6x/35i/8Ajlekf8IL4S/6FbRf/BfF/wDE0f8ACC+Ev+hW0X/wXxf/ABNGganm/wDw0D4V/wCgfrH/AH5i/wDjlH/DQPhX/oH6x/35i/8Ajlekf8IL4S/6FbRf/BfF/wDE0f8ACC+Ev+hW0X/wXxf/ABNGganm/wDw0D4V/wCgfrH/AH5i/wDjlH/DQPhX/oH6x/35i/8Ajlekf8IL4S/6FbRf/BfF/wDE0f8ACC+Ev+hW0X/wXxf/ABNGganm/wDw0D4V/wCgfrH/AH5i/wDjlH/DQPhX/oH6x/35i/8Ajlekf8IL4S/6FbRf/BfF/wDE0f8ACC+Ev+hW0X/wXxf/ABNGganm/wDw0D4V/wCgfrH/AH5i/wDjlH/DQPhX/oH6x/35i/8Ajlekf8IL4S/6FbRf/BfF/wDE0f8ACC+Ev+hW0X/wXxf/ABNGgamJ4F+JOkeM/t39l219F9k8vzPtEaLnduxjax/umiup07w/o2keZ/ZOkWNj5uPM+zWyR78ZxnaBnGT+ZooHqf/Z)\n",
        "\n",
        "#CLASSIFICAÇÃO\n",
        "Prof. Dr. Marcelo Novaes de Rezende\n",
        "\n",
        "TURMA 01A – MATRÍCULA 92104843    \n",
        "Fernando Antonio Carvalho Pessoa\n",
        "\n",
        "Tarefa da trilha 5: certificar a acurácia do Algoritmo Random Forest com 2, 4, 8, 20 e 50 árvores de decisão\n",
        "#simulação com profundidade 4"
      ]
    },
    {
      "cell_type": "markdown",
      "metadata": {
        "id": "Oy_PP-JP9mbz"
      },
      "source": [
        "#importação de bibliotecas"
      ]
    },
    {
      "cell_type": "code",
      "metadata": {
        "id": "jzh0ucTi8MIc"
      },
      "source": [
        "import numpy as np\n",
        "from sklearn.datasets import load_iris\n",
        "from sklearn.ensemble import RandomForestClassifier\n",
        "from sklearn import tree\n",
        "import time\n",
        "import matplotlib.pyplot as plt\n",
        "from sklearn.metrics import accuracy_score"
      ],
      "execution_count": 133,
      "outputs": []
    },
    {
      "cell_type": "markdown",
      "metadata": {
        "id": "egMxCMj99uou"
      },
      "source": [
        "#Carregando Dataset Iris"
      ]
    },
    {
      "cell_type": "code",
      "metadata": {
        "id": "oVDskbMX8MId"
      },
      "source": [
        "data = load_iris()\n",
        "X=data['data']\n",
        "Y=data['target']"
      ],
      "execution_count": 12,
      "outputs": []
    },
    {
      "cell_type": "markdown",
      "metadata": {
        "id": "WcCHdE-x91Yr"
      },
      "source": [
        "#Listando dataset\n",
        "5 primeiras linhas, target, features e target label"
      ]
    },
    {
      "cell_type": "code",
      "metadata": {
        "colab": {
          "base_uri": "https://localhost:8080/"
        },
        "id": "qblexVJT8MId",
        "outputId": "32bbf1e4-71a2-4ec1-daed-d6ee64fabd0f"
      },
      "source": [
        "X[:5],Y[:5]"
      ],
      "execution_count": 13,
      "outputs": [
        {
          "output_type": "execute_result",
          "data": {
            "text/plain": [
              "(array([[5.1, 3.5, 1.4, 0.2],\n",
              "        [4.9, 3. , 1.4, 0.2],\n",
              "        [4.7, 3.2, 1.3, 0.2],\n",
              "        [4.6, 3.1, 1.5, 0.2],\n",
              "        [5. , 3.6, 1.4, 0.2]]), array([0, 0, 0, 0, 0]))"
            ]
          },
          "metadata": {
            "tags": []
          },
          "execution_count": 13
        }
      ]
    },
    {
      "cell_type": "code",
      "metadata": {
        "colab": {
          "base_uri": "https://localhost:8080/"
        },
        "id": "vK_E8Ofi8MIf",
        "outputId": "945f34c8-40e1-478c-c78c-a9b2793611d9"
      },
      "source": [
        "#Nomes das Features\n",
        "data['feature_names']"
      ],
      "execution_count": 14,
      "outputs": [
        {
          "output_type": "execute_result",
          "data": {
            "text/plain": [
              "['sepal length (cm)',\n",
              " 'sepal width (cm)',\n",
              " 'petal length (cm)',\n",
              " 'petal width (cm)']"
            ]
          },
          "metadata": {
            "tags": []
          },
          "execution_count": 14
        }
      ]
    },
    {
      "cell_type": "code",
      "metadata": {
        "colab": {
          "base_uri": "https://localhost:8080/"
        },
        "id": "04ttGq1F8MIf",
        "outputId": "c72422f3-f3d4-4f1c-fe99-5288b0870d44"
      },
      "source": [
        "data['target_names']"
      ],
      "execution_count": 15,
      "outputs": [
        {
          "output_type": "execute_result",
          "data": {
            "text/plain": [
              "array(['setosa', 'versicolor', 'virginica'], dtype='<U10')"
            ]
          },
          "metadata": {
            "tags": []
          },
          "execution_count": 15
        }
      ]
    },
    {
      "cell_type": "markdown",
      "metadata": {
        "id": "SqulfQXJDtbc"
      },
      "source": [
        ""
      ]
    },
    {
      "cell_type": "markdown",
      "metadata": {
        "id": "69L5XDmq_dAS"
      },
      "source": [
        "#Verificar acurácia da arvore de decisão 2 árvores, profundidade = 4\n",
        "Criação, treinamento, teste, classificação e probabilidade do modelo"
      ]
    },
    {
      "cell_type": "code",
      "metadata": {
        "id": "yBFy5Bh48MIg"
      },
      "source": [
        "rf02=RandomForestClassifier(n_estimators=2, max_depth=4,random_state=51)"
      ],
      "execution_count": 208,
      "outputs": []
    },
    {
      "cell_type": "code",
      "metadata": {
        "colab": {
          "base_uri": "https://localhost:8080/"
        },
        "id": "ubNggWcB-0Kj",
        "outputId": "19ff8495-d2de-4127-9bc3-44fb248e81a5"
      },
      "source": [
        "rf02.fit(X,Y)"
      ],
      "execution_count": 209,
      "outputs": [
        {
          "output_type": "execute_result",
          "data": {
            "text/plain": [
              "RandomForestClassifier(bootstrap=True, ccp_alpha=0.0, class_weight=None,\n",
              "                       criterion='gini', max_depth=6, max_features='auto',\n",
              "                       max_leaf_nodes=None, max_samples=None,\n",
              "                       min_impurity_decrease=0.0, min_impurity_split=None,\n",
              "                       min_samples_leaf=1, min_samples_split=2,\n",
              "                       min_weight_fraction_leaf=0.0, n_estimators=2,\n",
              "                       n_jobs=None, oob_score=False, random_state=51, verbose=0,\n",
              "                       warm_start=False)"
            ]
          },
          "metadata": {
            "tags": []
          },
          "execution_count": 209
        }
      ]
    },
    {
      "cell_type": "code",
      "metadata": {
        "colab": {
          "base_uri": "https://localhost:8080/"
        },
        "id": "RqA-GbZmAWwT",
        "outputId": "88546968-3f7e-46f3-e4c6-b4fa5e2897a3"
      },
      "source": [
        "inicio = time.time()\n",
        "ye02 = rf02.predict(X)\n",
        "termino = time.time()\n",
        "tempo02 = termino - inicio\n",
        "print('Modelo levou {:.4f} segundos'.format(tempo02))"
      ],
      "execution_count": 210,
      "outputs": [
        {
          "output_type": "stream",
          "text": [
            "Modelo levou 0.0018 segundos\n"
          ],
          "name": "stdout"
        }
      ]
    },
    {
      "cell_type": "code",
      "metadata": {
        "colab": {
          "base_uri": "https://localhost:8080/"
        },
        "id": "oMQwlt5rD7GC",
        "outputId": "8abf9b06-ac44-4e46-8c5a-ab2245961a9c"
      },
      "source": [
        "ac02 = accuracy_score(Y,ye02)\n",
        "ac02"
      ],
      "execution_count": 211,
      "outputs": [
        {
          "output_type": "execute_result",
          "data": {
            "text/plain": [
              "0.96"
            ]
          },
          "metadata": {
            "tags": []
          },
          "execution_count": 211
        }
      ]
    },
    {
      "cell_type": "markdown",
      "metadata": {
        "id": "rjyfCOUdA-7M"
      },
      "source": [
        "#Verificar acurácia da arvore de decisão 4 árvores, profundidade = 4\n",
        "Criação, treinamento, teste, classificação e probabilidade do modelo"
      ]
    },
    {
      "cell_type": "code",
      "metadata": {
        "id": "GPPKfIdcBFeH"
      },
      "source": [
        "rf04=RandomForestClassifier(n_estimators=4, max_depth=4,random_state=51)"
      ],
      "execution_count": 212,
      "outputs": []
    },
    {
      "cell_type": "code",
      "metadata": {
        "colab": {
          "base_uri": "https://localhost:8080/"
        },
        "id": "D0B4Is-FBMwz",
        "outputId": "3b25ddd3-8c46-4723-abc3-afb4f3e250b5"
      },
      "source": [
        "rf04.fit(X,Y)"
      ],
      "execution_count": 213,
      "outputs": [
        {
          "output_type": "execute_result",
          "data": {
            "text/plain": [
              "RandomForestClassifier(bootstrap=True, ccp_alpha=0.0, class_weight=None,\n",
              "                       criterion='gini', max_depth=6, max_features='auto',\n",
              "                       max_leaf_nodes=None, max_samples=None,\n",
              "                       min_impurity_decrease=0.0, min_impurity_split=None,\n",
              "                       min_samples_leaf=1, min_samples_split=2,\n",
              "                       min_weight_fraction_leaf=0.0, n_estimators=4,\n",
              "                       n_jobs=None, oob_score=False, random_state=51, verbose=0,\n",
              "                       warm_start=False)"
            ]
          },
          "metadata": {
            "tags": []
          },
          "execution_count": 213
        }
      ]
    },
    {
      "cell_type": "code",
      "metadata": {
        "colab": {
          "base_uri": "https://localhost:8080/"
        },
        "id": "oHIb6dD1BOzK",
        "outputId": "b16c800c-f6f4-43d8-aafe-9a3006e00e24"
      },
      "source": [
        "inicio = time.time()\n",
        "ye04 = rf04.predict(X)\n",
        "termino = time.time()\n",
        "tempo04 = termino - inicio\n",
        "print('Modelo levou {:.4f} segundos'.format(tempo04))"
      ],
      "execution_count": 214,
      "outputs": [
        {
          "output_type": "stream",
          "text": [
            "Modelo levou 0.0025 segundos\n"
          ],
          "name": "stdout"
        }
      ]
    },
    {
      "cell_type": "code",
      "metadata": {
        "colab": {
          "base_uri": "https://localhost:8080/"
        },
        "id": "0iDfEX5mBPsP",
        "outputId": "68f75c22-c1cd-4c2e-9caf-5bfe0761093d"
      },
      "source": [
        "ac04 = accuracy_score(Y,ye04)\n",
        "ac04"
      ],
      "execution_count": 215,
      "outputs": [
        {
          "output_type": "execute_result",
          "data": {
            "text/plain": [
              "0.98"
            ]
          },
          "metadata": {
            "tags": []
          },
          "execution_count": 215
        }
      ]
    },
    {
      "cell_type": "markdown",
      "metadata": {
        "id": "uDLm-D-yCK2E"
      },
      "source": [
        "#Verificar acurácia da arvore de decisão 8 árvores, profundidade = 4\n",
        "Criação, treinamento, teste, classificação e probabilidade do modelo"
      ]
    },
    {
      "cell_type": "code",
      "metadata": {
        "id": "XbAxjnOdCPxg"
      },
      "source": [
        "rf08=RandomForestClassifier(n_estimators=8, max_depth=4,random_state=51)"
      ],
      "execution_count": 216,
      "outputs": []
    },
    {
      "cell_type": "code",
      "metadata": {
        "colab": {
          "base_uri": "https://localhost:8080/"
        },
        "id": "NUqQ8auWCPlP",
        "outputId": "b2f67ecb-a682-4a87-b623-09c1ac262421"
      },
      "source": [
        "rf08.fit(X,Y)"
      ],
      "execution_count": 217,
      "outputs": [
        {
          "output_type": "execute_result",
          "data": {
            "text/plain": [
              "RandomForestClassifier(bootstrap=True, ccp_alpha=0.0, class_weight=None,\n",
              "                       criterion='gini', max_depth=6, max_features='auto',\n",
              "                       max_leaf_nodes=None, max_samples=None,\n",
              "                       min_impurity_decrease=0.0, min_impurity_split=None,\n",
              "                       min_samples_leaf=1, min_samples_split=2,\n",
              "                       min_weight_fraction_leaf=0.0, n_estimators=8,\n",
              "                       n_jobs=None, oob_score=False, random_state=51, verbose=0,\n",
              "                       warm_start=False)"
            ]
          },
          "metadata": {
            "tags": []
          },
          "execution_count": 217
        }
      ]
    },
    {
      "cell_type": "code",
      "metadata": {
        "colab": {
          "base_uri": "https://localhost:8080/"
        },
        "id": "hTpvREBDCPWo",
        "outputId": "34fd040d-6678-48e8-92a6-b4fadad3f214"
      },
      "source": [
        "inicio = time.time()\n",
        "ye08 = rf08.predict(X)\n",
        "termino = time.time()\n",
        "tempo08 = termino - inicio\n",
        "print('Modelo levou {:.4f} segundos'.format(tempo08))"
      ],
      "execution_count": 219,
      "outputs": [
        {
          "output_type": "stream",
          "text": [
            "Modelo levou 0.0022 segundos\n"
          ],
          "name": "stdout"
        }
      ]
    },
    {
      "cell_type": "code",
      "metadata": {
        "colab": {
          "base_uri": "https://localhost:8080/"
        },
        "id": "WV9hIGctCfTb",
        "outputId": "3c607e70-7233-4555-c23b-e873e856128f"
      },
      "source": [
        "ac08 = accuracy_score(Y,ye08)\n",
        "ac08"
      ],
      "execution_count": 220,
      "outputs": [
        {
          "output_type": "execute_result",
          "data": {
            "text/plain": [
              "0.9933333333333333"
            ]
          },
          "metadata": {
            "tags": []
          },
          "execution_count": 220
        }
      ]
    },
    {
      "cell_type": "markdown",
      "metadata": {
        "id": "QH0rxClSClVl"
      },
      "source": [
        "#Verificar acurácia da arvore de decisão 20 árvores, profundidade = 4\n",
        "Criação, treinamento, teste, classificação e probabilidade do modelo"
      ]
    },
    {
      "cell_type": "code",
      "metadata": {
        "id": "1TyIqAQMCt7V"
      },
      "source": [
        "rf20=RandomForestClassifier(n_estimators=20, max_depth=4,random_state=51)"
      ],
      "execution_count": 221,
      "outputs": []
    },
    {
      "cell_type": "code",
      "metadata": {
        "colab": {
          "base_uri": "https://localhost:8080/"
        },
        "id": "Gl_6nMLCCtzN",
        "outputId": "0ec34857-5186-4271-cbf5-7dd54de76ebc"
      },
      "source": [
        "rf20.fit(X,Y)"
      ],
      "execution_count": 222,
      "outputs": [
        {
          "output_type": "execute_result",
          "data": {
            "text/plain": [
              "RandomForestClassifier(bootstrap=True, ccp_alpha=0.0, class_weight=None,\n",
              "                       criterion='gini', max_depth=6, max_features='auto',\n",
              "                       max_leaf_nodes=None, max_samples=None,\n",
              "                       min_impurity_decrease=0.0, min_impurity_split=None,\n",
              "                       min_samples_leaf=1, min_samples_split=2,\n",
              "                       min_weight_fraction_leaf=0.0, n_estimators=20,\n",
              "                       n_jobs=None, oob_score=False, random_state=51, verbose=0,\n",
              "                       warm_start=False)"
            ]
          },
          "metadata": {
            "tags": []
          },
          "execution_count": 222
        }
      ]
    },
    {
      "cell_type": "code",
      "metadata": {
        "colab": {
          "base_uri": "https://localhost:8080/"
        },
        "id": "iNVlXf20CtrU",
        "outputId": "a42d623e-3424-4bd1-d84a-894c982b07a1"
      },
      "source": [
        "inicio = time.time()\n",
        "ye20 = rf20.predict(X)\n",
        "termino = time.time()\n",
        "tempo20 = termino - inicio\n",
        "print('Modelo levou {:.4f} segundos'.format(tempo20))"
      ],
      "execution_count": 223,
      "outputs": [
        {
          "output_type": "stream",
          "text": [
            "Modelo levou 0.0069 segundos\n"
          ],
          "name": "stdout"
        }
      ]
    },
    {
      "cell_type": "code",
      "metadata": {
        "colab": {
          "base_uri": "https://localhost:8080/"
        },
        "id": "Kx3830sLCtiJ",
        "outputId": "8c63b741-077b-4b5a-dc2a-26a17c459115"
      },
      "source": [
        "ac20 = accuracy_score(Y,ye20)\n",
        "ac20"
      ],
      "execution_count": 224,
      "outputs": [
        {
          "output_type": "execute_result",
          "data": {
            "text/plain": [
              "1.0"
            ]
          },
          "metadata": {
            "tags": []
          },
          "execution_count": 224
        }
      ]
    },
    {
      "cell_type": "markdown",
      "metadata": {
        "id": "HqZ1cj_XDCB_"
      },
      "source": [
        "#Verificar acurácia da arvore de decisão 50 árvores, profundidade = 4\n",
        "Criação, treinamento, teste, classificação e probabilidade do modelo"
      ]
    },
    {
      "cell_type": "code",
      "metadata": {
        "id": "_K-h13RjDOEX"
      },
      "source": [
        "rf50=RandomForestClassifier(n_estimators=20, max_depth=4,random_state=51)"
      ],
      "execution_count": 202,
      "outputs": []
    },
    {
      "cell_type": "code",
      "metadata": {
        "colab": {
          "base_uri": "https://localhost:8080/"
        },
        "id": "JprPKkhFDN75",
        "outputId": "8c93d5ad-1418-49d7-c252-c3f05ffbd50b"
      },
      "source": [
        "rf50.fit(X,Y)"
      ],
      "execution_count": 203,
      "outputs": [
        {
          "output_type": "execute_result",
          "data": {
            "text/plain": [
              "RandomForestClassifier(bootstrap=True, ccp_alpha=0.0, class_weight=None,\n",
              "                       criterion='gini', max_depth=6, max_features='auto',\n",
              "                       max_leaf_nodes=None, max_samples=None,\n",
              "                       min_impurity_decrease=0.0, min_impurity_split=None,\n",
              "                       min_samples_leaf=1, min_samples_split=2,\n",
              "                       min_weight_fraction_leaf=0.0, n_estimators=20,\n",
              "                       n_jobs=None, oob_score=False, random_state=51, verbose=0,\n",
              "                       warm_start=False)"
            ]
          },
          "metadata": {
            "tags": []
          },
          "execution_count": 203
        }
      ]
    },
    {
      "cell_type": "code",
      "metadata": {
        "colab": {
          "base_uri": "https://localhost:8080/"
        },
        "id": "bhpHOG0dDNze",
        "outputId": "300c7464-d0fc-4cc7-b4c2-1701faa53746"
      },
      "source": [
        "inicio = time.time()\n",
        "ye50 = rf50.predict(X)\n",
        "termino = time.time()\n",
        "tempo50 = termino - inicio\n",
        "print('Modelo levou {:.4f} segundos'.format(tempo50))"
      ],
      "execution_count": 204,
      "outputs": [
        {
          "output_type": "stream",
          "text": [
            "Modelo levou 0.0091 segundos\n"
          ],
          "name": "stdout"
        }
      ]
    },
    {
      "cell_type": "code",
      "metadata": {
        "colab": {
          "base_uri": "https://localhost:8080/"
        },
        "id": "ewcZvmT3DNqV",
        "outputId": "b97d4f97-617d-4301-8b1b-65c0fde88f80"
      },
      "source": [
        "ac50 = accuracy_score(Y,ye50)\n",
        "ac50"
      ],
      "execution_count": 205,
      "outputs": [
        {
          "output_type": "execute_result",
          "data": {
            "text/plain": [
              "1.0"
            ]
          },
          "metadata": {
            "tags": []
          },
          "execution_count": 205
        }
      ]
    },
    {
      "cell_type": "markdown",
      "metadata": {
        "id": "2V32RzB8IQE5"
      },
      "source": [
        "# Comparação da acurácia e tempo de processamento entre as arvores"
      ]
    },
    {
      "cell_type": "code",
      "metadata": {
        "colab": {
          "base_uri": "https://localhost:8080/"
        },
        "id": "AlN-1Is5IVq4",
        "outputId": "5cc5f996-e895-4a9d-8a91-8042a0bd6fbb"
      },
      "source": [
        "arv02 = float( ac02)\n",
        "print(\"Qtde de Arvore     Acurácia     Tempo de Processamento\")\n",
        "print(\"     02              {:.2f}     \".format(ac02*100),'       {:.4f} '.format(tempo02))\n",
        "print(\"     04              {:.2f}     \".format(ac04*100),'       {:.4f} '.format(tempo04))\n",
        "print(\"     08              {:.2f}     \".format(ac08*100),'       {:.4f} '.format(tempo08))\n",
        "print(\"     20              {:.2f}     \".format(ac20*100),'       {:.4f} '.format(tempo20))\n",
        "print(\"     50              {:.2f}     \".format(ac50*100),'       {:.4f} '.format(tempo50))"
      ],
      "execution_count": 186,
      "outputs": [
        {
          "output_type": "stream",
          "text": [
            "Qtde de Arvore     Acurácia     Tempo de Processamento\n",
            "     02              96.00             0.0011 \n",
            "     04              98.00             0.0042 \n",
            "     08              97.33             0.0022 \n",
            "     20              98.00             0.0087 \n",
            "     50              98.00             0.0031 \n"
          ],
          "name": "stdout"
        }
      ]
    },
    {
      "cell_type": "markdown",
      "metadata": {
        "id": "I_4fup7IOIr5"
      },
      "source": [
        "# A Random Florest mais eficiente foi a de 50 arvores com 98% de acurácia e tempo de processamento de 0.0031s"
      ]
    },
    {
      "cell_type": "markdown",
      "metadata": {
        "id": "hpQzoK4vOdwE"
      },
      "source": [
        "Primeira árvora da floresta de 50"
      ]
    },
    {
      "cell_type": "code",
      "metadata": {
        "colab": {
          "base_uri": "https://localhost:8080/"
        },
        "id": "tE1vW4UqOem0",
        "outputId": "2f2d9dca-25d4-4127-ccec-a3f03a363981"
      },
      "source": [
        "rf50.estimators_[0].predict(X)"
      ],
      "execution_count": 187,
      "outputs": [
        {
          "output_type": "execute_result",
          "data": {
            "text/plain": [
              "array([0., 0., 0., 0., 0., 0., 0., 0., 0., 0., 0., 0., 0., 0., 0., 0., 0.,\n",
              "       0., 0., 0., 0., 0., 0., 0., 0., 0., 0., 0., 0., 0., 0., 0., 0., 0.,\n",
              "       0., 0., 0., 0., 0., 0., 0., 0., 0., 0., 0., 0., 0., 0., 0., 0., 1.,\n",
              "       1., 1., 1., 1., 1., 1., 1., 1., 1., 1., 1., 1., 1., 1., 1., 1., 1.,\n",
              "       1., 1., 1., 1., 1., 1., 1., 1., 1., 1., 1., 1., 1., 1., 1., 1., 1.,\n",
              "       1., 1., 1., 1., 1., 1., 1., 1., 1., 1., 1., 1., 1., 1., 1., 2., 2.,\n",
              "       2., 2., 2., 2., 2., 2., 2., 2., 2., 2., 2., 2., 2., 2., 2., 2., 2.,\n",
              "       1., 2., 2., 2., 2., 2., 2., 1., 2., 2., 1., 2., 2., 2., 1., 1., 2.,\n",
              "       2., 2., 1., 2., 2., 2., 2., 2., 2., 2., 2., 2., 2., 2.])"
            ]
          },
          "metadata": {
            "tags": []
          },
          "execution_count": 187
        }
      ]
    },
    {
      "cell_type": "code",
      "metadata": {
        "colab": {
          "base_uri": "https://localhost:8080/",
          "height": 482
        },
        "id": "9v2zkAMwPD9f",
        "outputId": "7466cfa1-70e7-4567-9c0f-fc55b38ffe66"
      },
      "source": [
        "plt.figure(figsize=(8,8))\n",
        "tree.plot_tree(rf50.estimators_[0],feature_names=['sep comp','sep larg','pet comp','per larg'],class_names=['setosa','virginica','versicolor'],fontsize=10)\n",
        "plt.show"
      ],
      "execution_count": 189,
      "outputs": [
        {
          "output_type": "execute_result",
          "data": {
            "text/plain": [
              "<function matplotlib.pyplot.show>"
            ]
          },
          "metadata": {
            "tags": []
          },
          "execution_count": 189
        },
        {
          "output_type": "display_data",
          "data": {
            "image/png": "[encoded data removed]",
            "text/plain": [
              "<Figure size 576x576 with 1 Axes>"
            ]
          },
          "metadata": {
            "tags": [],
            "needs_background": "light"
          }
        }
      ]
    },
    {
      "cell_type": "markdown",
      "metadata": {
        "id": "Y1M3CqHGReKt"
      },
      "source": [
        "# As florestas de 20 e 50 árvores com uma profundidade = 6 atingem 100% de acurácia, sendo que nessa simulação a floresta de 20 árvores leva vantagem no tempo de processamento com 0.0069s"
      ]
    },
    {
      "cell_type": "code",
      "metadata": {
        "colab": {
          "base_uri": "https://localhost:8080/"
        },
        "id": "5XSJcu-fRsHs",
        "outputId": "fcdee125-38a7-4326-9edd-cd2781047be6"
      },
      "source": [
        "arv02 = float( ac02)\n",
        "print(\"Qtde de Arvore     Acurácia     Tempo de Processamento\")\n",
        "print(\"     02              {:.2f}     \".format(ac02*100),'       {:.4f} '.format(tempo02))\n",
        "print(\"     04              {:.2f}     \".format(ac04*100),'       {:.4f} '.format(tempo04))\n",
        "print(\"     08              {:.2f}     \".format(ac08*100),'       {:.4f} '.format(tempo08))\n",
        "print(\"     20              {:.2f}    \".format(ac20*100),'       {:.4f} '.format(tempo20))\n",
        "print(\"     50              {:.2f}    \".format(ac50*100),'       {:.4f} '.format(tempo50))"
      ],
      "execution_count": 226,
      "outputs": [
        {
          "output_type": "stream",
          "text": [
            "Qtde de Arvore     Acurácia     Tempo de Processamento\n",
            "     02              96.00             0.0018 \n",
            "     04              98.00             0.0025 \n",
            "     08              99.33             0.0022 \n",
            "     20              100.00            0.0069 \n",
            "     50              100.00            0.0091 \n"
          ],
          "name": "stdout"
        }
      ]
    }
  ]
}