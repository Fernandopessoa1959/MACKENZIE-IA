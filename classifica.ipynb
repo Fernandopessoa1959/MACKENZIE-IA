{
 "cells": [
  {
   "cell_type": "code",
   "execution_count": 1,
   "metadata": {
    "id": "IxBgY5pOa9P4"
   },
   "outputs": [],
   "source": [
    "#Curso Inteligência Artificial\n",
    "#Curador: Prof. Dr. Marcelo Novaes de Rezende\n",
    "#Trilha 1 - Classificação: tipos e métricas"
   ]
  },
  {
   "cell_type": "code",
   "execution_count": 2,
   "metadata": {
    "id": "WDXSSzoLbgZQ"
   },
   "outputs": [],
   "source": [
    "import numpy as np"
   ]
  },
  {
   "cell_type": "code",
   "execution_count": 3,
   "metadata": {
    "id": "fPmf5BcmbZQF"
   },
   "outputs": [],
   "source": [
    "#probabilidade de cada amostra ser positiva\n",
    "prob=np.array([0.3,0.6,0.9,0.2,0.7,0.2,0.55,0.33,0.78,0.99])\n",
    "#classe real de cada amostra\n",
    "classes=[0,1,1,0,1,0,0,0,1,1]"
   ]
  },
  {
   "cell_type": "code",
   "execution_count": 4,
   "metadata": {
    "id": "T2fM2M2-buAI"
   },
   "outputs": [],
   "source": [
    "#funcao classifica, recebe o threshold e as probabilidades de cada amostra ser classe 1\n",
    "def classifica(prob,threshold):\n",
    "  pred=[]\n",
    "  for i in range(len(prob)):\n",
    "    if prob[i]>threshold:\n",
    "      pred.append(1)\n",
    "    else:\n",
    "      pred.append(0)\n",
    "  return pred"
   ]
  },
  {
   "cell_type": "code",
   "execution_count": 5,
   "metadata": {
    "id": "uFDaDvD_c5NC"
   },
   "outputs": [],
   "source": [
    "#função que obtém acurácia\n",
    "def acur(yreal,ypred):\n",
    "  certos=0\n",
    "  for i in range(len(yreal)):\n",
    "    if yreal[i]==ypred[i]:certos+=1\n",
    "  return certos/len(yreal)"
   ]
  },
  {
   "cell_type": "code",
   "execution_count": 6,
   "metadata": {
    "id": "Xw-3UXlsdswp"
   },
   "outputs": [],
   "source": [
    "#função que obtém TP,FP,TN,FN\n",
    "def posneg(yreal,ypred):\n",
    "  tp,fp,tn,fn=0,0,0,0\n",
    "  for i in range(len(yreal)):\n",
    "    if yreal[i]==1 and ypred[i]==1:tp+=1\n",
    "    elif yreal[i]==0 and ypred[i]==1:fp+=1\n",
    "    elif yreal[i]==0 and ypred[i]==0:tn+=1\n",
    "    else:fn+=1\n",
    "  return (tp,fp,tn,fn)"
   ]
  },
  {
   "cell_type": "code",
   "execution_count": 7,
   "metadata": {
    "colab": {
     "base_uri": "https://localhost:8080/"
    },
    "id": "GBS8FbUSeEjg",
    "outputId": "c3e73d7a-a925-4054-934d-b86e3e8e9981"
   },
   "outputs": [
    {
     "name": "stdout",
     "output_type": "stream",
     "text": [
      "[0, 1, 1, 0, 1, 0, 0, 0, 1, 1]\n",
      "[0, 1, 1, 0, 1, 0, 1, 0, 1, 1]\n"
     ]
    }
   ],
   "source": [
    "#Obter métricas com threshold 0.5\n",
    "pred05=classifica(prob,0.5)\n",
    "print(classes)\n",
    "print(pred05)"
   ]
  },
  {
   "cell_type": "code",
   "execution_count": 8,
   "metadata": {
    "colab": {
     "base_uri": "https://localhost:8080/"
    },
    "id": "O1xeFdNtd9Qg",
    "outputId": "c97ef4ca-370e-4084-fded-045bc22ae309"
   },
   "outputs": [
    {
     "data": {
      "text/plain": [
       "0.9"
      ]
     },
     "execution_count": 8,
     "metadata": {},
     "output_type": "execute_result"
    }
   ],
   "source": [
    "#acurácia com threshold 0.5\n",
    "acur(classes,pred05)"
   ]
  },
  {
   "cell_type": "code",
   "execution_count": 9,
   "metadata": {
    "colab": {
     "base_uri": "https://localhost:8080/"
    },
    "id": "d0iLkdsmegeH",
    "outputId": "7e07a30c-ad7e-4b48-ddb2-32c52ec18be4"
   },
   "outputs": [
    {
     "name": "stdout",
     "output_type": "stream",
     "text": [
      "5 0\n",
      "1 4\n"
     ]
    }
   ],
   "source": [
    "#ainda threshold 0.5...matriz de confusão\n",
    "tp,fp,tn,fn=posneg(classes,pred05)\n",
    "print(tp,fn)\n",
    "print(fp,tn)"
   ]
  },
  {
   "cell_type": "code",
   "execution_count": 10,
   "metadata": {
    "colab": {
     "base_uri": "https://localhost:8080/"
    },
    "id": "q0z49WJxhvpB",
    "outputId": "6cbdd1ee-1ca7-4508-8a23-a3d38d112929"
   },
   "outputs": [
    {
     "name": "stdout",
     "output_type": "stream",
     "text": [
      "0.8333333333333334 1.0 0.9090909090909091\n"
     ]
    }
   ],
   "source": [
    "#ainda threshold 0.5...precision, recall e f1-score\n",
    "prec=tp/(tp+fp)\n",
    "rec=tp/(tp+fn)\n",
    "f1=2*prec*rec/(prec+rec)\n",
    "print(prec,rec,f1)"
   ]
  },
  {
   "cell_type": "code",
   "execution_count": 11,
   "metadata": {
    "colab": {
     "base_uri": "https://localhost:8080/"
    },
    "id": "XG8jKy7aiTZE",
    "outputId": "11de1139-4cb7-4983-c202-13542b0c3708"
   },
   "outputs": [
    {
     "name": "stdout",
     "output_type": "stream",
     "text": [
      "[0, 1, 1, 0, 1, 0, 0, 0, 1, 1]\n",
      "[0, 0, 1, 0, 1, 0, 0, 0, 1, 1]\n"
     ]
    }
   ],
   "source": [
    "#Agora com threshold 0.6\n",
    "pred06=classifica(prob,0.6)\n",
    "print(classes)\n",
    "print(pred06)"
   ]
  },
  {
   "cell_type": "code",
   "execution_count": 12,
   "metadata": {
    "colab": {
     "base_uri": "https://localhost:8080/"
    },
    "id": "gP4jhruUidzH",
    "outputId": "d3156927-0e38-4b32-8405-30082dd2267c"
   },
   "outputs": [
    {
     "data": {
      "text/plain": [
       "0.9"
      ]
     },
     "execution_count": 12,
     "metadata": {},
     "output_type": "execute_result"
    }
   ],
   "source": [
    "#acurácia com threshold 0.6\n",
    "acur(classes,pred06)"
   ]
  },
  {
   "cell_type": "code",
   "execution_count": 13,
   "metadata": {
    "colab": {
     "base_uri": "https://localhost:8080/"
    },
    "id": "-pPyM3oIijjA",
    "outputId": "f7bb970a-76e7-403a-8140-0658ea49bb85"
   },
   "outputs": [
    {
     "name": "stdout",
     "output_type": "stream",
     "text": [
      "4 1\n",
      "0 5\n"
     ]
    }
   ],
   "source": [
    "#ainda threshold 0.6...matriz de confusão\n",
    "tp,fp,tn,fn=posneg(classes,pred06)\n",
    "print(tp,fn)\n",
    "print(fp,tn)"
   ]
  },
  {
   "cell_type": "code",
   "execution_count": 14,
   "metadata": {
    "colab": {
     "base_uri": "https://localhost:8080/"
    },
    "id": "KMsuJnh3ioqJ",
    "outputId": "601cb042-dd84-4b55-e4e7-d12f19e6455a"
   },
   "outputs": [
    {
     "name": "stdout",
     "output_type": "stream",
     "text": [
      "1.0 0.8 0.888888888888889\n"
     ]
    }
   ],
   "source": [
    "#ainda threshold 0.6...precision, recall e f1-score..observe o aumento de precision e diminuição do recall\n",
    "prec=tp/(tp+fp)\n",
    "rec=tp/(tp+fn)\n",
    "f1=2*prec*rec/(prec+rec)\n",
    "print(prec,rec,f1)"
   ]
  },
  {
   "cell_type": "code",
   "execution_count": null,
   "metadata": {
    "id": "Jd3dOm7gisuo"
   },
   "outputs": [],
   "source": []
  }
 ],
 "metadata": {
  "colab": {
   "name": "classifica.ipynb",
   "provenance": []
  },
  "kernelspec": {
   "display_name": "Python 3",
   "language": "python",
   "name": "python3"
  },
  "language_info": {
   "codemirror_mode": {
    "name": "ipython",
    "version": 3
   },
   "file_extension": ".py",
   "mimetype": "text/x-python",
   "name": "python",
   "nbconvert_exporter": "python",
   "pygments_lexer": "ipython3",
   "version": "3.7.6"
  }
 },
 "nbformat": 4,
 "nbformat_minor": 1
}
