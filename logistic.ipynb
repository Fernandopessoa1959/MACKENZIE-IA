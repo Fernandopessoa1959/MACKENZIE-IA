{
 "cells": [
  {
   "cell_type": "code",
   "execution_count": 1,
   "metadata": {
    "id": "580V87GcFQ7N"
   },
   "outputs": [],
   "source": [
    "#Curso Inteligência Artificial\n",
    "#Curador: Prof. Dr. Marcelo Novaes de Rezende\n",
    "#Trilha 2 - Regressão Logística"
   ]
  },
  {
   "cell_type": "code",
   "execution_count": 2,
   "metadata": {
    "id": "awqf5dPYFsew"
   },
   "outputs": [],
   "source": [
    "import numpy as np\n",
    "from sklearn.linear_model import LogisticRegression\n",
    "import matplotlib.pyplot as plt\n",
    "from sklearn.metrics import accuracy_score\n",
    "import math"
   ]
  },
  {
   "cell_type": "code",
   "execution_count": 3,
   "metadata": {
    "id": "Lgjqw6GOF3xI"
   },
   "outputs": [],
   "source": [
    "X=np.array([[0.5,0],[4,3],[3,2],[5,1],[2,1.8],[2,4],[3,3.2],[5,8],[4,5],[0,0.5]])\n",
    "y=np.array([0,0,0,0,0,1,1,1,1,1])"
   ]
  },
  {
   "cell_type": "code",
   "execution_count": 4,
   "metadata": {
    "colab": {
     "base_uri": "https://localhost:8080/",
     "height": 281
    },
    "id": "fc5IJ6_KGo7w",
    "outputId": "bde0b52d-2b43-4922-c7e3-b74b8bda7ed5"
   },
   "outputs": [
    {
     "data": {
      "image/png": "[encoded data removed]",
      "text/plain": [
       "<Figure size 432x288 with 1 Axes>"
      ]
     },
     "metadata": {
      "needs_background": "light"
     },
     "output_type": "display_data"
    }
   ],
   "source": [
    "cor=['bo','ro']\n",
    "plt.title('Dataset')\n",
    "for i in range(len(X)):\n",
    "  plt.text(X[i,0]+0.1,X[i,1],str(i))\n",
    "  plt.plot(X[i,0],X[i,1],cor[y[i]])\n",
    "plt.show()"
   ]
  },
  {
   "cell_type": "code",
   "execution_count": null,
   "metadata": {
    "colab": {
     "base_uri": "https://localhost:8080/"
    },
    "id": "t2l7YrPRG3SX",
    "outputId": "1a604def-b00f-4525-ea89-0df377fa187a"
   },
   "outputs": [
    {
     "data": {
      "text/plain": [
       "LogisticRegression(C=1.0, class_weight=None, dual=False, fit_intercept=True,\n",
       "                   intercept_scaling=1, l1_ratio=None, max_iter=100,\n",
       "                   multi_class='auto', n_jobs=None, penalty='l2',\n",
       "                   random_state=None, solver='lbfgs', tol=0.0001, verbose=0,\n",
       "                   warm_start=False)"
      ]
     },
     "execution_count": 21,
     "metadata": {
      "tags": []
     },
     "output_type": "execute_result"
    }
   ],
   "source": [
    "#treinando o modelo\n",
    "reg_log=LogisticRegression()\n",
    "reg_log.fit(X,y)"
   ]
  },
  {
   "cell_type": "code",
   "execution_count": null,
   "metadata": {
    "colab": {
     "base_uri": "https://localhost:8080/"
    },
    "id": "1cwAWsDWIr7s",
    "outputId": "1909049e-7b11-4065-dbc5-2d10b219a7c2"
   },
   "outputs": [
    {
     "name": "stdout",
     "output_type": "stream",
     "text": [
      "0 0\n",
      "1 0\n",
      "2 0\n",
      "3 0\n",
      "4 0\n",
      "5 1\n",
      "6 1\n",
      "7 1\n",
      "8 1\n",
      "9 0\n"
     ]
    }
   ],
   "source": [
    "#classificando a amostra de treinamento\n",
    "ypred=reg_log.predict(X)\n",
    "for i in range(len(X)):\n",
    "  print(i,ypred[i])"
   ]
  },
  {
   "cell_type": "code",
   "execution_count": null,
   "metadata": {
    "colab": {
     "base_uri": "https://localhost:8080/"
    },
    "id": "c6rR3fQvI8RN",
    "outputId": "34e3a0b8-4bb4-404e-f494-245290a9dce7"
   },
   "outputs": [
    {
     "data": {
      "text/plain": [
       "0.9"
      ]
     },
     "execution_count": 26,
     "metadata": {
      "tags": []
     },
     "output_type": "execute_result"
    }
   ],
   "source": [
    "accuracy_score(y,ypred)"
   ]
  },
  {
   "cell_type": "code",
   "execution_count": null,
   "metadata": {
    "colab": {
     "base_uri": "https://localhost:8080/"
    },
    "id": "9ro9WizjJQfn",
    "outputId": "d6de3f4b-8402-4a79-f677-b8babeee1edb"
   },
   "outputs": [
    {
     "data": {
      "text/plain": [
       "(array([-0.63976828]), array([[-0.78943197,  1.03284965]]))"
      ]
     },
     "execution_count": 28,
     "metadata": {
      "tags": []
     },
     "output_type": "execute_result"
    }
   ],
   "source": [
    "#Obter os thetas do modelo (theta0:intercept_, os outros thetas estão em .coef_ )\n",
    "reg_log.intercept_,reg_log.coef_"
   ]
  },
  {
   "cell_type": "code",
   "execution_count": null,
   "metadata": {
    "colab": {
     "base_uri": "https://localhost:8080/"
    },
    "id": "bW8xUjGnK9dG",
    "outputId": "5abf2e00-05ec-4d50-dd11-b63ac65c7a8b"
   },
   "outputs": [
    {
     "data": {
      "text/plain": [
       "0.8414889773098503"
      ]
     },
     "execution_count": 31,
     "metadata": {
      "tags": []
     },
     "output_type": "execute_result"
    }
   ],
   "source": [
    "#probabilidade para a amostra [1,3] ser positiva\n",
    "1/(1+math.exp(-(-0.6397682-0.78943197*1+1.03284965*3)))"
   ]
  },
  {
   "cell_type": "code",
   "execution_count": null,
   "metadata": {
    "colab": {
     "base_uri": "https://localhost:8080/"
    },
    "id": "yzr9KpoDLsDY",
    "outputId": "2607d5bd-2479-44c7-a541-6aa0e185e712"
   },
   "outputs": [
    {
     "data": {
      "text/plain": [
       "array([[0.15851103, 0.84148897]])"
      ]
     },
     "execution_count": 32,
     "metadata": {
      "tags": []
     },
     "output_type": "execute_result"
    }
   ],
   "source": [
    "#probabilidade da amostra [1,3] ser negativa e positiva usando .predict_proba\n",
    "reg_log.predict_proba([[1,3]])"
   ]
  },
  {
   "cell_type": "code",
   "execution_count": null,
   "metadata": {
    "colab": {
     "base_uri": "https://localhost:8080/"
    },
    "id": "TF_J2obdL500",
    "outputId": "23cd07c6-4649-4dba-f6c6-101d28926f5f"
   },
   "outputs": [
    {
     "data": {
      "text/plain": [
       "array([1])"
      ]
     },
     "execution_count": 33,
     "metadata": {
      "tags": []
     },
     "output_type": "execute_result"
    }
   ],
   "source": [
    "#Portanto, com threshold 0.5, a amostra [1,3] será classificada como positiva\n",
    "reg_log.predict([[1,3]])"
   ]
  },
  {
   "cell_type": "code",
   "execution_count": null,
   "metadata": {
    "id": "-KKLOT5UMVJF"
   },
   "outputs": [],
   "source": [
    "#traçar a reta que separa as classes...vamos fazer uma função x2=f(x1)\n",
    "#x2=-(theta1/theta2)x1-theta0/theta2\n",
    "def x2(x1,theta0,theta1,theta2):\n",
    "  return -(theta1/theta2)*x1-theta0/theta2"
   ]
  },
  {
   "cell_type": "code",
   "execution_count": null,
   "metadata": {
    "colab": {
     "base_uri": "https://localhost:8080/",
     "height": 281
    },
    "id": "csijsIW7PO_C",
    "outputId": "e6dc9f1e-a483-40a0-81e6-aeff02696dbf"
   },
   "outputs": [
    {
     "data": {
      "image/png": "[encoded data removed]",
      "text/plain": [
       "<Figure size 432x288 with 1 Axes>"
      ]
     },
     "metadata": {
      "needs_background": "light",
      "tags": []
     },
     "output_type": "display_data"
    }
   ],
   "source": [
    "cor=['bo','ro']\n",
    "plt.title('Dataset')\n",
    "for i in range(len(X)):\n",
    "  plt.text(X[i,0]+0.1,X[i,1],str(i))\n",
    "  plt.plot(X[i,0],X[i,1],cor[ypred[i]])\n",
    "  plt.plot([0,10],[x2(0,-0.63976828,-0.78943197,1.03284965),x2(10,-0.63976828,-0.78943197,1.03284965)],color='black')#reta\n",
    "plt.show()"
   ]
  },
  {
   "cell_type": "code",
   "execution_count": 5,
   "metadata": {
    "id": "s_k2MePbPgKQ"
   },
   "outputs": [
    {
     "data": {
      "text/plain": [
       "0.7643241879396484"
      ]
     },
     "execution_count": 5,
     "metadata": {},
     "output_type": "execute_result"
    }
   ],
   "source": [
    "0.78943197/1.03284965"
   ]
  },
  {
   "cell_type": "code",
   "execution_count": 6,
   "metadata": {},
   "outputs": [
    {
     "data": {
      "text/plain": [
       "0.6194205323107773"
      ]
     },
     "execution_count": 6,
     "metadata": {},
     "output_type": "execute_result"
    }
   ],
   "source": [
    "0.63976828/1.03284965"
   ]
  },
  {
   "cell_type": "code",
   "execution_count": null,
   "metadata": {},
   "outputs": [],
   "source": []
  }
 ],
 "metadata": {
  "colab": {
   "name": "logistic.ipynb",
   "provenance": []
  },
  "kernelspec": {
   "display_name": "Python 3",
   "language": "python",
   "name": "python3"
  },
  "language_info": {
   "codemirror_mode": {
    "name": "ipython",
    "version": 3
   },
   "file_extension": ".py",
   "mimetype": "text/x-python",
   "name": "python",
   "nbconvert_exporter": "python",
   "pygments_lexer": "ipython3",
   "version": "3.7.6"
  }
 },
 "nbformat": 4,
 "nbformat_minor": 1
}
